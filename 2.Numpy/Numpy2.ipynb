{
 "cells": [
  {
   "cell_type": "code",
   "execution_count": 2,
   "id": "af25412a",
   "metadata": {},
   "outputs": [],
   "source": [
    "import numpy as np"
   ]
  },
  {
   "cell_type": "markdown",
   "id": "3d0871e7",
   "metadata": {},
   "source": [
    "## 통계 함수\n",
    "- 배열 내 원소의 합계, 평균, 중앙값, 최댓값, 최솟값, 분산, 표준편차 등을 구할 때 통계함수인 sum(), mean(), median(), max(), min(), var(), std()를 사용한다."
   ]
  },
  {
   "cell_type": "markdown",
   "id": "c5569ae5",
   "metadata": {},
   "source": [
    "### sum() 함수\n",
    "- sum() 함수를 사용하여 배열에서 모든 원소를 더하거나 행 또는 열을 기준으로 합계를 구할 수 있다."
   ]
  },
  {
   "cell_type": "code",
   "execution_count": 3,
   "id": "eabae896",
   "metadata": {},
   "outputs": [
    {
     "data": {
      "text/plain": [
       "array([[1, 2, 3],\n",
       "       [4, 5, 6]])"
      ]
     },
     "execution_count": 3,
     "metadata": {},
     "output_type": "execute_result"
    }
   ],
   "source": [
    "owl6 = np.array([[1,2,3], [4,5,6]])\n",
    "owl6"
   ]
  },
  {
   "cell_type": "code",
   "execution_count": 4,
   "id": "6c80322f",
   "metadata": {},
   "outputs": [
    {
     "data": {
      "text/plain": [
       "np.int64(21)"
      ]
     },
     "execution_count": 4,
     "metadata": {},
     "output_type": "execute_result"
    }
   ],
   "source": [
    "# 배열 내 모든 원소를 다 더할 때\n",
    "np.sum(owl6)"
   ]
  },
  {
   "cell_type": "code",
   "execution_count": 5,
   "id": "95c83e94",
   "metadata": {},
   "outputs": [
    {
     "data": {
      "text/plain": [
       "array([5, 7, 9])"
      ]
     },
     "execution_count": 5,
     "metadata": {},
     "output_type": "execute_result"
    }
   ],
   "source": [
    "# 열의 원소 합계\n",
    "np.sum(owl6, axis = 0)"
   ]
  },
  {
   "cell_type": "code",
   "execution_count": 6,
   "id": "8d721b01",
   "metadata": {},
   "outputs": [
    {
     "data": {
      "text/plain": [
       "array([ 6, 15])"
      ]
     },
     "execution_count": 6,
     "metadata": {},
     "output_type": "execute_result"
    }
   ],
   "source": [
    "# 행의 원소 합계\n",
    "np.sum(owl6, axis = 1)"
   ]
  },
  {
   "cell_type": "markdown",
   "id": "0d13e4e8",
   "metadata": {},
   "source": [
    "### mean() 함수\n",
    "- mean() 함수를 사용하여 배열에서 모든 원소 또는 행이나 열을 기준으로 값들의 평균을 구할 수 있다."
   ]
  },
  {
   "cell_type": "code",
   "execution_count": 7,
   "id": "a9a1ab31",
   "metadata": {},
   "outputs": [
    {
     "data": {
      "text/plain": [
       "np.float64(3.5)"
      ]
     },
     "execution_count": 7,
     "metadata": {},
     "output_type": "execute_result"
    }
   ],
   "source": [
    "# 모든 원소의 평균을 구할 때\n",
    "np.mean(owl6)"
   ]
  },
  {
   "cell_type": "code",
   "execution_count": 8,
   "id": "5fbad146",
   "metadata": {},
   "outputs": [
    {
     "data": {
      "text/plain": [
       "array([2.5, 3.5, 4.5])"
      ]
     },
     "execution_count": 8,
     "metadata": {},
     "output_type": "execute_result"
    }
   ],
   "source": [
    "# 열별 원소 평균을 구할 때\n",
    "np.mean(owl6, axis = 0)"
   ]
  },
  {
   "cell_type": "code",
   "execution_count": 9,
   "id": "1fa59acd",
   "metadata": {},
   "outputs": [
    {
     "data": {
      "text/plain": [
       "array([2., 5.])"
      ]
     },
     "execution_count": 9,
     "metadata": {},
     "output_type": "execute_result"
    }
   ],
   "source": [
    "# 행별 원소 평균을 구할 때\n",
    "np.mean(owl6, axis = 1)"
   ]
  },
  {
   "cell_type": "markdown",
   "id": "4ec784e7",
   "metadata": {},
   "source": [
    "### median() 함수\n",
    "- 중앙값이란 원소를 작은 값에서 큰 값 순서로 나열했을 때 중앙에 위치하는 값\n",
    "- median() 함수를 사용하여 배열에서 모든 원소 또는 행이나 열을 기준으로 값들의 중앙값을 구할 수 있다."
   ]
  },
  {
   "cell_type": "code",
   "execution_count": 11,
   "id": "78befd87",
   "metadata": {},
   "outputs": [
    {
     "data": {
      "text/plain": [
       "array([[1, 4, 3, 7, 8],\n",
       "       [2, 1, 5, 3, 6],\n",
       "       [3, 3, 4, 1, 5]])"
      ]
     },
     "execution_count": 11,
     "metadata": {},
     "output_type": "execute_result"
    }
   ],
   "source": [
    "owl8 = np.array([[1,4,3,7,8], [2,1,5,3,6], [3,3,4,1,5]])\n",
    "owl8"
   ]
  },
  {
   "cell_type": "code",
   "execution_count": 12,
   "id": "79885166",
   "metadata": {},
   "outputs": [
    {
     "data": {
      "text/plain": [
       "np.float64(3.0)"
      ]
     },
     "execution_count": 12,
     "metadata": {},
     "output_type": "execute_result"
    }
   ],
   "source": [
    "# 모든 원소의 중앙값\n",
    "np.median(owl8)"
   ]
  },
  {
   "cell_type": "code",
   "execution_count": 13,
   "id": "b7daad03",
   "metadata": {},
   "outputs": [
    {
     "data": {
      "text/plain": [
       "array([2., 3., 4., 3., 6.])"
      ]
     },
     "execution_count": 13,
     "metadata": {},
     "output_type": "execute_result"
    }
   ],
   "source": [
    "# 열끼리 원소 중앙값\n",
    "np.median(owl8, axis = 0)"
   ]
  },
  {
   "cell_type": "code",
   "execution_count": 14,
   "id": "6a7c8cee",
   "metadata": {},
   "outputs": [
    {
     "data": {
      "text/plain": [
       "array([4., 3., 3.])"
      ]
     },
     "execution_count": 14,
     "metadata": {},
     "output_type": "execute_result"
    }
   ],
   "source": [
    "# 행끼리 원소 중앙값\n",
    "np.median(owl8, axis = 1)"
   ]
  },
  {
   "cell_type": "markdown",
   "id": "80a2a353",
   "metadata": {},
   "source": [
    "### max() 함수와 min() 함수\n",
    "- 배열의 원소 중 최댓값과 최솟값을 구할 때는 max() 함수와 min() 함수를 사용한다."
   ]
  },
  {
   "cell_type": "code",
   "execution_count": 15,
   "id": "48c4b658",
   "metadata": {},
   "outputs": [
    {
     "data": {
      "text/plain": [
       "np.int64(8)"
      ]
     },
     "execution_count": 15,
     "metadata": {},
     "output_type": "execute_result"
    }
   ],
   "source": [
    "# 배열 내 모든 원소들 중 최대값\n",
    "np.max(owl8)"
   ]
  },
  {
   "cell_type": "code",
   "execution_count": 16,
   "id": "3e4937db",
   "metadata": {},
   "outputs": [
    {
     "data": {
      "text/plain": [
       "np.int64(1)"
      ]
     },
     "execution_count": 16,
     "metadata": {},
     "output_type": "execute_result"
    }
   ],
   "source": [
    "# 배열 내 모든 원소들 중 최소값\n",
    "np.min(owl8)"
   ]
  },
  {
   "cell_type": "code",
   "execution_count": 17,
   "id": "0af03ae1",
   "metadata": {},
   "outputs": [
    {
     "data": {
      "text/plain": [
       "array([3, 4, 5, 7, 8])"
      ]
     },
     "execution_count": 17,
     "metadata": {},
     "output_type": "execute_result"
    }
   ],
   "source": [
    "# 열끼리 원소의 최대값\n",
    "np.max(owl8, axis = 0)"
   ]
  },
  {
   "cell_type": "code",
   "execution_count": 18,
   "id": "8677af0a",
   "metadata": {},
   "outputs": [
    {
     "data": {
      "text/plain": [
       "array([1, 1, 3, 1, 5])"
      ]
     },
     "execution_count": 18,
     "metadata": {},
     "output_type": "execute_result"
    }
   ],
   "source": [
    "# 열끼리 원소의 최솟값\n",
    "np.min(owl8, axis = 0)"
   ]
  },
  {
   "cell_type": "code",
   "execution_count": 19,
   "id": "58d21ad7",
   "metadata": {},
   "outputs": [
    {
     "data": {
      "text/plain": [
       "array([8, 6, 5])"
      ]
     },
     "execution_count": 19,
     "metadata": {},
     "output_type": "execute_result"
    }
   ],
   "source": [
    "# 행끼리 원소의 최대값\n",
    "np.max(owl8, axis = 1)"
   ]
  },
  {
   "cell_type": "code",
   "execution_count": 20,
   "id": "b1dcbc7e",
   "metadata": {},
   "outputs": [
    {
     "data": {
      "text/plain": [
       "array([1, 1, 1])"
      ]
     },
     "execution_count": 20,
     "metadata": {},
     "output_type": "execute_result"
    }
   ],
   "source": [
    "# 행끼리 원소의 최솟값\n",
    "np.min(owl8, axis = 1)"
   ]
  },
  {
   "cell_type": "markdown",
   "id": "38b0c50c",
   "metadata": {},
   "source": [
    "### argmax() 함수와 argmin() 함수\n",
    "- 최댓값과 최솟값에 해당하는 인덱스를 출력하려면 argmax() 함수와 argmin() 함수를 사용한다."
   ]
  },
  {
   "cell_type": "code",
   "execution_count": 21,
   "id": "012ab6f1",
   "metadata": {},
   "outputs": [
    {
     "data": {
      "text/plain": [
       "np.int64(4)"
      ]
     },
     "execution_count": 21,
     "metadata": {},
     "output_type": "execute_result"
    }
   ],
   "source": [
    "# 최댓값의 위치(인덱스) 출력\n",
    "np.argmax(owl8)"
   ]
  },
  {
   "cell_type": "code",
   "execution_count": 22,
   "id": "2771fc37",
   "metadata": {},
   "outputs": [
    {
     "data": {
      "text/plain": [
       "np.int64(0)"
      ]
     },
     "execution_count": 22,
     "metadata": {},
     "output_type": "execute_result"
    }
   ],
   "source": [
    "# 최솟값의 위치(인덱스) 출력\n",
    "np.argmin(owl8)"
   ]
  },
  {
   "cell_type": "markdown",
   "id": "1a1b8ea5",
   "metadata": {},
   "source": [
    "### 분산과 표준편차\n",
    "\n",
    "#### 분산 \n",
    "- 원소들이 평균에서 얼마나 흩어져 있는지를 분포로 나타냄(ppt 참조)\n",
    "- 분산값이 커질수록 평균에서 많이 흩어져 있다는 걸 알 수 있음 \n",
    "- var() 함수 사용 \n",
    "\n",
    "#### 표준편차\n",
    "- 원소들이 평균에서 얼마나 떨어져 있는지를 나타내는 수치(ppt 참조)\n",
    "- 표준편차값이 작을수록 평균값에서 원소들의 거리가 가깝다는 걸 알 수 있음\n",
    "- std() 함수 사용"
   ]
  },
  {
   "cell_type": "code",
   "execution_count": 24,
   "id": "4900ff8d",
   "metadata": {},
   "outputs": [
    {
     "data": {
      "text/plain": [
       "np.float64(4.328888888888889)"
      ]
     },
     "execution_count": 24,
     "metadata": {},
     "output_type": "execute_result"
    }
   ],
   "source": [
    "# 전체 원소들의 분산값\n",
    "np.var(owl8)"
   ]
  },
  {
   "cell_type": "code",
   "execution_count": 25,
   "id": "b5dd0c3b",
   "metadata": {},
   "outputs": [
    {
     "data": {
      "text/plain": [
       "np.float64(2.0805982045769644)"
      ]
     },
     "execution_count": 25,
     "metadata": {},
     "output_type": "execute_result"
    }
   ],
   "source": [
    "# 전체 원소들의 표준편차값\n",
    "np.std(owl8)"
   ]
  },
  {
   "cell_type": "code",
   "execution_count": 26,
   "id": "0d42b41c",
   "metadata": {},
   "outputs": [
    {
     "data": {
      "text/plain": [
       "array([0.66666667, 1.55555556, 0.66666667, 6.22222222, 1.55555556])"
      ]
     },
     "execution_count": 26,
     "metadata": {},
     "output_type": "execute_result"
    }
   ],
   "source": [
    "# 열끼리 원소의 분산\n",
    "np.var(owl8, axis = 0)"
   ]
  },
  {
   "cell_type": "code",
   "execution_count": 27,
   "id": "8096c62c",
   "metadata": {},
   "outputs": [
    {
     "data": {
      "text/plain": [
       "array([0.81649658, 1.24721913, 0.81649658, 2.49443826, 1.24721913])"
      ]
     },
     "execution_count": 27,
     "metadata": {},
     "output_type": "execute_result"
    }
   ],
   "source": [
    "# 열끼리 원소의 표준편차\n",
    "np.std(owl8, axis = 0)"
   ]
  },
  {
   "cell_type": "code",
   "execution_count": 28,
   "id": "3a8e5c52",
   "metadata": {},
   "outputs": [
    {
     "data": {
      "text/plain": [
       "array([6.64, 3.44, 1.76])"
      ]
     },
     "execution_count": 28,
     "metadata": {},
     "output_type": "execute_result"
    }
   ],
   "source": [
    "# 행끼리 원소의 분산\n",
    "np.var(owl8, axis = 1)"
   ]
  },
  {
   "cell_type": "code",
   "execution_count": null,
   "id": "f6792bdd",
   "metadata": {},
   "outputs": [],
   "source": [
    "# 행끼리 원소의 표준편차\n",
    "np.std(owl8, axis = 1 )"
   ]
  },
  {
   "cell_type": "markdown",
   "id": "8a31dd78",
   "metadata": {},
   "source": [
    "### 예시)부엉이 가족들 나이의 분산과 표준편차 "
   ]
  },
  {
   "cell_type": "code",
   "execution_count": null,
   "id": "4b67e8b6",
   "metadata": {},
   "outputs": [],
   "source": [
    "# 아들 : 4살, 딸 : 12살, 엄마 : 41살, 할아버지 : 60, 할머니 : 70\n",
    "owl_age = np.array([4,12,41,60,70])"
   ]
  },
  {
   "cell_type": "code",
   "execution_count": null,
   "id": "c0c270b3",
   "metadata": {},
   "outputs": [],
   "source": [
    "# 부엉이 가족들의 나이 평균 구하기\n",
    "age_mean = np.mean(owl_age)"
   ]
  },
  {
   "cell_type": "code",
   "execution_count": null,
   "id": "4dc815ac",
   "metadata": {},
   "outputs": [
    {
     "data": {
      "text/plain": [
       "np.float64(669.44)"
      ]
     },
     "execution_count": 36,
     "metadata": {},
     "output_type": "execute_result"
    }
   ],
   "source": [
    "# 부엉이 가족들의 나이 분산 구하기\n",
    "owl_var = np.sum((owl_age - age_mean)** 2 / 5)\n",
    "owl_var"
   ]
  },
  {
   "cell_type": "code",
   "execution_count": null,
   "id": "e21bfad4",
   "metadata": {},
   "outputs": [
    {
     "data": {
      "text/plain": [
       "np.float64(669.4399999999999)"
      ]
     },
     "execution_count": 34,
     "metadata": {},
     "output_type": "execute_result"
    }
   ],
   "source": [
    "# var() 함수를 통해 구하기\n",
    "np.var(owl_age)"
   ]
  },
  {
   "cell_type": "code",
   "execution_count": null,
   "id": "a024e6cd",
   "metadata": {},
   "outputs": [
    {
     "data": {
      "text/plain": [
       "np.float64(25.873538606073968)"
      ]
     },
     "execution_count": 37,
     "metadata": {},
     "output_type": "execute_result"
    }
   ],
   "source": [
    "# 표준편차 구하기\n",
    "owl_std = np.sqrt(owl_var)\n",
    "owl_std"
   ]
  },
  {
   "cell_type": "code",
   "execution_count": null,
   "id": "e91f2fe5",
   "metadata": {},
   "outputs": [
    {
     "data": {
      "text/plain": [
       "np.float64(25.873538606073964)"
      ]
     },
     "execution_count": 38,
     "metadata": {},
     "output_type": "execute_result"
    }
   ],
   "source": [
    "# std() 함수를 통해 구하기\n",
    "np.std(owl_age)"
   ]
  },
  {
   "cell_type": "markdown",
   "id": "65de8f5b",
   "metadata": {},
   "source": [
    "## 조건에 따른 선별 함수\n",
    "- 넘파이 배열 내 원소들 중 특정 조건을 만족하는 원소를 찾을 때 any(), all(), where() 함수를 사용한다."
   ]
  },
  {
   "cell_type": "markdown",
   "id": "0a2fa777",
   "metadata": {},
   "source": [
    "### any() 함수\n",
    "- any() 함수는 배열에서 특정 조건을 만족하는 원소가 1개라도 있을 때 'True'를 출력하고 없다면 'False'를 출력한다."
   ]
  },
  {
   "cell_type": "code",
   "execution_count": 39,
   "id": "6ab6a2c9",
   "metadata": {},
   "outputs": [
    {
     "data": {
      "text/plain": [
       "array([[ 1.9 , -0.6 , -0.7 ,  0.55, -0.9 ],\n",
       "       [ 0.1 ,  0.56, -0.78,  0.27,  0.6 ],\n",
       "       [-0.14,  0.04, -0.6 , -1.4 ,  0.9 ]])"
      ]
     },
     "execution_count": 39,
     "metadata": {},
     "output_type": "execute_result"
    }
   ],
   "source": [
    "owl9 = np.array([[1.9, -0.6, -0.7, 0.55, -0.9], [0.1, 0.56, -0.78, 0.27, 0.6],\n",
    "                 [ -0.14, 0.04, -0.6, -1.4, 0.9]])\n",
    "owl9"
   ]
  },
  {
   "cell_type": "code",
   "execution_count": null,
   "id": "7f8b06c7",
   "metadata": {},
   "outputs": [
    {
     "data": {
      "text/plain": [
       "np.True_"
      ]
     },
     "execution_count": 40,
     "metadata": {},
     "output_type": "execute_result"
    }
   ],
   "source": [
    "# any() 함수 사용\n",
    "np.any(owl9>0)"
   ]
  },
  {
   "cell_type": "markdown",
   "id": "4fed9b42",
   "metadata": {},
   "source": [
    "### all() 함수\n",
    "- all() 함수는 배열에서 특정 조건을 모든 원소가 만족할 때 'True'를 출력하고 그렇지 않으면 'False'를 출력한다."
   ]
  },
  {
   "cell_type": "code",
   "execution_count": 41,
   "id": "3101a497",
   "metadata": {},
   "outputs": [
    {
     "data": {
      "text/plain": [
       "np.False_"
      ]
     },
     "execution_count": 41,
     "metadata": {},
     "output_type": "execute_result"
    }
   ],
   "source": [
    "# all() 함수 사용\n",
    "np.all(owl9 > 0)"
   ]
  },
  {
   "cell_type": "markdown",
   "id": "f95e7627",
   "metadata": {},
   "source": [
    "### where 함수\n",
    "- 배열 내 원소들 중 특정 조건을 만족하는 것과 그렇지 않은 것에 대한 서로 다른 결과를 출력할 떄 사용한다.\n",
    "- 파이썬의 if ~ else절과 비슷하다."
   ]
  },
  {
   "cell_type": "code",
   "execution_count": 42,
   "id": "82077d93",
   "metadata": {},
   "outputs": [
    {
     "data": {
      "text/plain": [
       "array([[1.9 , 0.  , 0.  , 0.55, 0.  ],\n",
       "       [0.1 , 0.56, 0.  , 0.27, 0.6 ],\n",
       "       [0.  , 0.04, 0.  , 0.  , 0.9 ]])"
      ]
     },
     "execution_count": 42,
     "metadata": {},
     "output_type": "execute_result"
    }
   ],
   "source": [
    "# 조건(owl9 > 0)가 참일 때는 owl9(그대로), 거짓일 때는 0으로 설정\n",
    "np.where(owl9 > 0, owl9, 0)"
   ]
  },
  {
   "cell_type": "markdown",
   "id": "4f80e5d9",
   "metadata": {},
   "source": [
    "### 원소별로 하나씩 비교할 떄는?"
   ]
  },
  {
   "cell_type": "code",
   "execution_count": 44,
   "id": "6095d1f9",
   "metadata": {},
   "outputs": [
    {
     "data": {
      "text/plain": [
       "array([[ True, False, False,  True, False],\n",
       "       [ True,  True, False,  True,  True],\n",
       "       [False,  True, False, False,  True]])"
      ]
     },
     "execution_count": 44,
     "metadata": {},
     "output_type": "execute_result"
    }
   ],
   "source": [
    "# 비교 연산자를 활용하여 원소별로 하나씩 비교할 수 있다.\n",
    "owl9 > 0"
   ]
  },
  {
   "cell_type": "markdown",
   "id": "963e9558",
   "metadata": {},
   "source": [
    "## 차원 번경\n",
    "- reshape() 함수를 사용하여 배열의 모양을 번경할 수 있다."
   ]
  },
  {
   "cell_type": "code",
   "execution_count": 45,
   "id": "aa1ba7d6",
   "metadata": {},
   "outputs": [
    {
     "data": {
      "text/plain": [
       "array([1, 2, 3])"
      ]
     },
     "execution_count": 45,
     "metadata": {},
     "output_type": "execute_result"
    }
   ],
   "source": [
    "owl10 = np.array([1,2,3])\n",
    "owl10"
   ]
  },
  {
   "cell_type": "code",
   "execution_count": null,
   "id": "4e13782c",
   "metadata": {},
   "outputs": [
    {
     "data": {
      "text/plain": [
       "array([[1],\n",
       "       [2],\n",
       "       [3]])"
      ]
     },
     "execution_count": 46,
     "metadata": {},
     "output_type": "execute_result"
    }
   ],
   "source": [
    "# reshape() 함수 사용\n",
    "owl10.reshape(3,1)"
   ]
  },
  {
   "cell_type": "markdown",
   "id": "103f40f1",
   "metadata": {},
   "source": [
    "## 브로드캐스팅\n",
    "- 일정 조건만 맞으면 서로 다른 모양의 배열끼리 연산할 수 있도록 하는 기능이다.\n",
    "- 다음 조건 중 하나를 만족하면 브로드캐스팅이 가능하다.\n",
    "    - 한 배열의 차원이 1일 때\n",
    "    - 첫번째 배열의 행의 개수와 두번째 배열의 열의 개수가 같을 때"
   ]
  },
  {
   "cell_type": "code",
   "execution_count": 47,
   "id": "bb63670d",
   "metadata": {},
   "outputs": [
    {
     "data": {
      "text/plain": [
       "array([2, 3, 4])"
      ]
     },
     "execution_count": 47,
     "metadata": {},
     "output_type": "execute_result"
    }
   ],
   "source": [
    "### 유형 1\n",
    "owl10 + 1"
   ]
  },
  {
   "cell_type": "code",
   "execution_count": null,
   "id": "061bb9d6",
   "metadata": {},
   "outputs": [
    {
     "data": {
      "text/plain": [
       "array([[ 0,  2,  4],\n",
       "       [ 3,  5,  7],\n",
       "       [ 6,  8, 10]])"
      ]
     },
     "execution_count": 48,
     "metadata": {},
     "output_type": "execute_result"
    }
   ],
   "source": [
    "### 유형 2 - 앞 배열의 행갯수가 3, 뒷 배열의 열갯수도 3\n",
    "np.arange(9).reshape(3,3) + np.arange(3)"
   ]
  },
  {
   "cell_type": "code",
   "execution_count": null,
   "id": "27768eb1",
   "metadata": {},
   "outputs": [
    {
     "data": {
      "text/plain": [
       "array([[1, 2, 3],\n",
       "       [2, 3, 4],\n",
       "       [3, 4, 5]])"
      ]
     },
     "execution_count": 49,
     "metadata": {},
     "output_type": "execute_result"
    }
   ],
   "source": [
    "### 유형3 - 앞 배열의 행갯수가 3, 뒷 배열의 열갯수도 3\n",
    "owl10.reshape(3,1) + np.arange(3)"
   ]
  }
 ],
 "metadata": {
  "kernelspec": {
   "display_name": "3.11.11",
   "language": "python",
   "name": "python3"
  },
  "language_info": {
   "codemirror_mode": {
    "name": "ipython",
    "version": 3
   },
   "file_extension": ".py",
   "mimetype": "text/x-python",
   "name": "python",
   "nbconvert_exporter": "python",
   "pygments_lexer": "ipython3",
   "version": "3.11.11"
  }
 },
 "nbformat": 4,
 "nbformat_minor": 5
}
