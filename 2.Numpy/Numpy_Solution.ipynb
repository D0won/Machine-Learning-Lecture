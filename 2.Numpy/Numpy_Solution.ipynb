{
 "cells": [
  {
   "cell_type": "code",
   "execution_count": 2,
   "id": "f9615553",
   "metadata": {},
   "outputs": [],
   "source": [
    "import numpy as np"
   ]
  },
  {
   "cell_type": "markdown",
   "id": "0d40b75f",
   "metadata": {},
   "source": [
    "## Numpy 문제"
   ]
  },
  {
   "cell_type": "markdown",
   "id": "070109a8",
   "metadata": {},
   "source": [
    "1. Python list [1,2,3] 을 ndarray로 변환한 뒤 출력하시오."
   ]
  },
  {
   "cell_type": "code",
   "execution_count": 5,
   "id": "d520a2e7",
   "metadata": {},
   "outputs": [
    {
     "name": "stdout",
     "output_type": "stream",
     "text": [
      "[1 2 3]\n"
     ]
    }
   ],
   "source": [
    "arr = np.array([1,2,3])\n",
    "print(arr)"
   ]
  },
  {
   "cell_type": "markdown",
   "id": "8a0967d0",
   "metadata": {},
   "source": [
    "2. numpy를 np라는 별칭으로 불러온 뒤, 1차원 배열 [3, 6, 9, 12, 15]를 생성하고\n",
    "- 차원(ndim)\n",
    "- 형태(shape)\n",
    "- ndarray 내 데이터 타입(dtype) </br>\n",
    "을 출력하세요."
   ]
  },
  {
   "cell_type": "code",
   "execution_count": 4,
   "id": "5e6fc1a6",
   "metadata": {},
   "outputs": [
    {
     "name": "stdout",
     "output_type": "stream",
     "text": [
      "1 (5,) int64\n"
     ]
    }
   ],
   "source": [
    "# 리스트 생성\n",
    "list1 = [3,6,9,12,15]\n",
    "# 리스트를 넘파이 배열로 생성 후 arr 변수에 저장\n",
    "arr = np.array(list1)\n",
    "# 차원, 형태, 넘파이 배열 내 데이터 타입 출력\n",
    "print(arr.ndim, arr.shape, arr.dtype)"
   ]
  },
  {
   "cell_type": "markdown",
   "id": "7023e371",
   "metadata": {},
   "source": [
    "3. 다음 배열을 넘파이 배열로 만들고, ndarray의 주요 속성을 출력하시오.\n",
    "\n",
    "``` py\n",
    "[[10,20,30], [40,50,60]]\n",
    "```\n",
    "\n",
    "출력할 속성 : ndim, shape, size, dtype"
   ]
  },
  {
   "cell_type": "code",
   "execution_count": 7,
   "id": "532f9274",
   "metadata": {},
   "outputs": [
    {
     "name": "stdout",
     "output_type": "stream",
     "text": [
      "2 (2, 3) 6 int64\n"
     ]
    }
   ],
   "source": [
    "# 리스트 생성\n",
    "list2 = [[10,20,30], [40,50,60]]\n",
    "# 리스트를 넘파이 배열로 변환\n",
    "arr2 = np.array(list2)\n",
    "# ndim, shape, size, dtype을 출력\n",
    "print(arr2.ndim, arr2.shape, arr2.size, arr2.dtype)"
   ]
  },
  {
   "cell_type": "markdown",
   "id": "a846e8c3",
   "metadata": {},
   "source": [
    "4. 다음 코드를 실행했을 때 생성되는 배열 'arr'의 데이터 타입('dtype')은 무엇인가?\n",
    "``` py\n",
    "arr = np.array([10,20,30.5,40])\n",
    "```"
   ]
  },
  {
   "cell_type": "markdown",
   "id": "df585a12",
   "metadata": {},
   "source": [
    "- float(실수)\n",
    "- 30.5가 요소로 있어 다른 요소들이 자료형 메모리 크기가 더 큰 float로 형변환된다."
   ]
  },
  {
   "cell_type": "markdown",
   "id": "d908beb0",
   "metadata": {},
   "source": [
    "5. 다음 코드는 여러 반의 핵생들의 시험 점수를 나타내는 넘파이 배열이다. 아래 코드를 보고 차원(ndim), 크기(shape)의 출력 결과를 예측해 보시오.(코드 작성x)\n",
    "```py\n",
    "# 2개의 반, 각 반에 4명의 학생, 각 학생은 3개의 과목 점수를 가짐\n",
    "scores = np.array([\n",
    "  [[80, 85, 90],  \n",
    "   [75, 88, 92],  \n",
    "   [95, 91, 89],  \n",
    "   [77, 82, 93]], \n",
    "\n",
    "  [[82, 87, 91],  \n",
    "   [79, 81, 90],  \n",
    "   [90, 94, 88],  \n",
    "   [88, 85, 95]]  \n",
    "])\n",
    "```"
   ]
  },
  {
   "cell_type": "markdown",
   "id": "262ddd49",
   "metadata": {},
   "source": [
    "- 3차원 -> 2개의 반, 각 반의 4명 학생, 각 학생의 3개의 과목 점수 로 봐서 3차원임이 분명함\n",
    "- (2,4,3) -> [] 덩어리를 순서대로 세면 2,4,3이 나옴"
   ]
  },
  {
   "cell_type": "markdown",
   "id": "bafe90b2",
   "metadata": {},
   "source": [
    "6. 다음 arr 을 생성 후 float64 타입으로 변환하여 새로운 배열을 만들고, 두 배열의 dtype을 비교하시오.\n",
    "\n",
    "``` py\n",
    "arr = np.array([[10,20,30], [40,50,60]])\n",
    "```"
   ]
  },
  {
   "cell_type": "code",
   "execution_count": 8,
   "id": "1f22a712",
   "metadata": {},
   "outputs": [
    {
     "name": "stdout",
     "output_type": "stream",
     "text": [
      "int64 float64\n"
     ]
    }
   ],
   "source": [
    "arr = np.array([[10,20,30], [40,50,60]])\n",
    "arr_float = arr.astype('float64')\n",
    "print(arr.dtype, arr_float.dtype)"
   ]
  },
  {
   "cell_type": "markdown",
   "id": "f8a43544",
   "metadata": {},
   "source": [
    "7. 다음을 넘파이 배열을 만든 뒤(dtype = int), 모든 값을 문자열(str)로 변환하세요.\n",
    "``` py\n",
    "[[7,8,9],\n",
    "[10,11,12]]\n",
    "```"
   ]
  },
  {
   "cell_type": "code",
   "execution_count": 10,
   "id": "7ef2ac3e",
   "metadata": {},
   "outputs": [
    {
     "name": "stdout",
     "output_type": "stream",
     "text": [
      "[['7' '8' '9']\n",
      " ['10' '11' '12']]\n"
     ]
    }
   ],
   "source": [
    "arr = np.array([[7,8,9],[10,11,12]], dtype= int)\n",
    "arr_string = arr.astype(str)\n",
    "print(arr_string)"
   ]
  },
  {
   "cell_type": "markdown",
   "id": "ef9ef875",
   "metadata": {},
   "source": [
    "8. np.arange()를 사용하여 1부터 12까지 담긴 1차원 배열을 만들고\n",
    "- 3x4 형태로 변환(reshape)\n",
    "- 2x2x3 형태로 변환 </br>\n",
    "을 각각 실행하시오."
   ]
  },
  {
   "cell_type": "code",
   "execution_count": null,
   "id": "9a905f29",
   "metadata": {},
   "outputs": [],
   "source": []
  },
  {
   "cell_type": "markdown",
   "id": "6b596906",
   "metadata": {},
   "source": [
    "9. 0으로만 채워진 (3,3) 배열과 1로만 채워진 (2,4) 배열을 생성하시오."
   ]
  },
  {
   "cell_type": "code",
   "execution_count": null,
   "id": "d6f17fcb",
   "metadata": {},
   "outputs": [],
   "source": []
  },
  {
   "cell_type": "markdown",
   "id": "9cccaa55",
   "metadata": {},
   "source": [
    "10. 다음을 넘파이 배열로 만든 뒤(dtype = int),\n",
    "- -1 인자를 사용하여 열이 3인 2차원 배열로 변환하시오.\n",
    "- -1 인자를 사용하여 1차원 배열로 변환하시오.\n",
    "``` py\n",
    "[\n",
    "[[1,2,3],\n",
    " [4,5,6]\n",
    "],\n",
    "[[7,8,9],\n",
    " [10,11,12]\n",
    "],\n",
    "[[13,14,15],\n",
    " [16,17,18]]\n",
    " ]\n",
    "```"
   ]
  },
  {
   "cell_type": "code",
   "execution_count": null,
   "id": "07f39b62",
   "metadata": {},
   "outputs": [],
   "source": []
  }
 ],
 "metadata": {
  "kernelspec": {
   "display_name": "3.11.11",
   "language": "python",
   "name": "python3"
  },
  "language_info": {
   "codemirror_mode": {
    "name": "ipython",
    "version": 3
   },
   "file_extension": ".py",
   "mimetype": "text/x-python",
   "name": "python",
   "nbconvert_exporter": "python",
   "pygments_lexer": "ipython3",
   "version": "3.11.11"
  }
 },
 "nbformat": 4,
 "nbformat_minor": 5
}
