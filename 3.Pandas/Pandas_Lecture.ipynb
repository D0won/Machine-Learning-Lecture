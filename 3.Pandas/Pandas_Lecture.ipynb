{
 "cells": [
  {
   "cell_type": "markdown",
   "id": "bfa7ee75",
   "metadata": {},
   "source": [
    "# Pandas"
   ]
  },
  {
   "cell_type": "markdown",
   "id": "bf9e4591",
   "metadata": {},
   "source": [
    "## 시리즈, 데이터프레임\n",
    "- 주로 수치 데이터를 다루는 넘파이와는 달리 판다스는 문자,숫자 등 다양한 자료형을 갖는 데이터들을 한꺼번에 수정, 재배치, 연산할 수 있는 라이브러리임.\n",
    "1. 시리즈 : 넘파이의 벡터와 같은 1차원 형태\n",
    "2. 데이터프레임 : 넘파이의 행렬과 같은 2차원 형태"
   ]
  },
  {
   "cell_type": "markdown",
   "id": "9ad72bf9",
   "metadata": {},
   "source": [
    "## 판다스의 역할\n",
    "- 데이터를 표(테이블) 형태로 쉽게 다루는 도구: CSV, Excel 등의 파일을 읽어서 정리하고 분석할 수 있음\n",
    "- 실무에서 가장 많이 쓰는 데이터 분석 라이브러리: 결측치 처리, 데이터 필터링, 통계 계산 등을 간단하게 할 수 있음"
   ]
  },
  {
   "cell_type": "markdown",
   "id": "4b7c57ae",
   "metadata": {},
   "source": [
    "## 판다스 데이터 구조"
   ]
  },
  {
   "cell_type": "markdown",
   "id": "21d4dd3d",
   "metadata": {},
   "source": [
    "### 시리즈\n",
    "- 1차원 배열\n",
    "- 넘파이의 열 벡터 형태(딕셔너리와 비슷한 구조)\n",
    "- 인덱스로 데이터 저장"
   ]
  },
  {
   "cell_type": "markdown",
   "id": "9222e641",
   "metadata": {},
   "source": [
    "### 데이터프레임\n",
    "- 2차원 배열\n",
    "- 넘파이의 행렬 형태\n",
    "- 인덱스와 칼럼으로 데이터 저장"
   ]
  },
  {
   "cell_type": "markdown",
   "id": "c2c7d167",
   "metadata": {},
   "source": [
    "## 판다스 vs 넘파이\n",
    "\n",
    "- 판다스는 사용자가 index를 설정 가능한 반면 넘파이는 index가 숫자로 자동 생성된다.\n",
    "- 판다스는 index 타입이 다양한 데이터 유형이 올 수 있는 반면 넘파이는 정수형만 올 수 있다.\n",
    "- 판다스는 데이터 수정, 삭제, 변환 등의 기능을 가지고 있고 넘파이는 쉽고 빠르게 배열의 연산을 할 수 있다."
   ]
  },
  {
   "cell_type": "code",
   "execution_count": null,
   "id": "76a5b1f6",
   "metadata": {},
   "outputs": [],
   "source": [
    "# 판다스 라이브러리를 불러와 pd라는 별명으로 사용\n"
   ]
  },
  {
   "cell_type": "markdown",
   "id": "8bd047f1",
   "metadata": {},
   "source": [
    "## 시리즈 "
   ]
  },
  {
   "cell_type": "markdown",
   "id": "40cc7125",
   "metadata": {},
   "source": [
    "### 시리즈 생성"
   ]
  },
  {
   "cell_type": "code",
   "execution_count": null,
   "id": "54968f5e",
   "metadata": {},
   "outputs": [
    {
     "data": {
      "text/plain": [
       "grandpa     60\n",
       "grandma     70\n",
       "grandson    12\n",
       "dtype: int64"
      ]
     },
     "execution_count": 3,
     "metadata": {},
     "output_type": "execute_result"
    }
   ],
   "source": [
    "# 리스트를 전달하여 시리즈 생성\n"
   ]
  },
  {
   "cell_type": "code",
   "execution_count": null,
   "id": "9725b31c",
   "metadata": {},
   "outputs": [
    {
     "data": {
      "text/plain": [
       "grandpa     60\n",
       "grandma     70\n",
       "grandson    12\n",
       "dtype: int64"
      ]
     },
     "execution_count": 4,
     "metadata": {},
     "output_type": "execute_result"
    }
   ],
   "source": [
    "# 딕셔너리를 전달하여 시리즈 생성\n"
   ]
  },
  {
   "cell_type": "markdown",
   "id": "edcb6f9d",
   "metadata": {},
   "source": [
    "### 시리즈 인덱스 설정"
   ]
  },
  {
   "cell_type": "code",
   "execution_count": null,
   "id": "b74c881e",
   "metadata": {},
   "outputs": [
    {
     "data": {
      "text/plain": [
       "0    60\n",
       "1    70\n",
       "2    12\n",
       "dtype: int64"
      ]
     },
     "execution_count": 5,
     "metadata": {},
     "output_type": "execute_result"
    }
   ],
   "source": [
    "# 인덱스 명시 없이 시리즈 생성 시 인덱스는 자동으로 0부터 시작하는 정수로 설정\n"
   ]
  },
  {
   "cell_type": "code",
   "execution_count": null,
   "id": "2eb91250",
   "metadata": {},
   "outputs": [
    {
     "data": {
      "text/plain": [
       "0    1\n",
       "1    2\n",
       "2    3\n",
       "dtype: int64"
      ]
     },
     "execution_count": 6,
     "metadata": {},
     "output_type": "execute_result"
    }
   ],
   "source": [
    "# 넘파이의 arange() 함수를 사용하면 인덱스나 데이터를 한꺼번에 설정 가능\n",
    "import numpy as np"
   ]
  },
  {
   "cell_type": "markdown",
   "id": "582fe5c5",
   "metadata": {},
   "source": [
    "## 시리즈 다루기"
   ]
  },
  {
   "cell_type": "code",
   "execution_count": null,
   "id": "8f4cab0d",
   "metadata": {},
   "outputs": [
    {
     "data": {
      "text/plain": [
       "np.int64(60)"
      ]
     },
     "execution_count": 7,
     "metadata": {},
     "output_type": "execute_result"
    }
   ],
   "source": [
    "# 시리즈 객체[인덱스]를 이용하면 각 데이터에 접근 가능\n"
   ]
  },
  {
   "cell_type": "code",
   "execution_count": null,
   "id": "61dc0908",
   "metadata": {},
   "outputs": [
    {
     "data": {
      "text/plain": [
       "Index(['grandpa', 'grandma', 'grandson'], dtype='object')"
      ]
     },
     "execution_count": 8,
     "metadata": {},
     "output_type": "execute_result"
    }
   ],
   "source": [
    "# 시리즈의 인덱스 확인\n"
   ]
  },
  {
   "cell_type": "code",
   "execution_count": null,
   "id": "68fb89b3",
   "metadata": {},
   "outputs": [
    {
     "data": {
      "text/plain": [
       "array([60, 70, 12])"
      ]
     },
     "execution_count": 9,
     "metadata": {},
     "output_type": "execute_result"
    }
   ],
   "source": [
    "# 시리즈의 값 확인\n"
   ]
  },
  {
   "cell_type": "markdown",
   "id": "095cb78d",
   "metadata": {},
   "source": [
    "### 다양한 함수"
   ]
  },
  {
   "cell_type": "code",
   "execution_count": null,
   "id": "2fde6500",
   "metadata": {},
   "outputs": [
    {
     "data": {
      "text/plain": [
       "grandpa     60.0\n",
       "grandma     70.0\n",
       "grandson    12.0\n",
       "papa         NaN\n",
       "mama        42.0\n",
       "dtype: float64"
      ]
     },
     "execution_count": 11,
     "metadata": {},
     "output_type": "execute_result"
    }
   ],
   "source": [
    "# 데이터 값이 없는 것을 포함한 시리즈 생성\n",
    "# 'nan'은 'Not a Number'의 약자로 값이 없는 데이터를 의미함\n"
   ]
  },
  {
   "cell_type": "code",
   "execution_count": null,
   "id": "a8052b66",
   "metadata": {},
   "outputs": [
    {
     "data": {
      "text/plain": [
       "(5,)"
      ]
     },
     "execution_count": 12,
     "metadata": {},
     "output_type": "execute_result"
    }
   ],
   "source": [
    "# 시리즈의 형태\n"
   ]
  },
  {
   "cell_type": "code",
   "execution_count": null,
   "id": "e70c8072",
   "metadata": {},
   "outputs": [
    {
     "data": {
      "text/plain": [
       "5"
      ]
     },
     "metadata": {},
     "output_type": "display_data"
    },
    {
     "data": {
      "text/plain": [
       "5"
      ]
     },
     "metadata": {},
     "output_type": "display_data"
    }
   ],
   "source": [
    "# 시리즈의 데이터 개수\n"
   ]
  },
  {
   "cell_type": "code",
   "execution_count": null,
   "id": "7cfe284e",
   "metadata": {},
   "outputs": [
    {
     "data": {
      "text/plain": [
       "np.int64(4)"
      ]
     },
     "execution_count": 14,
     "metadata": {},
     "output_type": "execute_result"
    }
   ],
   "source": [
    "# 값이 있는 데이터의 개수\n"
   ]
  },
  {
   "cell_type": "code",
   "execution_count": null,
   "id": "64204947",
   "metadata": {},
   "outputs": [
    {
     "data": {
      "text/plain": [
       "array([60., 70., 12., nan, 42.])"
      ]
     },
     "execution_count": 15,
     "metadata": {},
     "output_type": "execute_result"
    }
   ],
   "source": [
    "# 데이터의 종류 출력\n"
   ]
  },
  {
   "cell_type": "code",
   "execution_count": null,
   "id": "842a7e2b",
   "metadata": {},
   "outputs": [
    {
     "data": {
      "text/plain": [
       "60.0    1\n",
       "70.0    1\n",
       "12.0    1\n",
       "42.0    1\n",
       "Name: count, dtype: int64"
      ]
     },
     "execution_count": 16,
     "metadata": {},
     "output_type": "execute_result"
    }
   ],
   "source": [
    "# 각 데이터 값의 개수\n"
   ]
  },
  {
   "cell_type": "code",
   "execution_count": null,
   "id": "4972f8df",
   "metadata": {},
   "outputs": [
    {
     "data": {
      "text/plain": [
       "np.float64(46.0)"
      ]
     },
     "execution_count": 17,
     "metadata": {},
     "output_type": "execute_result"
    }
   ],
   "source": [
    "# 데이터의 평균\n"
   ]
  },
  {
   "cell_type": "code",
   "execution_count": null,
   "id": "d9b30bed",
   "metadata": {},
   "outputs": [
    {
     "data": {
      "text/plain": [
       "grandpa     60.0\n",
       "grandma     70.0\n",
       "grandson    12.0\n",
       "papa         NaN\n",
       "mama        42.0\n",
       "dtype: float64"
      ]
     },
     "execution_count": 18,
     "metadata": {},
     "output_type": "execute_result"
    }
   ],
   "source": [
    "# 앞의 5개 데이터 보기\n"
   ]
  },
  {
   "cell_type": "code",
   "execution_count": null,
   "id": "aefdb520",
   "metadata": {},
   "outputs": [
    {
     "data": {
      "text/plain": [
       "grandpa     60.0\n",
       "grandma     70.0\n",
       "grandson    12.0\n",
       "papa         NaN\n",
       "mama        42.0\n",
       "dtype: float64"
      ]
     },
     "execution_count": 19,
     "metadata": {},
     "output_type": "execute_result"
    }
   ],
   "source": [
    "# 뒤의 5개 데이터 보기\n"
   ]
  },
  {
   "cell_type": "markdown",
   "id": "05ed30dc",
   "metadata": {},
   "source": [
    "### 시리즈 데이터 연산"
   ]
  },
  {
   "cell_type": "markdown",
   "id": "e4dcf6d8",
   "metadata": {},
   "source": [
    "#### 유의할 점\n",
    "\n",
    "- 시리즈와 시리즈 간의 연산에서는 인덱스가 일치하는 것끼리 연산, 인덱스가 일치하지 않을 때는 결과로 'NaN'을 출력\n",
    "- 시리즈 간 연산과 스칼라와 시리즈간의 연산은 넘파이처럼 각 데이터별로 연산함"
   ]
  },
  {
   "cell_type": "code",
   "execution_count": null,
   "id": "43caa896",
   "metadata": {},
   "outputs": [
    {
     "data": {
      "text/plain": [
       "cousin        NaN\n",
       "grandma     148.0\n",
       "grandpa     142.0\n",
       "grandson      NaN\n",
       "dtype: float64"
      ]
     },
     "execution_count": 3,
     "metadata": {},
     "output_type": "execute_result"
    }
   ],
   "source": [
    "owl_age = pd.Series([60,70,12], ['grandpa', 'grandma', 'grandson'])\n",
    "owl_friends = pd.Series([45,82,78], ['cousin', 'grandpa', 'grandma'])\n",
    "# 시리즈 간 더하기"
   ]
  },
  {
   "cell_type": "code",
   "execution_count": null,
   "id": "24da885d",
   "metadata": {},
   "outputs": [
    {
     "data": {
      "text/plain": [
       "grandpa     180\n",
       "grandma     210\n",
       "grandson     36\n",
       "dtype: int64"
      ]
     },
     "execution_count": 4,
     "metadata": {},
     "output_type": "execute_result"
    }
   ],
   "source": [
    "# 시리즈와 스칼라 간 곱하기"
   ]
  },
  {
   "cell_type": "markdown",
   "id": "6e31d8d3",
   "metadata": {},
   "source": [
    "## 데이터프레임\n",
    "- 여러 개의 시리즈를 모아서 나타낸 것으로, 데이터 분석과 머신러닝에서 데이터를 변형하기 위하여 많이 사용되는 판다스의 핵심이다."
   ]
  },
  {
   "cell_type": "markdown",
   "id": "e631b49e",
   "metadata": {},
   "source": [
    "### 데이터프레임 생성"
   ]
  },
  {
   "cell_type": "markdown",
   "id": "250e5a9c",
   "metadata": {},
   "source": [
    "- 판다스 객체.DataFrame(2차원 배열, index = 인덱스 배열, columns = 칼럼 배열) -> 배열 이용\n",
    "- 판다스 객체.DataFrame([시리즈 리스트], [index 0, …, 인덱스 리스트n]) -> 시리즈 이용\n",
    "- 판다스 객체.DataFrame(딕셔너리, [index 0, …, 인덱스 리스트n]) -> 딕셔너리 이용"
   ]
  },
  {
   "cell_type": "code",
   "execution_count": null,
   "id": "7bff979b",
   "metadata": {},
   "outputs": [
    {
     "data": {
      "text/html": [
       "<div>\n",
       "<style scoped>\n",
       "    .dataframe tbody tr th:only-of-type {\n",
       "        vertical-align: middle;\n",
       "    }\n",
       "\n",
       "    .dataframe tbody tr th {\n",
       "        vertical-align: top;\n",
       "    }\n",
       "\n",
       "    .dataframe thead th {\n",
       "        text-align: right;\n",
       "    }\n",
       "</style>\n",
       "<table border=\"1\" class=\"dataframe\">\n",
       "  <thead>\n",
       "    <tr style=\"text-align: right;\">\n",
       "      <th></th>\n",
       "      <th>age</th>\n",
       "      <th>weight</th>\n",
       "      <th>height</th>\n",
       "      <th>nickname</th>\n",
       "    </tr>\n",
       "  </thead>\n",
       "  <tbody>\n",
       "    <tr>\n",
       "      <th>grandpa</th>\n",
       "      <td>60</td>\n",
       "      <td>3.8</td>\n",
       "      <td>4.4</td>\n",
       "      <td>Shark</td>\n",
       "    </tr>\n",
       "    <tr>\n",
       "      <th>grandma</th>\n",
       "      <td>70</td>\n",
       "      <td>7.2</td>\n",
       "      <td>5.6</td>\n",
       "      <td>Audrey</td>\n",
       "    </tr>\n",
       "    <tr>\n",
       "      <th>grandson</th>\n",
       "      <td>2</td>\n",
       "      <td>6.3</td>\n",
       "      <td>6.4</td>\n",
       "      <td>Smurf</td>\n",
       "    </tr>\n",
       "  </tbody>\n",
       "</table>\n",
       "</div>"
      ],
      "text/plain": [
       "          age  weight  height nickname\n",
       "grandpa    60     3.8     4.4    Shark\n",
       "grandma    70     7.2     5.6   Audrey\n",
       "grandson    2     6.3     6.4    Smurf"
      ]
     },
     "execution_count": 6,
     "metadata": {},
     "output_type": "execute_result"
    }
   ],
   "source": [
    "# 2차원 배열 이용해서 데이터프레임 생성\n"
   ]
  },
  {
   "cell_type": "code",
   "execution_count": null,
   "id": "c5a02bba",
   "metadata": {},
   "outputs": [],
   "source": [
    "# 시리즈를 이용해서 데이터프레임 생성\n",
    "\n",
    "# 데이터프레임 생성\n"
   ]
  },
  {
   "cell_type": "code",
   "execution_count": null,
   "id": "6fb5a1e5",
   "metadata": {},
   "outputs": [
    {
     "data": {
      "text/html": [
       "<div>\n",
       "<style scoped>\n",
       "    .dataframe tbody tr th:only-of-type {\n",
       "        vertical-align: middle;\n",
       "    }\n",
       "\n",
       "    .dataframe tbody tr th {\n",
       "        vertical-align: top;\n",
       "    }\n",
       "\n",
       "    .dataframe thead th {\n",
       "        text-align: right;\n",
       "    }\n",
       "</style>\n",
       "<table border=\"1\" class=\"dataframe\">\n",
       "  <thead>\n",
       "    <tr style=\"text-align: right;\">\n",
       "      <th></th>\n",
       "      <th>age</th>\n",
       "      <th>weight</th>\n",
       "      <th>height</th>\n",
       "      <th>nickname</th>\n",
       "    </tr>\n",
       "  </thead>\n",
       "  <tbody>\n",
       "    <tr>\n",
       "      <th>grandpa</th>\n",
       "      <td>60</td>\n",
       "      <td>3.8</td>\n",
       "      <td>4.4</td>\n",
       "      <td>Shark</td>\n",
       "    </tr>\n",
       "    <tr>\n",
       "      <th>grandma</th>\n",
       "      <td>70</td>\n",
       "      <td>7.2</td>\n",
       "      <td>5.6</td>\n",
       "      <td>Audrey</td>\n",
       "    </tr>\n",
       "    <tr>\n",
       "      <th>grandson</th>\n",
       "      <td>12</td>\n",
       "      <td>6.3</td>\n",
       "      <td>6.4</td>\n",
       "      <td>Smurf</td>\n",
       "    </tr>\n",
       "  </tbody>\n",
       "</table>\n",
       "</div>"
      ],
      "text/plain": [
       "          age  weight  height nickname\n",
       "grandpa    60     3.8     4.4    Shark\n",
       "grandma    70     7.2     5.6   Audrey\n",
       "grandson   12     6.3     6.4    Smurf"
      ]
     },
     "execution_count": 7,
     "metadata": {},
     "output_type": "execute_result"
    }
   ],
   "source": [
    "# 딕셔너리를 이용해서 데이터프레임 생성\n",
    "\n",
    "# 데이터프레임 생성\n"
   ]
  },
  {
   "cell_type": "markdown",
   "id": "caf7791c",
   "metadata": {},
   "source": [
    "## 데이터 접근\n",
    "- 인덱스(행) 또는 칼럼(열) 단위로 데이터에 접근하거나 시리즈처럼 특정 데이터에 접근하는 방법이 있음.\n",
    "- 칼럼 단위의 데이터에 접근하기 위해 기본적으로 대괄호([])를 사용하며 , 대괄호 안에 칼럼명을 제시함."
   ]
  },
  {
   "cell_type": "markdown",
   "id": "7a386c6e",
   "metadata": {},
   "source": [
    "### 하나의 칼럼 가져오기"
   ]
  },
  {
   "cell_type": "code",
   "execution_count": null,
   "id": "f690db0c",
   "metadata": {},
   "outputs": [
    {
     "data": {
      "text/plain": [
       "grandpa      Shark\n",
       "grandma     Audrey\n",
       "grandson     Smurf\n",
       "Name: nickname, dtype: object"
      ]
     },
     "execution_count": 8,
     "metadata": {},
     "output_type": "execute_result"
    }
   ],
   "source": [
    "dic = {'age': [60, 70, 12],\n",
    "     'weight': [3.8, 7.2, 6.3],\n",
    "     'height': [4.4, 5.6, 6.4],\n",
    "     'nickname': ['Shark', 'Audrey', 'Smurf']}\n",
    "owl = pd.DataFrame(dic, ['grandpa', 'grandma', 'grandson'])\n",
    "# 한 개의 칼럼을 시리즈로 출력\n"
   ]
  },
  {
   "cell_type": "code",
   "execution_count": null,
   "id": "c85b5ff5",
   "metadata": {},
   "outputs": [
    {
     "ename": "KeyError",
     "evalue": "('height', 'nickname')",
     "output_type": "error",
     "traceback": [
      "\u001b[31m---------------------------------------------------------------------------\u001b[39m",
      "\u001b[31mKeyError\u001b[39m                                  Traceback (most recent call last)",
      "\u001b[36mFile \u001b[39m\u001b[32m~/Library/Mobile Documents/com~apple~CloudDocs/부산코딩스쿨/Machine-Learning-Lecture/.venv/lib/python3.11/site-packages/pandas/core/indexes/base.py:3812\u001b[39m, in \u001b[36mIndex.get_loc\u001b[39m\u001b[34m(self, key)\u001b[39m\n\u001b[32m   3811\u001b[39m \u001b[38;5;28;01mtry\u001b[39;00m:\n\u001b[32m-> \u001b[39m\u001b[32m3812\u001b[39m     \u001b[38;5;28;01mreturn\u001b[39;00m \u001b[38;5;28;43mself\u001b[39;49m\u001b[43m.\u001b[49m\u001b[43m_engine\u001b[49m\u001b[43m.\u001b[49m\u001b[43mget_loc\u001b[49m\u001b[43m(\u001b[49m\u001b[43mcasted_key\u001b[49m\u001b[43m)\u001b[49m\n\u001b[32m   3813\u001b[39m \u001b[38;5;28;01mexcept\u001b[39;00m \u001b[38;5;167;01mKeyError\u001b[39;00m \u001b[38;5;28;01mas\u001b[39;00m err:\n",
      "\u001b[36mFile \u001b[39m\u001b[32mpandas/_libs/index.pyx:167\u001b[39m, in \u001b[36mpandas._libs.index.IndexEngine.get_loc\u001b[39m\u001b[34m()\u001b[39m\n",
      "\u001b[36mFile \u001b[39m\u001b[32mpandas/_libs/index.pyx:196\u001b[39m, in \u001b[36mpandas._libs.index.IndexEngine.get_loc\u001b[39m\u001b[34m()\u001b[39m\n",
      "\u001b[36mFile \u001b[39m\u001b[32mpandas/_libs/hashtable_class_helper.pxi:7088\u001b[39m, in \u001b[36mpandas._libs.hashtable.PyObjectHashTable.get_item\u001b[39m\u001b[34m()\u001b[39m\n",
      "\u001b[36mFile \u001b[39m\u001b[32mpandas/_libs/hashtable_class_helper.pxi:7096\u001b[39m, in \u001b[36mpandas._libs.hashtable.PyObjectHashTable.get_item\u001b[39m\u001b[34m()\u001b[39m\n",
      "\u001b[31mKeyError\u001b[39m: ('height', 'nickname')",
      "\nThe above exception was the direct cause of the following exception:\n",
      "\u001b[31mKeyError\u001b[39m                                  Traceback (most recent call last)",
      "\u001b[36mCell\u001b[39m\u001b[36m \u001b[39m\u001b[32mIn[9]\u001b[39m\u001b[32m, line 7\u001b[39m\n\u001b[32m      2\u001b[39m dic = {\u001b[33m'\u001b[39m\u001b[33mage\u001b[39m\u001b[33m'\u001b[39m: [\u001b[32m60\u001b[39m, \u001b[32m70\u001b[39m, \u001b[32m12\u001b[39m, \u001b[32m45\u001b[39m, \u001b[32m42\u001b[39m],\n\u001b[32m      3\u001b[39m        \u001b[33m'\u001b[39m\u001b[33mweight\u001b[39m\u001b[33m'\u001b[39m: [\u001b[32m3.8\u001b[39m, \u001b[32m7.2\u001b[39m, \u001b[32m6.3\u001b[39m, \u001b[32m5.5\u001b[39m, \u001b[32m4.6\u001b[39m],\n\u001b[32m      4\u001b[39m        \u001b[33m'\u001b[39m\u001b[33mheight\u001b[39m\u001b[33m'\u001b[39m: [\u001b[32m4.4\u001b[39m, \u001b[32m5.6\u001b[39m, \u001b[32m6.4\u001b[39m, \u001b[32m5.7\u001b[39m, \u001b[32m7.8\u001b[39m],\n\u001b[32m      5\u001b[39m        \u001b[33m'\u001b[39m\u001b[33mnickname\u001b[39m\u001b[33m'\u001b[39m: [\u001b[33m'\u001b[39m\u001b[33mShark\u001b[39m\u001b[33m'\u001b[39m, \u001b[33m'\u001b[39m\u001b[33mAudrey\u001b[39m\u001b[33m'\u001b[39m, \u001b[33m'\u001b[39m\u001b[33mSmurf\u001b[39m\u001b[33m'\u001b[39m, \u001b[33m'\u001b[39m\u001b[33mTongk\u001b[39m\u001b[33m'\u001b[39m, \u001b[33m'\u001b[39m\u001b[33mJJ\u001b[39m\u001b[33m'\u001b[39m]}\n\u001b[32m      6\u001b[39m owl = pd.DataFrame(dic, [\u001b[33m'\u001b[39m\u001b[33mgrandpa\u001b[39m\u001b[33m'\u001b[39m, \u001b[33m'\u001b[39m\u001b[33mgrandma\u001b[39m\u001b[33m'\u001b[39m, \u001b[33m'\u001b[39m\u001b[33mgrandson\u001b[39m\u001b[33m'\u001b[39m, \u001b[33m'\u001b[39m\u001b[33mpapa\u001b[39m\u001b[33m'\u001b[39m, \u001b[33m'\u001b[39m\u001b[33mmama\u001b[39m\u001b[33m'\u001b[39m])\n\u001b[32m----> \u001b[39m\u001b[32m7\u001b[39m \u001b[43mowl\u001b[49m\u001b[43m[\u001b[49m\u001b[33;43m'\u001b[39;49m\u001b[33;43mheight\u001b[39;49m\u001b[33;43m'\u001b[39;49m\u001b[43m,\u001b[49m\u001b[43m \u001b[49m\u001b[33;43m'\u001b[39;49m\u001b[33;43mnickname\u001b[39;49m\u001b[33;43m'\u001b[39;49m\u001b[43m]\u001b[49m\n",
      "\u001b[36mFile \u001b[39m\u001b[32m~/Library/Mobile Documents/com~apple~CloudDocs/부산코딩스쿨/Machine-Learning-Lecture/.venv/lib/python3.11/site-packages/pandas/core/frame.py:4107\u001b[39m, in \u001b[36mDataFrame.__getitem__\u001b[39m\u001b[34m(self, key)\u001b[39m\n\u001b[32m   4105\u001b[39m \u001b[38;5;28;01mif\u001b[39;00m \u001b[38;5;28mself\u001b[39m.columns.nlevels > \u001b[32m1\u001b[39m:\n\u001b[32m   4106\u001b[39m     \u001b[38;5;28;01mreturn\u001b[39;00m \u001b[38;5;28mself\u001b[39m._getitem_multilevel(key)\n\u001b[32m-> \u001b[39m\u001b[32m4107\u001b[39m indexer = \u001b[38;5;28;43mself\u001b[39;49m\u001b[43m.\u001b[49m\u001b[43mcolumns\u001b[49m\u001b[43m.\u001b[49m\u001b[43mget_loc\u001b[49m\u001b[43m(\u001b[49m\u001b[43mkey\u001b[49m\u001b[43m)\u001b[49m\n\u001b[32m   4108\u001b[39m \u001b[38;5;28;01mif\u001b[39;00m is_integer(indexer):\n\u001b[32m   4109\u001b[39m     indexer = [indexer]\n",
      "\u001b[36mFile \u001b[39m\u001b[32m~/Library/Mobile Documents/com~apple~CloudDocs/부산코딩스쿨/Machine-Learning-Lecture/.venv/lib/python3.11/site-packages/pandas/core/indexes/base.py:3819\u001b[39m, in \u001b[36mIndex.get_loc\u001b[39m\u001b[34m(self, key)\u001b[39m\n\u001b[32m   3814\u001b[39m     \u001b[38;5;28;01mif\u001b[39;00m \u001b[38;5;28misinstance\u001b[39m(casted_key, \u001b[38;5;28mslice\u001b[39m) \u001b[38;5;129;01mor\u001b[39;00m (\n\u001b[32m   3815\u001b[39m         \u001b[38;5;28misinstance\u001b[39m(casted_key, abc.Iterable)\n\u001b[32m   3816\u001b[39m         \u001b[38;5;129;01mand\u001b[39;00m \u001b[38;5;28many\u001b[39m(\u001b[38;5;28misinstance\u001b[39m(x, \u001b[38;5;28mslice\u001b[39m) \u001b[38;5;28;01mfor\u001b[39;00m x \u001b[38;5;129;01min\u001b[39;00m casted_key)\n\u001b[32m   3817\u001b[39m     ):\n\u001b[32m   3818\u001b[39m         \u001b[38;5;28;01mraise\u001b[39;00m InvalidIndexError(key)\n\u001b[32m-> \u001b[39m\u001b[32m3819\u001b[39m     \u001b[38;5;28;01mraise\u001b[39;00m \u001b[38;5;167;01mKeyError\u001b[39;00m(key) \u001b[38;5;28;01mfrom\u001b[39;00m\u001b[38;5;250m \u001b[39m\u001b[34;01merr\u001b[39;00m\n\u001b[32m   3820\u001b[39m \u001b[38;5;28;01mexcept\u001b[39;00m \u001b[38;5;167;01mTypeError\u001b[39;00m:\n\u001b[32m   3821\u001b[39m     \u001b[38;5;66;03m# If we have a listlike key, _check_indexing_error will raise\u001b[39;00m\n\u001b[32m   3822\u001b[39m     \u001b[38;5;66;03m#  InvalidIndexError. Otherwise we fall through and re-raise\u001b[39;00m\n\u001b[32m   3823\u001b[39m     \u001b[38;5;66;03m#  the TypeError.\u001b[39;00m\n\u001b[32m   3824\u001b[39m     \u001b[38;5;28mself\u001b[39m._check_indexing_error(key)\n",
      "\u001b[31mKeyError\u001b[39m: ('height', 'nickname')"
     ]
    }
   ],
   "source": [
    "dic = {'age': [60, 70, 12, 45, 42],\n",
    "       'weight': [3.8, 7.2, 6.3, 5.5, 4.6],\n",
    "       'height': [4.4, 5.6, 6.4, 5.7, 7.8],\n",
    "       'nickname': ['Shark', 'Audrey', 'Smurf', 'Tongk', 'JJ']}\n",
    "owl = pd.DataFrame(dic, ['grandpa', 'grandma', 'grandson', 'papa', 'mama'])\n",
    "# 다음 코드와 같이 여러 개의 칼럼을 추출하면 keyError가 발생함.\n"
   ]
  },
  {
   "cell_type": "markdown",
   "id": "64109c0d",
   "metadata": {},
   "source": [
    "### 여러 개 칼럼 가져오기\n",
    "- 데이터프레임에서 여러 개의 칼럼을 가져올 때는 [] 안에 칼럼명을 리스트 형태로 나열하여 제시함."
   ]
  },
  {
   "cell_type": "code",
   "execution_count": null,
   "id": "f1fc22f8",
   "metadata": {},
   "outputs": [
    {
     "data": {
      "text/html": [
       "<div>\n",
       "<style scoped>\n",
       "    .dataframe tbody tr th:only-of-type {\n",
       "        vertical-align: middle;\n",
       "    }\n",
       "\n",
       "    .dataframe tbody tr th {\n",
       "        vertical-align: top;\n",
       "    }\n",
       "\n",
       "    .dataframe thead th {\n",
       "        text-align: right;\n",
       "    }\n",
       "</style>\n",
       "<table border=\"1\" class=\"dataframe\">\n",
       "  <thead>\n",
       "    <tr style=\"text-align: right;\">\n",
       "      <th></th>\n",
       "      <th>height</th>\n",
       "      <th>nickname</th>\n",
       "    </tr>\n",
       "  </thead>\n",
       "  <tbody>\n",
       "    <tr>\n",
       "      <th>grandpa</th>\n",
       "      <td>4.4</td>\n",
       "      <td>Shark</td>\n",
       "    </tr>\n",
       "    <tr>\n",
       "      <th>grandma</th>\n",
       "      <td>5.6</td>\n",
       "      <td>Audrey</td>\n",
       "    </tr>\n",
       "    <tr>\n",
       "      <th>grandson</th>\n",
       "      <td>6.4</td>\n",
       "      <td>Smurf</td>\n",
       "    </tr>\n",
       "    <tr>\n",
       "      <th>papa</th>\n",
       "      <td>5.7</td>\n",
       "      <td>Tongk</td>\n",
       "    </tr>\n",
       "    <tr>\n",
       "      <th>mama</th>\n",
       "      <td>7.8</td>\n",
       "      <td>JJ</td>\n",
       "    </tr>\n",
       "  </tbody>\n",
       "</table>\n",
       "</div>"
      ],
      "text/plain": [
       "          height nickname\n",
       "grandpa      4.4    Shark\n",
       "grandma      5.6   Audrey\n",
       "grandson     6.4    Smurf\n",
       "papa         5.7    Tongk\n",
       "mama         7.8       JJ"
      ]
     },
     "execution_count": 10,
     "metadata": {},
     "output_type": "execute_result"
    }
   ],
   "source": [
    "dic = {'age': [60, 70, 12, 45, 42],\n",
    "       'weight': [3.8, 7.2, 6.3, 5.5, 4.6],\n",
    "       'height': [4.4, 5.6, 6.4, 5.7, 7.8],\n",
    "       'nickname': ['Shark', 'Audrey', 'Smurf', 'Tongk', 'JJ']}\n",
    "owl = pd.DataFrame(dic, ['grandpa', 'grandma', 'grandson', 'papa', 'mama'])\n",
    "# 여러 개 칼럼을 데이터프레임으로 출력\n"
   ]
  },
  {
   "cell_type": "markdown",
   "id": "7fd42bf3",
   "metadata": {},
   "source": [
    "### 인덱스(행) 단위 접근 "
   ]
  },
  {
   "cell_type": "markdown",
   "id": "2c8e111b",
   "metadata": {},
   "source": [
    "- loc[] : 인덱스명으로 행 접근\n",
    "- iloc[] : 0부터 시작하는 정수형 인덱스로 행 접근\n",
    "\n",
    "- 쉼표(,)를 사용하여 여러 개의 칼럼 선택 사능\n",
    "- 행과 열을 동시에 선택 가능\n",
    "\n",
    "- 행 하나만 추출할 때는 해당 행을 시리즈 형태로 추출\n",
    "- 여러 개의 행을 동시에 추출할 때는 리스트 형태로 추출"
   ]
  },
  {
   "cell_type": "code",
   "execution_count": null,
   "id": "4552d270",
   "metadata": {},
   "outputs": [
    {
     "data": {
      "text/plain": [
       "age             70\n",
       "weight         7.2\n",
       "height         5.6\n",
       "nickname    Audrey\n",
       "Name: grandma, dtype: object"
      ]
     },
     "execution_count": 13,
     "metadata": {},
     "output_type": "execute_result"
    }
   ],
   "source": [
    "dic = {'age': [60, 70, 12, 45, 42],\n",
    "       'weight': [3.8, 7.2, 6.3, 5.5, 4.6],\n",
    "       'height': [4.4, 5.6, 6.4, 5.7, 7.8],\n",
    "       'nickname': ['Shark', 'Audrey', 'Smurf', 'Tongk', 'JJ']}\n",
    "owl = pd.DataFrame(dic, ['grandpa', 'grandma', 'grandson', 'papa', 'mama'])\n",
    "# 'grandma' 라는 인덱스의 행을 추출할 때는 loc[]을 사용\n"
   ]
  },
  {
   "cell_type": "code",
   "execution_count": null,
   "id": "8e272ffb",
   "metadata": {},
   "outputs": [
    {
     "data": {
      "text/html": [
       "<div>\n",
       "<style scoped>\n",
       "    .dataframe tbody tr th:only-of-type {\n",
       "        vertical-align: middle;\n",
       "    }\n",
       "\n",
       "    .dataframe tbody tr th {\n",
       "        vertical-align: top;\n",
       "    }\n",
       "\n",
       "    .dataframe thead th {\n",
       "        text-align: right;\n",
       "    }\n",
       "</style>\n",
       "<table border=\"1\" class=\"dataframe\">\n",
       "  <thead>\n",
       "    <tr style=\"text-align: right;\">\n",
       "      <th></th>\n",
       "      <th>age</th>\n",
       "      <th>weight</th>\n",
       "      <th>height</th>\n",
       "      <th>nickname</th>\n",
       "    </tr>\n",
       "  </thead>\n",
       "  <tbody>\n",
       "    <tr>\n",
       "      <th>grandma</th>\n",
       "      <td>70</td>\n",
       "      <td>7.2</td>\n",
       "      <td>5.6</td>\n",
       "      <td>Audrey</td>\n",
       "    </tr>\n",
       "    <tr>\n",
       "      <th>grandson</th>\n",
       "      <td>12</td>\n",
       "      <td>6.3</td>\n",
       "      <td>6.4</td>\n",
       "      <td>Smurf</td>\n",
       "    </tr>\n",
       "    <tr>\n",
       "      <th>papa</th>\n",
       "      <td>45</td>\n",
       "      <td>5.5</td>\n",
       "      <td>5.7</td>\n",
       "      <td>Tongk</td>\n",
       "    </tr>\n",
       "  </tbody>\n",
       "</table>\n",
       "</div>"
      ],
      "text/plain": [
       "          age  weight  height nickname\n",
       "grandma    70     7.2     5.6   Audrey\n",
       "grandson   12     6.3     6.4    Smurf\n",
       "papa       45     5.5     5.7    Tongk"
      ]
     },
     "execution_count": 15,
     "metadata": {},
     "output_type": "execute_result"
    }
   ],
   "source": [
    "# 시작 인덱스와 마지막 인덱스 범위를 지정하면 해당 범위의 행들을 출력\n"
   ]
  },
  {
   "cell_type": "code",
   "execution_count": null,
   "id": "b68d2949",
   "metadata": {},
   "outputs": [
    {
     "data": {
      "text/plain": [
       "age             70\n",
       "weight         7.2\n",
       "height         5.6\n",
       "nickname    Audrey\n",
       "Name: grandma, dtype: object"
      ]
     },
     "metadata": {},
     "output_type": "display_data"
    }
   ],
   "source": [
    "# 인덱스명 대신 리스트처럼 정수형 인덱스를 사용할 때는 iloc[]을 사용\n",
    "# 1개 행 추출\n"
   ]
  },
  {
   "cell_type": "code",
   "execution_count": null,
   "id": "5d986315",
   "metadata": {},
   "outputs": [
    {
     "data": {
      "text/html": [
       "<div>\n",
       "<style scoped>\n",
       "    .dataframe tbody tr th:only-of-type {\n",
       "        vertical-align: middle;\n",
       "    }\n",
       "\n",
       "    .dataframe tbody tr th {\n",
       "        vertical-align: top;\n",
       "    }\n",
       "\n",
       "    .dataframe thead th {\n",
       "        text-align: right;\n",
       "    }\n",
       "</style>\n",
       "<table border=\"1\" class=\"dataframe\">\n",
       "  <thead>\n",
       "    <tr style=\"text-align: right;\">\n",
       "      <th></th>\n",
       "      <th>age</th>\n",
       "      <th>weight</th>\n",
       "      <th>height</th>\n",
       "      <th>nickname</th>\n",
       "    </tr>\n",
       "  </thead>\n",
       "  <tbody>\n",
       "    <tr>\n",
       "      <th>papa</th>\n",
       "      <td>45</td>\n",
       "      <td>5.5</td>\n",
       "      <td>5.7</td>\n",
       "      <td>Tongk</td>\n",
       "    </tr>\n",
       "    <tr>\n",
       "      <th>mama</th>\n",
       "      <td>42</td>\n",
       "      <td>4.6</td>\n",
       "      <td>7.8</td>\n",
       "      <td>JJ</td>\n",
       "    </tr>\n",
       "  </tbody>\n",
       "</table>\n",
       "</div>"
      ],
      "text/plain": [
       "      age  weight  height nickname\n",
       "papa   45     5.5     5.7    Tongk\n",
       "mama   42     4.6     7.8       JJ"
      ]
     },
     "execution_count": 18,
     "metadata": {},
     "output_type": "execute_result"
    }
   ],
   "source": [
    "# 여러 개 행 추출\n"
   ]
  },
  {
   "cell_type": "markdown",
   "id": "bdf99e08",
   "metadata": {},
   "source": [
    "### 인덱스(행), 칼럼(열) 단위 접근"
   ]
  },
  {
   "cell_type": "code",
   "execution_count": null,
   "id": "d32042ee",
   "metadata": {},
   "outputs": [
    {
     "data": {
      "text/html": [
       "<div>\n",
       "<style scoped>\n",
       "    .dataframe tbody tr th:only-of-type {\n",
       "        vertical-align: middle;\n",
       "    }\n",
       "\n",
       "    .dataframe tbody tr th {\n",
       "        vertical-align: top;\n",
       "    }\n",
       "\n",
       "    .dataframe thead th {\n",
       "        text-align: right;\n",
       "    }\n",
       "</style>\n",
       "<table border=\"1\" class=\"dataframe\">\n",
       "  <thead>\n",
       "    <tr style=\"text-align: right;\">\n",
       "      <th></th>\n",
       "      <th>weight</th>\n",
       "      <th>height</th>\n",
       "    </tr>\n",
       "  </thead>\n",
       "  <tbody>\n",
       "    <tr>\n",
       "      <th>grandma</th>\n",
       "      <td>7.2</td>\n",
       "      <td>5.6</td>\n",
       "    </tr>\n",
       "    <tr>\n",
       "      <th>grandson</th>\n",
       "      <td>6.3</td>\n",
       "      <td>6.4</td>\n",
       "    </tr>\n",
       "  </tbody>\n",
       "</table>\n",
       "</div>"
      ],
      "text/plain": [
       "          weight  height\n",
       "grandma      7.2     5.6\n",
       "grandson     6.3     6.4"
      ]
     },
     "metadata": {},
     "output_type": "display_data"
    },
    {
     "data": {
      "text/html": [
       "<div>\n",
       "<style scoped>\n",
       "    .dataframe tbody tr th:only-of-type {\n",
       "        vertical-align: middle;\n",
       "    }\n",
       "\n",
       "    .dataframe tbody tr th {\n",
       "        vertical-align: top;\n",
       "    }\n",
       "\n",
       "    .dataframe thead th {\n",
       "        text-align: right;\n",
       "    }\n",
       "</style>\n",
       "<table border=\"1\" class=\"dataframe\">\n",
       "  <thead>\n",
       "    <tr style=\"text-align: right;\">\n",
       "      <th></th>\n",
       "      <th>weight</th>\n",
       "      <th>height</th>\n",
       "    </tr>\n",
       "  </thead>\n",
       "  <tbody>\n",
       "    <tr>\n",
       "      <th>grandma</th>\n",
       "      <td>7.2</td>\n",
       "      <td>5.6</td>\n",
       "    </tr>\n",
       "    <tr>\n",
       "      <th>grandson</th>\n",
       "      <td>6.3</td>\n",
       "      <td>6.4</td>\n",
       "    </tr>\n",
       "  </tbody>\n",
       "</table>\n",
       "</div>"
      ],
      "text/plain": [
       "          weight  height\n",
       "grandma      7.2     5.6\n",
       "grandson     6.3     6.4"
      ]
     },
     "metadata": {},
     "output_type": "display_data"
    }
   ],
   "source": [
    "# 데이터프레임에서 추출할 행과 열을 지정할 수 있음.\n"
   ]
  },
  {
   "cell_type": "markdown",
   "id": "5e640ec5",
   "metadata": {},
   "source": [
    "## 데이터프레임 다루기\n",
    "- 데이터프레임에 인덱스(행) 및 칼럼(열)을 추가, 변경, 삭제하는 방법을 알아보자."
   ]
  },
  {
   "cell_type": "markdown",
   "id": "97416aea",
   "metadata": {},
   "source": [
    "### 마지막에 칼럼 추가"
   ]
  },
  {
   "cell_type": "code",
   "execution_count": null,
   "id": "095ea8f4",
   "metadata": {},
   "outputs": [
    {
     "data": {
      "text/html": [
       "<div>\n",
       "<style scoped>\n",
       "    .dataframe tbody tr th:only-of-type {\n",
       "        vertical-align: middle;\n",
       "    }\n",
       "\n",
       "    .dataframe tbody tr th {\n",
       "        vertical-align: top;\n",
       "    }\n",
       "\n",
       "    .dataframe thead th {\n",
       "        text-align: right;\n",
       "    }\n",
       "</style>\n",
       "<table border=\"1\" class=\"dataframe\">\n",
       "  <thead>\n",
       "    <tr style=\"text-align: right;\">\n",
       "      <th></th>\n",
       "      <th>age</th>\n",
       "      <th>weight</th>\n",
       "      <th>height</th>\n",
       "      <th>nickname</th>\n",
       "      <th>sex</th>\n",
       "    </tr>\n",
       "  </thead>\n",
       "  <tbody>\n",
       "    <tr>\n",
       "      <th>grandpa</th>\n",
       "      <td>60</td>\n",
       "      <td>3.8</td>\n",
       "      <td>4.4</td>\n",
       "      <td>Shark</td>\n",
       "      <td>M</td>\n",
       "    </tr>\n",
       "    <tr>\n",
       "      <th>grandma</th>\n",
       "      <td>70</td>\n",
       "      <td>7.2</td>\n",
       "      <td>5.6</td>\n",
       "      <td>Audrey</td>\n",
       "      <td>F</td>\n",
       "    </tr>\n",
       "    <tr>\n",
       "      <th>grandson</th>\n",
       "      <td>12</td>\n",
       "      <td>6.3</td>\n",
       "      <td>6.4</td>\n",
       "      <td>Smurf</td>\n",
       "      <td>M</td>\n",
       "    </tr>\n",
       "    <tr>\n",
       "      <th>papa</th>\n",
       "      <td>45</td>\n",
       "      <td>5.5</td>\n",
       "      <td>5.7</td>\n",
       "      <td>Tongk</td>\n",
       "      <td>M</td>\n",
       "    </tr>\n",
       "    <tr>\n",
       "      <th>mama</th>\n",
       "      <td>42</td>\n",
       "      <td>4.6</td>\n",
       "      <td>7.8</td>\n",
       "      <td>JJ</td>\n",
       "      <td>F</td>\n",
       "    </tr>\n",
       "  </tbody>\n",
       "</table>\n",
       "</div>"
      ],
      "text/plain": [
       "          age  weight  height nickname sex\n",
       "grandpa    60     3.8     4.4    Shark   M\n",
       "grandma    70     7.2     5.6   Audrey   F\n",
       "grandson   12     6.3     6.4    Smurf   M\n",
       "papa       45     5.5     5.7    Tongk   M\n",
       "mama       42     4.6     7.8       JJ   F"
      ]
     },
     "execution_count": 21,
     "metadata": {},
     "output_type": "execute_result"
    }
   ],
   "source": [
    "# 데이퍼프레임에 새로운 칼럼 추가\n",
    "dic = {'age': [60, 70, 12, 45, 42],\n",
    "       'weight': [3.8, 7.2, 6.3, 5.5, 4.6],\n",
    "       'height': [4.4, 5.6, 6.4, 5.7, 7.8],\n",
    "       'nickname': ['Shark', 'Audrey', 'Smurf', 'Tongk', 'JJ']}\n",
    "owl = pd.DataFrame(dic, ['grandpa', 'grandma', 'grandson', 'papa','mama'])\n",
    "# hobby 칼럼 추가\n",
    "\n"
   ]
  },
  {
   "cell_type": "markdown",
   "id": "7b0e52d5",
   "metadata": {},
   "source": [
    "### 특정 위치에 칼럼 추가\n"
   ]
  },
  {
   "cell_type": "code",
   "execution_count": null,
   "id": "0265b506",
   "metadata": {},
   "outputs": [
    {
     "data": {
      "text/html": [
       "<div>\n",
       "<style scoped>\n",
       "    .dataframe tbody tr th:only-of-type {\n",
       "        vertical-align: middle;\n",
       "    }\n",
       "\n",
       "    .dataframe tbody tr th {\n",
       "        vertical-align: top;\n",
       "    }\n",
       "\n",
       "    .dataframe thead th {\n",
       "        text-align: right;\n",
       "    }\n",
       "</style>\n",
       "<table border=\"1\" class=\"dataframe\">\n",
       "  <thead>\n",
       "    <tr style=\"text-align: right;\">\n",
       "      <th></th>\n",
       "      <th>sex</th>\n",
       "      <th>age</th>\n",
       "      <th>weight</th>\n",
       "      <th>height</th>\n",
       "      <th>nickname</th>\n",
       "    </tr>\n",
       "  </thead>\n",
       "  <tbody>\n",
       "    <tr>\n",
       "      <th>grandpa</th>\n",
       "      <td>M</td>\n",
       "      <td>60</td>\n",
       "      <td>3.8</td>\n",
       "      <td>4.4</td>\n",
       "      <td>Shark</td>\n",
       "    </tr>\n",
       "    <tr>\n",
       "      <th>grandma</th>\n",
       "      <td>F</td>\n",
       "      <td>70</td>\n",
       "      <td>7.2</td>\n",
       "      <td>5.6</td>\n",
       "      <td>Audrey</td>\n",
       "    </tr>\n",
       "    <tr>\n",
       "      <th>grandson</th>\n",
       "      <td>M</td>\n",
       "      <td>12</td>\n",
       "      <td>6.3</td>\n",
       "      <td>6.4</td>\n",
       "      <td>Smurf</td>\n",
       "    </tr>\n",
       "    <tr>\n",
       "      <th>papa</th>\n",
       "      <td>M</td>\n",
       "      <td>45</td>\n",
       "      <td>5.5</td>\n",
       "      <td>5.7</td>\n",
       "      <td>Tongk</td>\n",
       "    </tr>\n",
       "    <tr>\n",
       "      <th>mama</th>\n",
       "      <td>F</td>\n",
       "      <td>42</td>\n",
       "      <td>4.6</td>\n",
       "      <td>7.8</td>\n",
       "      <td>JJ</td>\n",
       "    </tr>\n",
       "  </tbody>\n",
       "</table>\n",
       "</div>"
      ],
      "text/plain": [
       "         sex  age  weight  height nickname\n",
       "grandpa    M   60     3.8     4.4    Shark\n",
       "grandma    F   70     7.2     5.6   Audrey\n",
       "grandson   M   12     6.3     6.4    Smurf\n",
       "papa       M   45     5.5     5.7    Tongk\n",
       "mama       F   42     4.6     7.8       JJ"
      ]
     },
     "execution_count": 23,
     "metadata": {},
     "output_type": "execute_result"
    }
   ],
   "source": [
    "# 데이퍼프레임에 새로운 칼럼 추가\n",
    "dic = {'age': [60, 70, 12, 45, 42],\n",
    "       'weight': [3.8, 7.2, 6.3, 5.5, 4.6],\n",
    "       'height': [4.4, 5.6, 6.4, 5.7, 7.8],\n",
    "       'nickname': ['Shark', 'Audrey', 'Smurf', 'Tongk', 'JJ']}\n",
    "owl = pd.DataFrame(dic, ['grandpa', 'grandma', 'grandson', 'papa','mama'])\n",
    "\n",
    "# 추가할 해당 칼럼의 위치를 지정하여 칼럼을 추가할 수 있음.\n",
    "# 0부터 시작하는 칼럼 번호를 입력"
   ]
  },
  {
   "cell_type": "markdown",
   "id": "b4a6578e",
   "metadata": {},
   "source": [
    "### 인덱스(행) 추가\n",
    "- 데이터프레임에 새로운 인덱스를 추가할 수 있음.\n",
    "- 인덱스 데이터에 접근할 때 사용했던 방법과 같이 loc[]를 사용하여 새로운 인덱스명과 추가할 데이터 리스트를 입력 가능."
   ]
  },
  {
   "cell_type": "code",
   "execution_count": null,
   "id": "a3d8047b",
   "metadata": {},
   "outputs": [
    {
     "data": {
      "text/html": [
       "<div>\n",
       "<style scoped>\n",
       "    .dataframe tbody tr th:only-of-type {\n",
       "        vertical-align: middle;\n",
       "    }\n",
       "\n",
       "    .dataframe tbody tr th {\n",
       "        vertical-align: top;\n",
       "    }\n",
       "\n",
       "    .dataframe thead th {\n",
       "        text-align: right;\n",
       "    }\n",
       "</style>\n",
       "<table border=\"1\" class=\"dataframe\">\n",
       "  <thead>\n",
       "    <tr style=\"text-align: right;\">\n",
       "      <th></th>\n",
       "      <th>age</th>\n",
       "      <th>weight</th>\n",
       "      <th>height</th>\n",
       "      <th>nickname</th>\n",
       "    </tr>\n",
       "  </thead>\n",
       "  <tbody>\n",
       "    <tr>\n",
       "      <th>grandpa</th>\n",
       "      <td>60</td>\n",
       "      <td>3.8</td>\n",
       "      <td>4.4</td>\n",
       "      <td>Shark</td>\n",
       "    </tr>\n",
       "    <tr>\n",
       "      <th>grandma</th>\n",
       "      <td>70</td>\n",
       "      <td>7.2</td>\n",
       "      <td>5.6</td>\n",
       "      <td>Audrey</td>\n",
       "    </tr>\n",
       "    <tr>\n",
       "      <th>grandson</th>\n",
       "      <td>12</td>\n",
       "      <td>6.3</td>\n",
       "      <td>6.4</td>\n",
       "      <td>Smurf</td>\n",
       "    </tr>\n",
       "    <tr>\n",
       "      <th>papa</th>\n",
       "      <td>45</td>\n",
       "      <td>5.5</td>\n",
       "      <td>5.7</td>\n",
       "      <td>Tongk</td>\n",
       "    </tr>\n",
       "    <tr>\n",
       "      <th>mama</th>\n",
       "      <td>42</td>\n",
       "      <td>4.6</td>\n",
       "      <td>7.8</td>\n",
       "      <td>JJ</td>\n",
       "    </tr>\n",
       "    <tr>\n",
       "      <th>uncle</th>\n",
       "      <td>33</td>\n",
       "      <td>8.2</td>\n",
       "      <td>7.0</td>\n",
       "      <td>DOC</td>\n",
       "    </tr>\n",
       "  </tbody>\n",
       "</table>\n",
       "</div>"
      ],
      "text/plain": [
       "          age  weight  height nickname\n",
       "grandpa    60     3.8     4.4    Shark\n",
       "grandma    70     7.2     5.6   Audrey\n",
       "grandson   12     6.3     6.4    Smurf\n",
       "papa       45     5.5     5.7    Tongk\n",
       "mama       42     4.6     7.8       JJ\n",
       "uncle      33     8.2     7.0      DOC"
      ]
     },
     "execution_count": 24,
     "metadata": {},
     "output_type": "execute_result"
    }
   ],
   "source": [
    "dic = {'age': [60, 70, 12, 45, 42],\n",
    "       'weight': [3.8, 7.2, 6.3, 5.5, 4.6],\n",
    "       'height': [4.4, 5.6, 6.4, 5.7, 7.8],\n",
    "       'nickname': ['Shark', 'Audrey', 'Smurf', 'Tongk', 'JJ']}\n",
    "owl = pd.DataFrame(dic, ['grandpa', 'grandma', 'grandson', 'papa', 'mama'])\n",
    "# uncle 인덱스 데이터 추가\n"
   ]
  },
  {
   "cell_type": "markdown",
   "id": "e8b0396f",
   "metadata": {},
   "source": [
    "### 인덱스(행)의 값 변경\n"
   ]
  },
  {
   "cell_type": "code",
   "execution_count": null,
   "id": "c54adb59",
   "metadata": {},
   "outputs": [
    {
     "data": {
      "text/html": [
       "<div>\n",
       "<style scoped>\n",
       "    .dataframe tbody tr th:only-of-type {\n",
       "        vertical-align: middle;\n",
       "    }\n",
       "\n",
       "    .dataframe tbody tr th {\n",
       "        vertical-align: top;\n",
       "    }\n",
       "\n",
       "    .dataframe thead th {\n",
       "        text-align: right;\n",
       "    }\n",
       "</style>\n",
       "<table border=\"1\" class=\"dataframe\">\n",
       "  <thead>\n",
       "    <tr style=\"text-align: right;\">\n",
       "      <th></th>\n",
       "      <th>age</th>\n",
       "      <th>weight</th>\n",
       "      <th>height</th>\n",
       "      <th>nickname</th>\n",
       "    </tr>\n",
       "  </thead>\n",
       "  <tbody>\n",
       "    <tr>\n",
       "      <th>grandpa</th>\n",
       "      <td>60</td>\n",
       "      <td>3.8</td>\n",
       "      <td>4.4</td>\n",
       "      <td>Shark</td>\n",
       "    </tr>\n",
       "    <tr>\n",
       "      <th>grandma</th>\n",
       "      <td>70</td>\n",
       "      <td>7.2</td>\n",
       "      <td>5.6</td>\n",
       "      <td>Audrey</td>\n",
       "    </tr>\n",
       "    <tr>\n",
       "      <th>grandson</th>\n",
       "      <td>12</td>\n",
       "      <td>6.3</td>\n",
       "      <td>6.4</td>\n",
       "      <td>Smurf</td>\n",
       "    </tr>\n",
       "    <tr>\n",
       "      <th>papa</th>\n",
       "      <td>45</td>\n",
       "      <td>5.5</td>\n",
       "      <td>5.7</td>\n",
       "      <td>Tongk</td>\n",
       "    </tr>\n",
       "    <tr>\n",
       "      <th>mama</th>\n",
       "      <td>42</td>\n",
       "      <td>4.6</td>\n",
       "      <td>7.8</td>\n",
       "      <td>JJ</td>\n",
       "    </tr>\n",
       "    <tr>\n",
       "      <th>uncle</th>\n",
       "      <td>0</td>\n",
       "      <td>0.0</td>\n",
       "      <td>0.0</td>\n",
       "      <td>0</td>\n",
       "    </tr>\n",
       "  </tbody>\n",
       "</table>\n",
       "</div>"
      ],
      "text/plain": [
       "          age  weight  height nickname\n",
       "grandpa    60     3.8     4.4    Shark\n",
       "grandma    70     7.2     5.6   Audrey\n",
       "grandson   12     6.3     6.4    Smurf\n",
       "papa       45     5.5     5.7    Tongk\n",
       "mama       42     4.6     7.8       JJ\n",
       "uncle       0     0.0     0.0        0"
      ]
     },
     "execution_count": 25,
     "metadata": {},
     "output_type": "execute_result"
    }
   ],
   "source": [
    "# uncle 인덱스 데이터 값을 모두 0으로 설정\n"
   ]
  },
  {
   "cell_type": "markdown",
   "id": "d6e238c2",
   "metadata": {},
   "source": [
    "- 데이터프레임 객체.loc['인덱스명', '칼럼명'] = 새로운 값\n",
    "- 데이터프레임 객체.iloc['인덱스 정수형 번호', '칼럼명 정수형 번호'] = 새로운 값\n",
    "- 데이터프레임 객체.set_index('칼럼명', inplace = True/False) -> 인덱스를 다른 칼럼 데이터로 대체 가능"
   ]
  },
  {
   "cell_type": "markdown",
   "id": "d1b9a7fd",
   "metadata": {},
   "source": [
    "### 칼럼(열)의 값 번경"
   ]
  },
  {
   "cell_type": "code",
   "execution_count": null,
   "id": "b1ddd474",
   "metadata": {},
   "outputs": [
    {
     "data": {
      "text/html": [
       "<div>\n",
       "<style scoped>\n",
       "    .dataframe tbody tr th:only-of-type {\n",
       "        vertical-align: middle;\n",
       "    }\n",
       "\n",
       "    .dataframe tbody tr th {\n",
       "        vertical-align: top;\n",
       "    }\n",
       "\n",
       "    .dataframe thead th {\n",
       "        text-align: right;\n",
       "    }\n",
       "</style>\n",
       "<table border=\"1\" class=\"dataframe\">\n",
       "  <thead>\n",
       "    <tr style=\"text-align: right;\">\n",
       "      <th></th>\n",
       "      <th>age</th>\n",
       "      <th>weight</th>\n",
       "      <th>height</th>\n",
       "      <th>nickname</th>\n",
       "    </tr>\n",
       "  </thead>\n",
       "  <tbody>\n",
       "    <tr>\n",
       "      <th>grandpa</th>\n",
       "      <td>60</td>\n",
       "      <td>3.8</td>\n",
       "      <td>4.4</td>\n",
       "      <td>Shark</td>\n",
       "    </tr>\n",
       "    <tr>\n",
       "      <th>grandma</th>\n",
       "      <td>71</td>\n",
       "      <td>7.2</td>\n",
       "      <td>5.6</td>\n",
       "      <td>Audrey</td>\n",
       "    </tr>\n",
       "    <tr>\n",
       "      <th>grandson</th>\n",
       "      <td>12</td>\n",
       "      <td>6.0</td>\n",
       "      <td>6.2</td>\n",
       "      <td>Smurf</td>\n",
       "    </tr>\n",
       "    <tr>\n",
       "      <th>papa</th>\n",
       "      <td>45</td>\n",
       "      <td>5.7</td>\n",
       "      <td>5.4</td>\n",
       "      <td>Tongk</td>\n",
       "    </tr>\n",
       "    <tr>\n",
       "      <th>mama</th>\n",
       "      <td>42</td>\n",
       "      <td>4.6</td>\n",
       "      <td>7.8</td>\n",
       "      <td>JJ</td>\n",
       "    </tr>\n",
       "    <tr>\n",
       "      <th>uncle</th>\n",
       "      <td>0</td>\n",
       "      <td>0.0</td>\n",
       "      <td>0.0</td>\n",
       "      <td>0</td>\n",
       "    </tr>\n",
       "  </tbody>\n",
       "</table>\n",
       "</div>"
      ],
      "text/plain": [
       "          age  weight  height nickname\n",
       "grandpa    60     3.8     4.4    Shark\n",
       "grandma    71     7.2     5.6   Audrey\n",
       "grandson   12     6.0     6.2    Smurf\n",
       "papa       45     5.7     5.4    Tongk\n",
       "mama       42     4.6     7.8       JJ\n",
       "uncle       0     0.0     0.0        0"
      ]
     },
     "execution_count": 26,
     "metadata": {},
     "output_type": "execute_result"
    }
   ],
   "source": []
  },
  {
   "cell_type": "markdown",
   "id": "8686e98d",
   "metadata": {},
   "source": [
    "### 인덱스 변경"
   ]
  },
  {
   "cell_type": "code",
   "execution_count": null,
   "id": "a88f70c3",
   "metadata": {},
   "outputs": [
    {
     "data": {
      "text/html": [
       "<div>\n",
       "<style scoped>\n",
       "    .dataframe tbody tr th:only-of-type {\n",
       "        vertical-align: middle;\n",
       "    }\n",
       "\n",
       "    .dataframe tbody tr th {\n",
       "        vertical-align: top;\n",
       "    }\n",
       "\n",
       "    .dataframe thead th {\n",
       "        text-align: right;\n",
       "    }\n",
       "</style>\n",
       "<table border=\"1\" class=\"dataframe\">\n",
       "  <thead>\n",
       "    <tr style=\"text-align: right;\">\n",
       "      <th></th>\n",
       "      <th>age</th>\n",
       "      <th>weight</th>\n",
       "      <th>height</th>\n",
       "    </tr>\n",
       "    <tr>\n",
       "      <th>nickname</th>\n",
       "      <th></th>\n",
       "      <th></th>\n",
       "      <th></th>\n",
       "    </tr>\n",
       "  </thead>\n",
       "  <tbody>\n",
       "    <tr>\n",
       "      <th>Shark</th>\n",
       "      <td>60</td>\n",
       "      <td>3.8</td>\n",
       "      <td>4.4</td>\n",
       "    </tr>\n",
       "    <tr>\n",
       "      <th>Audrey</th>\n",
       "      <td>71</td>\n",
       "      <td>7.2</td>\n",
       "      <td>5.6</td>\n",
       "    </tr>\n",
       "    <tr>\n",
       "      <th>Smurf</th>\n",
       "      <td>12</td>\n",
       "      <td>6.0</td>\n",
       "      <td>6.2</td>\n",
       "    </tr>\n",
       "    <tr>\n",
       "      <th>Tongk</th>\n",
       "      <td>45</td>\n",
       "      <td>5.7</td>\n",
       "      <td>5.4</td>\n",
       "    </tr>\n",
       "    <tr>\n",
       "      <th>JJ</th>\n",
       "      <td>42</td>\n",
       "      <td>4.6</td>\n",
       "      <td>7.8</td>\n",
       "    </tr>\n",
       "    <tr>\n",
       "      <th>0</th>\n",
       "      <td>0</td>\n",
       "      <td>0.0</td>\n",
       "      <td>0.0</td>\n",
       "    </tr>\n",
       "  </tbody>\n",
       "</table>\n",
       "</div>"
      ],
      "text/plain": [
       "          age  weight  height\n",
       "nickname                     \n",
       "Shark      60     3.8     4.4\n",
       "Audrey     71     7.2     5.6\n",
       "Smurf      12     6.0     6.2\n",
       "Tongk      45     5.7     5.4\n",
       "JJ         42     4.6     7.8\n",
       "0           0     0.0     0.0"
      ]
     },
     "execution_count": 27,
     "metadata": {},
     "output_type": "execute_result"
    }
   ],
   "source": []
  },
  {
   "cell_type": "markdown",
   "id": "6e13d864",
   "metadata": {},
   "source": [
    "### 인덱스명 / 칼럼명 변경"
   ]
  },
  {
   "cell_type": "code",
   "execution_count": null,
   "id": "d5c3a7b4",
   "metadata": {},
   "outputs": [
    {
     "data": {
      "text/html": [
       "<div>\n",
       "<style scoped>\n",
       "    .dataframe tbody tr th:only-of-type {\n",
       "        vertical-align: middle;\n",
       "    }\n",
       "\n",
       "    .dataframe tbody tr th {\n",
       "        vertical-align: top;\n",
       "    }\n",
       "\n",
       "    .dataframe thead th {\n",
       "        text-align: right;\n",
       "    }\n",
       "</style>\n",
       "<table border=\"1\" class=\"dataframe\">\n",
       "  <thead>\n",
       "    <tr style=\"text-align: right;\">\n",
       "      <th></th>\n",
       "      <th>age</th>\n",
       "      <th>weight</th>\n",
       "      <th>height</th>\n",
       "      <th>nickname</th>\n",
       "    </tr>\n",
       "  </thead>\n",
       "  <tbody>\n",
       "    <tr>\n",
       "      <th>GP</th>\n",
       "      <td>60</td>\n",
       "      <td>3.8</td>\n",
       "      <td>4.4</td>\n",
       "      <td>Shark</td>\n",
       "    </tr>\n",
       "    <tr>\n",
       "      <th>GM</th>\n",
       "      <td>70</td>\n",
       "      <td>7.2</td>\n",
       "      <td>5.6</td>\n",
       "      <td>Audrey</td>\n",
       "    </tr>\n",
       "    <tr>\n",
       "      <th>GS</th>\n",
       "      <td>12</td>\n",
       "      <td>6.3</td>\n",
       "      <td>6.4</td>\n",
       "      <td>Smurf</td>\n",
       "    </tr>\n",
       "    <tr>\n",
       "      <th>PP</th>\n",
       "      <td>45</td>\n",
       "      <td>5.5</td>\n",
       "      <td>5.7</td>\n",
       "      <td>Tongk</td>\n",
       "    </tr>\n",
       "    <tr>\n",
       "      <th>MM</th>\n",
       "      <td>42</td>\n",
       "      <td>4.6</td>\n",
       "      <td>7.8</td>\n",
       "      <td>JJ</td>\n",
       "    </tr>\n",
       "  </tbody>\n",
       "</table>\n",
       "</div>"
      ],
      "text/plain": [
       "    age  weight  height nickname\n",
       "GP   60     3.8     4.4    Shark\n",
       "GM   70     7.2     5.6   Audrey\n",
       "GS   12     6.3     6.4    Smurf\n",
       "PP   45     5.5     5.7    Tongk\n",
       "MM   42     4.6     7.8       JJ"
      ]
     },
     "execution_count": 29,
     "metadata": {},
     "output_type": "execute_result"
    }
   ],
   "source": [
    "dic = {'age': [60, 70, 12, 45, 42],\n",
    "       'weight': [3.8, 7.2, 6.3, 5.5, 4.6],\n",
    "       'height': [4.4, 5.6, 6.4, 5.7, 7.8],\n",
    "       'nickname': ['Shark', 'Audrey', 'Smurf', 'Tongk', 'JJ']}\n",
    "owl = pd.DataFrame(dic, ['grandpa', 'grandma', 'grandson', 'papa', 'mama'])\n",
    "\n",
    "# 인덱스명을 rename() 함수로 변경\n",
    "\n"
   ]
  },
  {
   "cell_type": "code",
   "execution_count": null,
   "id": "17666299",
   "metadata": {},
   "outputs": [
    {
     "data": {
      "text/html": [
       "<div>\n",
       "<style scoped>\n",
       "    .dataframe tbody tr th:only-of-type {\n",
       "        vertical-align: middle;\n",
       "    }\n",
       "\n",
       "    .dataframe tbody tr th {\n",
       "        vertical-align: top;\n",
       "    }\n",
       "\n",
       "    .dataframe thead th {\n",
       "        text-align: right;\n",
       "    }\n",
       "</style>\n",
       "<table border=\"1\" class=\"dataframe\">\n",
       "  <thead>\n",
       "    <tr style=\"text-align: right;\">\n",
       "      <th></th>\n",
       "      <th>A</th>\n",
       "      <th>W</th>\n",
       "      <th>H</th>\n",
       "      <th>N</th>\n",
       "    </tr>\n",
       "  </thead>\n",
       "  <tbody>\n",
       "    <tr>\n",
       "      <th>grandpa</th>\n",
       "      <td>60</td>\n",
       "      <td>3.8</td>\n",
       "      <td>4.4</td>\n",
       "      <td>Shark</td>\n",
       "    </tr>\n",
       "    <tr>\n",
       "      <th>grandma</th>\n",
       "      <td>70</td>\n",
       "      <td>7.2</td>\n",
       "      <td>5.6</td>\n",
       "      <td>Audrey</td>\n",
       "    </tr>\n",
       "    <tr>\n",
       "      <th>grandson</th>\n",
       "      <td>12</td>\n",
       "      <td>6.3</td>\n",
       "      <td>6.4</td>\n",
       "      <td>Smurf</td>\n",
       "    </tr>\n",
       "    <tr>\n",
       "      <th>papa</th>\n",
       "      <td>45</td>\n",
       "      <td>5.5</td>\n",
       "      <td>5.7</td>\n",
       "      <td>Tongk</td>\n",
       "    </tr>\n",
       "    <tr>\n",
       "      <th>mama</th>\n",
       "      <td>42</td>\n",
       "      <td>4.6</td>\n",
       "      <td>7.8</td>\n",
       "      <td>JJ</td>\n",
       "    </tr>\n",
       "  </tbody>\n",
       "</table>\n",
       "</div>"
      ],
      "text/plain": [
       "           A    W    H       N\n",
       "grandpa   60  3.8  4.4   Shark\n",
       "grandma   70  7.2  5.6  Audrey\n",
       "grandson  12  6.3  6.4   Smurf\n",
       "papa      45  5.5  5.7   Tongk\n",
       "mama      42  4.6  7.8      JJ"
      ]
     },
     "execution_count": 30,
     "metadata": {},
     "output_type": "execute_result"
    }
   ],
   "source": [
    "dic = {'age': [60, 70, 12, 45, 42],\n",
    "       'weight': [3.8, 7.2, 6.3, 5.5, 4.6],\n",
    "       'height': [4.4, 5.6, 6.4, 5.7, 7.8],\n",
    "       'nickname': ['Shark', 'Audrey', 'Smurf', 'Tongk', 'JJ']}\n",
    "owl = pd.DataFrame(dic, ['grandpa', 'grandma', 'grandson', 'papa', 'mama'])\n",
    "\n",
    "# 칼럼명을 rename() 함수로 번경\n"
   ]
  },
  {
   "cell_type": "markdown",
   "id": "dbd56a71",
   "metadata": {},
   "source": [
    "### 인덱스/칼럼 삭제\n",
    "- 인덱스나 칼럼을 삭제할 때는 drop() 함수를 사용\n",
    "- 삭제할 인덱스명과 삭제할 칼럼명을 지정\n",
    "\n",
    "```\n",
    "데이터프레임 객체.drop(['삭제할 인덱스명'/리스트], axis = 0, inplace = True/False)\n",
    "데이터프레임 객체.drop(['삭제할 칼럼명'/리스트], axis = 1, inplace = True/False)\n",
    "```\n",
    "\n",
    "- axis = 0 은 행(인덱스)를, axis = 1은 칼럼(열)을 의미\n",
    "- inplace 같은 경우 inplace = False가 기본이며 이는 원본을 번경하지 않고 유지한 채 번경된 복사본을 반환, inplace = True로 할 시 원본 데이터를 번경"
   ]
  },
  {
   "cell_type": "code",
   "execution_count": null,
   "id": "b6409a4e",
   "metadata": {},
   "outputs": [],
   "source": []
  },
  {
   "cell_type": "markdown",
   "id": "070e0606",
   "metadata": {},
   "source": [
    "### 인덱스와 칼럼 맞바꾸기\n",
    "- 데이터프레임의 행과 열을 맞바꾸어야 할 때는 transpose() 함수를 사용"
   ]
  },
  {
   "cell_type": "code",
   "execution_count": null,
   "id": "1d89583b",
   "metadata": {},
   "outputs": [],
   "source": [
    "dic = {'age': [60, 70, 12, 45, 42],\n",
    "       'weight': [3.8, 7.2, 6.3, 5.5, 4.6],\n",
    "       'height': [4.4, 5.6, 6.4, 5.7, 7.8],\n",
    "       'nickname': ['Shark', 'Audrey', 'Smurf', 'Tongk', 'JJ']}\n",
    "owl = pd.DataFrame(dic, ['grandpa', 'grandma', 'grandson', 'papa', 'mama'])\n",
    "# 인덱스와 칼럼 맞바꾸기\n"
   ]
  }
 ],
 "metadata": {
  "kernelspec": {
   "display_name": "3.11.11",
   "language": "python",
   "name": "python3"
  },
  "language_info": {
   "codemirror_mode": {
    "name": "ipython",
    "version": 3
   },
   "file_extension": ".py",
   "mimetype": "text/x-python",
   "name": "python",
   "nbconvert_exporter": "python",
   "pygments_lexer": "ipython3",
   "version": "3.11.11"
  }
 },
 "nbformat": 4,
 "nbformat_minor": 5
}
