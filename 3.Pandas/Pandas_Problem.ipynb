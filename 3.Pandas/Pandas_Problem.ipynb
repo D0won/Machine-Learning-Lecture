{
 "cells": [
  {
   "cell_type": "code",
   "execution_count": null,
   "id": "16cc6612",
   "metadata": {},
   "outputs": [],
   "source": [
    "import pandas as pd"
   ]
  },
  {
   "cell_type": "markdown",
   "id": "7d7328ea",
   "metadata": {},
   "source": [
    "# 판다스 문제"
   ]
  },
  {
   "cell_type": "markdown",
   "id": "63ea403b",
   "metadata": {},
   "source": [
    "### 1. 다음 표를 참고하여 시리즈를 2가지 방식으로 생성하시오.\n",
    "\n",
    "#### 과일 값\n",
    "| 인덱스 | 값 |\n",
    "|:---:|:---:|\n",
    "| Apple | 100 |\n",
    "| Banana | 150 |\n",
    "| Cherry | 75 |\n",
    "| Grape | 200 |\n",
    "| Mango | 90 |"
   ]
  },
  {
   "cell_type": "code",
   "execution_count": null,
   "id": "a73ed043",
   "metadata": {},
   "outputs": [],
   "source": [
    "# 1-1. 첫번째 방식\n"
   ]
  },
  {
   "cell_type": "code",
   "execution_count": null,
   "id": "46111c38",
   "metadata": {},
   "outputs": [],
   "source": [
    "# 1-2. 두번째 방식\n"
   ]
  },
  {
   "cell_type": "markdown",
   "id": "eec68f62",
   "metadata": {},
   "source": [
    "### 2. 다음 표를 참고하여 넘파이를 활용하여 시리즈를 생성하시오!(넘파이의 특정 함수를 활용하여 인덱스와 값을 생성해야함)\n",
    "\n",
    "| 인덱스 | 값  |\n",
    "| :---:| :-: |\n",
    "|  1   | 0   |\n",
    "|  2   | 2   |\n",
    "|  3   | 4   |\n",
    "|  4   | 6   |\n",
    "|  5   | 8   |\n",
    "|  6   | 10  |"
   ]
  },
  {
   "cell_type": "code",
   "execution_count": null,
   "id": "a73be8b6",
   "metadata": {},
   "outputs": [],
   "source": [
    "import numpy as np\n",
    "\n"
   ]
  },
  {
   "cell_type": "markdown",
   "id": "1886851e",
   "metadata": {},
   "source": [
    "### 3. 다음 표를 생성하고 다음 3문제를 푸시오.\n",
    "\n",
    "#### 일상의 작은 습관들\n",
    "\n",
    "| 인덱스 | 값 |\n",
    "|:---:|:---:|\n",
    "| 월요일 | 커피 마시기 |\n",
    "| 화요일 | 아침 산책 |\n",
    "| 수요일 | 독서 |\n",
    "| 목요일 | 운동 |\n",
    "| 금요일 | 영화 보기 |\n",
    "| 토요일 | 친구 만나기 |\n",
    "| 일요일 | 낮잠 자기 |"
   ]
  },
  {
   "cell_type": "markdown",
   "id": "b74bbbde",
   "metadata": {},
   "source": [
    "#### 3-0. 위 표를 생성하시오."
   ]
  },
  {
   "cell_type": "code",
   "execution_count": null,
   "id": "0ddb78f6",
   "metadata": {},
   "outputs": [],
   "source": [
    "# 3-0\n"
   ]
  },
  {
   "cell_type": "markdown",
   "id": "77111c9d",
   "metadata": {},
   "source": [
    "#### 3-1. 월요일날 무엇을 하였는지 인덱스를 활용하여 출력하시오."
   ]
  },
  {
   "cell_type": "code",
   "execution_count": null,
   "id": "5eaaf797",
   "metadata": {},
   "outputs": [],
   "source": [
    "# 3-1\n"
   ]
  },
  {
   "cell_type": "markdown",
   "id": "669b1936",
   "metadata": {},
   "source": [
    "#### 3-2. 다음 표의 인덱스들을 출력하시오."
   ]
  },
  {
   "cell_type": "code",
   "execution_count": null,
   "id": "d4ddbf9e",
   "metadata": {},
   "outputs": [],
   "source": [
    "# 3-2\n"
   ]
  },
  {
   "cell_type": "markdown",
   "id": "51a39a70",
   "metadata": {},
   "source": [
    "#### 3-3. 다음 표의 값들을 출력하시오."
   ]
  },
  {
   "cell_type": "code",
   "execution_count": null,
   "id": "983db142",
   "metadata": {},
   "outputs": [],
   "source": [
    "# 3-3\n"
   ]
  },
  {
   "cell_type": "markdown",
   "id": "30289848",
   "metadata": {},
   "source": [
    "### 4. 다음 표를 생성하고 다음 문제들을 푸시오.\n",
    "\n",
    "#### 일주일간의 수면 시간\n",
    "\n",
    "| 인덱스 | 값 (시간) |\n",
    "|:---:|:---:|\n",
    "| 월요일 | 7.5 |\n",
    "| 화요일 | 6.8 |\n",
    "| 수요일 | 7.0 |\n",
    "| 목요일 | NaN |\n",
    "| 금요일 | 7.2 |\n",
    "| 토요일 | 8.5 |\n",
    "| 일요일 | 9.0 |\n"
   ]
  },
  {
   "cell_type": "markdown",
   "id": "ea561278",
   "metadata": {},
   "source": [
    "#### 4-0. 위 표를 생성하시오."
   ]
  },
  {
   "cell_type": "code",
   "execution_count": null,
   "id": "f556f759",
   "metadata": {},
   "outputs": [],
   "source": [
    "# 4-0\n"
   ]
  },
  {
   "cell_type": "markdown",
   "id": "ceea8128",
   "metadata": {},
   "source": [
    "#### 4-1. 시리즈의 형태를 출력하시오."
   ]
  },
  {
   "cell_type": "code",
   "execution_count": null,
   "id": "670c1cf8",
   "metadata": {},
   "outputs": [],
   "source": [
    "# 4-1\n"
   ]
  },
  {
   "cell_type": "markdown",
   "id": "df3b5278",
   "metadata": {},
   "source": [
    "#### 4-2. 시리즈의 데이터 개수를 출력하시오."
   ]
  },
  {
   "cell_type": "code",
   "execution_count": null,
   "id": "98842f94",
   "metadata": {},
   "outputs": [],
   "source": [
    "# 4-2\n"
   ]
  },
  {
   "cell_type": "markdown",
   "id": "f5ccf8e5",
   "metadata": {},
   "source": [
    "#### 4-3. 값이 존재하는 데이터의 개수를 출력하시오."
   ]
  },
  {
   "cell_type": "code",
   "execution_count": null,
   "id": "ac2fa434",
   "metadata": {},
   "outputs": [],
   "source": [
    "# 4-3\n"
   ]
  },
  {
   "cell_type": "markdown",
   "id": "373e5463",
   "metadata": {},
   "source": [
    "#### 4-4. 데이터의 종류를 출력하시오."
   ]
  },
  {
   "cell_type": "code",
   "execution_count": null,
   "id": "1eb6346c",
   "metadata": {},
   "outputs": [],
   "source": [
    "# 4-4\n"
   ]
  },
  {
   "cell_type": "markdown",
   "id": "9560bec5",
   "metadata": {},
   "source": [
    "#### 4-5. 각 데이터의 값의 개수를 출력하시오."
   ]
  },
  {
   "cell_type": "code",
   "execution_count": null,
   "id": "9de769f9",
   "metadata": {},
   "outputs": [],
   "source": [
    "# 4-5\n"
   ]
  },
  {
   "cell_type": "markdown",
   "id": "029f515f",
   "metadata": {},
   "source": [
    "#### 4-6. 일주일 간 수면 시간 평균을 출력하시오."
   ]
  },
  {
   "cell_type": "code",
   "execution_count": null,
   "id": "7cb05646",
   "metadata": {},
   "outputs": [],
   "source": [
    "# 4-6\n"
   ]
  },
  {
   "cell_type": "markdown",
   "id": "e90a3555",
   "metadata": {},
   "source": [
    "#### 4-7. 위 3개의 데이터만 출력하시오."
   ]
  },
  {
   "cell_type": "code",
   "execution_count": null,
   "id": "d1be58fb",
   "metadata": {},
   "outputs": [],
   "source": [
    "# 4-7\n"
   ]
  },
  {
   "cell_type": "markdown",
   "id": "c96a1881",
   "metadata": {},
   "source": [
    "#### 4-8. 아래 3개의 데이터만 출력하시오."
   ]
  },
  {
   "cell_type": "code",
   "execution_count": null,
   "id": "8c88625f",
   "metadata": {},
   "outputs": [],
   "source": [
    "# 4-8\n"
   ]
  },
  {
   "cell_type": "markdown",
   "id": "b1440413",
   "metadata": {},
   "source": [
    "### 5. 최종 주식 평가 금액 계산\n",
    "\n",
    "A와 B, 두 명의 투자자가 각기 다른 주식 종목을 보유하고 있습니다.</br>\n",
    "두 사람의 포트폴리오 변동 내역과 모든 주식에 동일하게 적용되는 최종 평가 배수가 주어졌을 때, 각 주식 종목의 최종 평가 금액을 계산하는 것이 문제입니다.\n",
    "\n",
    "- 데이터\n",
    "\n",
    "1. portfolio_A: 투자자 A의 초기 보유 주식 수를 나타내는 시리즈입니다. ('삼성전자'는 데이터가 누락되었습니다.)\n",
    "\n",
    "2. portfolio_B: 투자자 B의 순매수 (양수) 및 순매도 (음수) 주식 수를 나타내는 시리즈입니다.\n",
    "\n",
    "3. multiplier: 모든 주식에 동일하게 적용되는 최종 평가 배수(scalar)입니다.\n",
    "\n",
    "계산 공식 : `최종 평가 금액 = (A 투자자의 초기 보유량 + B 투자자의 순매수/순매도 량) * 최종 평가 배수`"
   ]
  },
  {
   "cell_type": "code",
   "execution_count": null,
   "id": "d8cf6c5a",
   "metadata": {},
   "outputs": [],
   "source": [
    "import pandas as pd\n",
    "import numpy as np\n",
    "\n",
    "# 투자자 A의 초기 보유 주식 수\n",
    "portfolio_A = pd.Series({'카카오': 100, '네이버': 150, '삼성전자': np.nan, '현대차': 80})\n",
    "\n",
    "# 투자자 B의 순매수/순매도 주식 수\n",
    "portfolio_B = pd.Series({'카카오': -30, '네이버': 50, 'SK하이닉스': 200, '현대차': -20})\n",
    "\n",
    "# 최종 평가 배수\n",
    "multiplier = 1.2\n"
   ]
  },
  {
   "cell_type": "code",
   "execution_count": null,
   "id": "988d3bcf",
   "metadata": {},
   "outputs": [],
   "source": [
    "# 답안 작성\n"
   ]
  },
  {
   "cell_type": "markdown",
   "id": "a5738f94",
   "metadata": {},
   "source": [
    "### 6. 다음 표를 참고하여 3가지 방식으로 데이터프레임을 생성하시오.\n",
    "\n",
    "#### 온라인 쇼핑몰 주문 정보\n",
    "\n",
    "| 주문번호(인덱스) | 상품명 | 가격 | 수량 |\n",
    "| :--- | :--- | :--- | :--- |\n",
    "| 1 | 텀블러 | 15000 | 2 |\n",
    "| 2 | 머그컵 | 12000 | 1 |\n",
    "| 3 | 키보드 | 85000 | 1 |\n",
    "| 4 | 텀블러 | 15000 | 1 |\n",
    "| 5 | 마우스 | 25000 | 2 |\n"
   ]
  },
  {
   "cell_type": "code",
   "execution_count": null,
   "id": "300d9d0d",
   "metadata": {},
   "outputs": [],
   "source": [
    "# 6-1. 첫번쨰 방식\n"
   ]
  },
  {
   "cell_type": "code",
   "execution_count": null,
   "id": "ebb34ec5",
   "metadata": {},
   "outputs": [],
   "source": [
    "# 6-2. 두번째 방식\n"
   ]
  },
  {
   "cell_type": "code",
   "execution_count": null,
   "id": "3f277bf9",
   "metadata": {},
   "outputs": [],
   "source": [
    "# 6-3. 세번쨰 방식\n"
   ]
  },
  {
   "cell_type": "markdown",
   "id": "bf7965d6",
   "metadata": {},
   "source": [
    "### 7. 위 6번 문제에서 생성된 온라인 쇼핑몰 주문 정보를 담은 데이터프레임을 가지고 다음 문제들을 푸시오.(단, 판다스의 함수를 활용하여 푸시오)\n",
    "\n",
    "#### 온라인 쇼핑몰 주문 정보\n",
    "\n",
    "| 주문번호 | 상품명 | 가격 | 수량 |\n",
    "| :--- | :--- | :--- | :--- |\n",
    "| 001 | 텀블러 | 15000 | 2 |\n",
    "| 002 | 머그컵 | 12000 | 1 |\n",
    "| 003 | 키보드 | 85000 | 1 |\n",
    "| 004 | 텀블러 | 15000 | 1 |\n",
    "| 005 | 마우스 | 25000 | 2 |"
   ]
  },
  {
   "cell_type": "markdown",
   "id": "b9d88e84",
   "metadata": {},
   "source": [
    "#### 7-1. 상품의 종류가 무엇이 있는지 출력하시오."
   ]
  },
  {
   "cell_type": "code",
   "execution_count": null,
   "id": "2721fdbd",
   "metadata": {},
   "outputs": [],
   "source": [
    "# 7-1\n"
   ]
  },
  {
   "cell_type": "markdown",
   "id": "2f5088b6",
   "metadata": {},
   "source": [
    "#### 7-2. 상품의 평균 가격을 출력하시오."
   ]
  },
  {
   "cell_type": "code",
   "execution_count": null,
   "id": "3eee2662",
   "metadata": {},
   "outputs": [],
   "source": [
    "# 7-2\n"
   ]
  },
  {
   "cell_type": "markdown",
   "id": "2eeefcd7",
   "metadata": {},
   "source": [
    "#### 7-3. 상품의 수량을 고려하여 전체 상품들의 평균 가격을 출력하시오."
   ]
  },
  {
   "cell_type": "code",
   "execution_count": null,
   "id": "fff074d8",
   "metadata": {},
   "outputs": [],
   "source": [
    "# 7-3\n"
   ]
  },
  {
   "cell_type": "markdown",
   "id": "36d3c583",
   "metadata": {},
   "source": [
    "### 8. 다음 표를 데이터프레임으로 생성하고 다음 문제들을 푸시오.\n",
    "\n",
    "#### 영화 정보\n",
    "\n",
    "| 제목 | 감독 | 장르 | 러닝타임(분) | 개봉연도 |\n",
    "| :--- | :--- | :--- | :--- | :--- |\n",
    "| 인터스텔라 | 크리스토퍼 놀란 | SF | 169 | 2014 |\n",
    "| 어벤져스: 엔드게임 | 안소니 루소, 조 루소 | 액션, SF | 181 | 2019 |\n",
    "| 기생충 | 봉준호 | 드라마, 스릴러 | 132 | 2019 |\n",
    "| 라라랜드 | 데이미언 셔젤 | 뮤지컬, 드라마 | 128 | 2016 |\n",
    "| 겨울왕국 2 | 크리스 벅, 제니퍼 리 | 애니메이션, 뮤지컬 | 103 | 2019 |\n"
   ]
  },
  {
   "cell_type": "code",
   "execution_count": null,
   "id": "5711404d",
   "metadata": {},
   "outputs": [],
   "source": [
    "# 데이터 프레임 생성\n",
    "movie = {\n",
    "    '감독': ['크리스토퍼 놀란', '안소니 루소, 조 루소', '봉준호', '데이미언 셔젤', '크리스 벅, 제니퍼 리'],\n",
    "    '장르': ['SF', '액션, SF', '드라마, 스릴러', '뮤지컬, 드라마', '애니메이션, 뮤지컬'],\n",
    "    '러닝타임(분)': [169, 181, 132, 128, 103],\n",
    "    '개봉연도': [2014, 2019, 2019, 2016, 2019]\n",
    "}\n",
    "movieData = pd.DataFrame(movie, ['인터스텔라', '어벤져스: 엔드게임', '기생충', '라라랜드', '겨울왕국 2'])\n",
    "movieData"
   ]
  },
  {
   "cell_type": "markdown",
   "id": "b0ba6b60",
   "metadata": {},
   "source": [
    "#### 8-1. 영화 '기생충'의 정보를 두가지 방식으로 출력하시오."
   ]
  },
  {
   "cell_type": "code",
   "execution_count": null,
   "id": "c9332882",
   "metadata": {},
   "outputs": [],
   "source": [
    "# 영화 정보 출력\n"
   ]
  },
  {
   "cell_type": "code",
   "execution_count": null,
   "id": "391e3cd1",
   "metadata": {},
   "outputs": [],
   "source": [
    "# 첫번째 방식\n"
   ]
  },
  {
   "cell_type": "code",
   "execution_count": null,
   "id": "1cbae5b0",
   "metadata": {},
   "outputs": [],
   "source": [
    "# 두번째 방식\n"
   ]
  },
  {
   "cell_type": "markdown",
   "id": "21b440c2",
   "metadata": {},
   "source": [
    "#### 8-2. 영화 인터스텔라부터 라라랜드까지의 정보를 두가지 방식으로 출력하시오."
   ]
  },
  {
   "cell_type": "code",
   "execution_count": null,
   "id": "6a06b8f0",
   "metadata": {},
   "outputs": [],
   "source": [
    "# 영화 정보 출력\n"
   ]
  },
  {
   "cell_type": "code",
   "execution_count": null,
   "id": "d7456118",
   "metadata": {},
   "outputs": [],
   "source": [
    "# 첫번째 방식\n"
   ]
  },
  {
   "cell_type": "code",
   "execution_count": null,
   "id": "7fd51a2e",
   "metadata": {},
   "outputs": [],
   "source": [
    "# 두번째 방식\n"
   ]
  },
  {
   "cell_type": "markdown",
   "id": "0d170bfa",
   "metadata": {},
   "source": [
    "####  8-3. 영화 기생충, 라라랜드의 감독들과 장르들을 출력하시오.(loc[] 사용]"
   ]
  },
  {
   "cell_type": "code",
   "execution_count": null,
   "id": "8e008847",
   "metadata": {},
   "outputs": [],
   "source": [
    "# 영화 정보 출력\n"
   ]
  },
  {
   "cell_type": "code",
   "execution_count": null,
   "id": "ece9106d",
   "metadata": {},
   "outputs": [],
   "source": [
    "# 8-3\n"
   ]
  },
  {
   "cell_type": "markdown",
   "id": "f3dcd34e",
   "metadata": {},
   "source": [
    "#### 8-4. 영화 어벤져스와 겨울왕국2의 러닝타임과 개봉연도를 출력하시오.(iloc[] 사용)"
   ]
  },
  {
   "cell_type": "code",
   "execution_count": null,
   "id": "ae7280a3",
   "metadata": {},
   "outputs": [],
   "source": [
    "# 영화 정보 출력\n"
   ]
  },
  {
   "cell_type": "code",
   "execution_count": null,
   "id": "c31e165f",
   "metadata": {},
   "outputs": [],
   "source": [
    "# 8-4\n"
   ]
  },
  {
   "cell_type": "markdown",
   "id": "842ffcd3",
   "metadata": {},
   "source": [
    "#### 8-5. 다음은 표에 나타난 영화들의 평점들이다. 이를 표 3번째 위치에 새로운 칼럼으로 추가하시오.\n",
    "\n",
    "| 제목 | 평점 |\n",
    "|:--- |---:|\n",
    "| 인터스텔라 | 9.2 |\n",
    "| 어벤져스: 엔드게임 | 9.4 |\n",
    "| 기생충 | 9.0 |\n",
    "| 라라랜드 | 8.9 |\n",
    "| 겨울왕국 2 | 8.5 |"
   ]
  },
  {
   "cell_type": "code",
   "execution_count": null,
   "id": "14b8a27c",
   "metadata": {},
   "outputs": [],
   "source": [
    "# 영화 정보 출력\n"
   ]
  },
  {
   "cell_type": "code",
   "execution_count": null,
   "id": "0e036c4d",
   "metadata": {},
   "outputs": [],
   "source": [
    "# 8-5\n"
   ]
  },
  {
   "cell_type": "markdown",
   "id": "082d6efb",
   "metadata": {},
   "source": [
    "#### 8-6 아래의 영화 정보를 기존 데이터프레임에 추가하시오.\n",
    "\n",
    "\n",
    "### 추가할 영화 정보\n",
    "\n",
    "| 제목 | 감독 | 장르 | 평점 |러닝타임(분) | 개봉연도 |\n",
    "| :--- | :--- | :--- | :--- | :--- | :--- |\n",
    "| 범죄도시 3 | 이상용 | 액션, 범죄 |9.3 | 105 | 2023 |\n",
    "\n"
   ]
  },
  {
   "cell_type": "code",
   "execution_count": null,
   "id": "d754c25c",
   "metadata": {},
   "outputs": [],
   "source": [
    "# 8-6\n"
   ]
  },
  {
   "cell_type": "markdown",
   "id": "be12997e",
   "metadata": {},
   "source": [
    "#### 8-7 인터스텔라와 라라랜드의 평점을 각각 9.4, 9.2로 수정하시오.\n"
   ]
  },
  {
   "cell_type": "code",
   "execution_count": null,
   "id": "3f45418d",
   "metadata": {},
   "outputs": [],
   "source": [
    "# 데이터프레임 출력\n"
   ]
  },
  {
   "cell_type": "code",
   "execution_count": null,
   "id": "057440d5",
   "metadata": {},
   "outputs": [],
   "source": [
    "# 8-7\n"
   ]
  },
  {
   "cell_type": "markdown",
   "id": "4ffe87b5",
   "metadata": {},
   "source": [
    "#### 8-8. 영화제목을 다 영어로 바꾸시오.(번역기 사용 가능)"
   ]
  },
  {
   "cell_type": "code",
   "execution_count": null,
   "id": "15012132",
   "metadata": {},
   "outputs": [],
   "source": [
    "# 8-8\n"
   ]
  },
  {
   "cell_type": "markdown",
   "id": "0be4ee8a",
   "metadata": {},
   "source": [
    "#### 8-9. 칼럼명을 다 영어로 바꾸시오.(번역기 사용 가능)"
   ]
  },
  {
   "cell_type": "code",
   "execution_count": null,
   "id": "dbf0c843",
   "metadata": {},
   "outputs": [],
   "source": [
    "# 8-9\n"
   ]
  },
  {
   "cell_type": "markdown",
   "id": "2bfdeff2",
   "metadata": {},
   "source": [
    "#### 8-10. 러닝타임 칼럼을 데이터프레임에서 제거하시오."
   ]
  },
  {
   "cell_type": "code",
   "execution_count": null,
   "id": "bdfa72cb",
   "metadata": {},
   "outputs": [],
   "source": [
    "# 데이터프레임 출력\n"
   ]
  },
  {
   "cell_type": "code",
   "execution_count": null,
   "id": "70ebb26b",
   "metadata": {},
   "outputs": [],
   "source": [
    "# 8-10\n"
   ]
  },
  {
   "cell_type": "markdown",
   "id": "19a51b05",
   "metadata": {},
   "source": [
    "#### 8-11. 인터스텔라 영화를 데이터프레임에서 제거하시오."
   ]
  },
  {
   "cell_type": "code",
   "execution_count": null,
   "id": "fa72eccf",
   "metadata": {},
   "outputs": [],
   "source": [
    "# 8-11\n"
   ]
  }
 ],
 "metadata": {
  "kernelspec": {
   "display_name": "3.11.11",
   "language": "python",
   "name": "python3"
  },
  "language_info": {
   "codemirror_mode": {
    "name": "ipython",
    "version": 3
   },
   "file_extension": ".py",
   "mimetype": "text/x-python",
   "name": "python",
   "nbconvert_exporter": "python",
   "pygments_lexer": "ipython3",
   "version": "3.11.11"
  }
 },
 "nbformat": 4,
 "nbformat_minor": 5
}
