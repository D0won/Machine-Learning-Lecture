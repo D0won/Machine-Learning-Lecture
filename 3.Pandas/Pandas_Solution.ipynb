{
 "cells": [
  {
   "cell_type": "code",
   "execution_count": 57,
   "id": "16cc6612",
   "metadata": {},
   "outputs": [],
   "source": [
    "import pandas as pd"
   ]
  },
  {
   "cell_type": "markdown",
   "id": "7d7328ea",
   "metadata": {},
   "source": [
    "# 판다스 문제"
   ]
  },
  {
   "cell_type": "markdown",
   "id": "63ea403b",
   "metadata": {},
   "source": [
    "### 1. 다음 표를 참고하여 시리즈를 2가지 방식으로 생성하시오.\n",
    "\n",
    "#### 과일 값\n",
    "| 인덱스 | 값 |\n",
    "|:---:|:---:|\n",
    "| Apple | 100 |\n",
    "| Banana | 150 |\n",
    "| Cherry | 75 |\n",
    "| Grape | 200 |\n",
    "| Mango | 90 |"
   ]
  },
  {
   "cell_type": "code",
   "execution_count": 58,
   "id": "a73ed043",
   "metadata": {},
   "outputs": [
    {
     "data": {
      "text/plain": [
       "Apple     100\n",
       "Banana    150\n",
       "Cherry     75\n",
       "Grape     200\n",
       "Mango      90\n",
       "dtype: int64"
      ]
     },
     "execution_count": 58,
     "metadata": {},
     "output_type": "execute_result"
    }
   ],
   "source": [
    "# 1-1. 첫번째 방식\n",
    "fruits1 = pd.Series([100, 150, 75, 200, 90], ['Apple', 'Banana', 'Cherry', 'Grape', 'Mango'])\n",
    "fruits1"
   ]
  },
  {
   "cell_type": "code",
   "execution_count": 59,
   "id": "46111c38",
   "metadata": {},
   "outputs": [
    {
     "data": {
      "text/plain": [
       "Apple     100\n",
       "Banana    150\n",
       "Cherry     75\n",
       "Grape     200\n",
       "Mango      90\n",
       "dtype: int64"
      ]
     },
     "execution_count": 59,
     "metadata": {},
     "output_type": "execute_result"
    }
   ],
   "source": [
    "# 1-2. 두번째 방식\n",
    "fruits2 = pd.Series({'Apple' : 100, 'Banana' : 150, 'Cherry' : 75, 'Grape' : 200, 'Mango' : 90})\n",
    "fruits2"
   ]
  },
  {
   "cell_type": "markdown",
   "id": "eec68f62",
   "metadata": {},
   "source": [
    "### 2. 다음 표를 참고하여 넘파이를 활용하여 시리즈를 생성하시오!(넘파이의 특정 함수를 활용하여 인덱스와 값을 생성해야함)\n",
    "\n",
    "| 인덱스 | 값  |\n",
    "| :---:| :-: |\n",
    "|  1   | 0   |\n",
    "|  2   | 2   |\n",
    "|  3   | 4   |\n",
    "|  4   | 6   |\n",
    "|  5   | 8   |\n",
    "|  6   | 10  |"
   ]
  },
  {
   "cell_type": "code",
   "execution_count": 60,
   "id": "a73be8b6",
   "metadata": {},
   "outputs": [
    {
     "data": {
      "text/plain": [
       "1     0\n",
       "2     2\n",
       "3     4\n",
       "4     6\n",
       "5     8\n",
       "6    10\n",
       "dtype: int64"
      ]
     },
     "execution_count": 60,
     "metadata": {},
     "output_type": "execute_result"
    }
   ],
   "source": [
    "import numpy as np\n",
    "\n",
    "numTable = pd.Series(np.arange(0, 11, 2), np.arange(1, 7))\n",
    "numTable"
   ]
  },
  {
   "cell_type": "markdown",
   "id": "1886851e",
   "metadata": {},
   "source": [
    "### 3. 다음 표를 생성하고 다음 3문제를 푸시오.\n",
    "\n",
    "#### 일상의 작은 습관들\n",
    "\n",
    "| 인덱스 | 값 |\n",
    "|:---:|:---:|\n",
    "| 월요일 | 커피 마시기 |\n",
    "| 화요일 | 아침 산책 |\n",
    "| 수요일 | 독서 |\n",
    "| 목요일 | 운동 |\n",
    "| 금요일 | 영화 보기 |\n",
    "| 토요일 | 친구 만나기 |\n",
    "| 일요일 | 낮잠 자기 |"
   ]
  },
  {
   "cell_type": "markdown",
   "id": "b74bbbde",
   "metadata": {},
   "source": [
    "#### 3-0. 위 표를 생성하시오."
   ]
  },
  {
   "cell_type": "code",
   "execution_count": 61,
   "id": "0ddb78f6",
   "metadata": {},
   "outputs": [
    {
     "data": {
      "text/plain": [
       "월요일    커피 마시기\n",
       "화요일     아침 산책\n",
       "수요일        독서\n",
       "목요일        운동\n",
       "금요일      영화보기\n",
       "토요일    친구 만나기\n",
       "일요일     낮잠 자기\n",
       "dtype: object"
      ]
     },
     "execution_count": 61,
     "metadata": {},
     "output_type": "execute_result"
    }
   ],
   "source": [
    "# 3-0\n",
    "habits = pd.Series({'월요일' : '커피 마시기', '화요일' : '아침 산책', '수요일' : '독서', '목요일' : '운동', '금요일' : '영화보기', '토요일' : '친구 만나기', '일요일' :  '낮잠 자기'})\n",
    "habits"
   ]
  },
  {
   "cell_type": "markdown",
   "id": "77111c9d",
   "metadata": {},
   "source": [
    "#### 3-1. 월요일날 무엇을 하였는지 인덱스를 활용하여 출력하시오."
   ]
  },
  {
   "cell_type": "code",
   "execution_count": 62,
   "id": "5eaaf797",
   "metadata": {},
   "outputs": [
    {
     "data": {
      "text/plain": [
       "'커피 마시기'"
      ]
     },
     "execution_count": 62,
     "metadata": {},
     "output_type": "execute_result"
    }
   ],
   "source": [
    "# 3-1\n",
    "habits['월요일']"
   ]
  },
  {
   "cell_type": "markdown",
   "id": "669b1936",
   "metadata": {},
   "source": [
    "#### 3-2. 다음 표의 인덱스들을 출력하시오."
   ]
  },
  {
   "cell_type": "code",
   "execution_count": 63,
   "id": "d4ddbf9e",
   "metadata": {},
   "outputs": [
    {
     "data": {
      "text/plain": [
       "Index(['월요일', '화요일', '수요일', '목요일', '금요일', '토요일', '일요일'], dtype='object')"
      ]
     },
     "execution_count": 63,
     "metadata": {},
     "output_type": "execute_result"
    }
   ],
   "source": [
    "# 3-2\n",
    "habits.index"
   ]
  },
  {
   "cell_type": "markdown",
   "id": "51a39a70",
   "metadata": {},
   "source": [
    "#### 3-3. 다음 표의 값들을 출력하시오."
   ]
  },
  {
   "cell_type": "code",
   "execution_count": 64,
   "id": "983db142",
   "metadata": {},
   "outputs": [
    {
     "data": {
      "text/plain": [
       "array(['커피 마시기', '아침 산책', '독서', '운동', '영화보기', '친구 만나기', '낮잠 자기'],\n",
       "      dtype=object)"
      ]
     },
     "execution_count": 64,
     "metadata": {},
     "output_type": "execute_result"
    }
   ],
   "source": [
    "# 3-3\n",
    "habits.values"
   ]
  },
  {
   "cell_type": "markdown",
   "id": "30289848",
   "metadata": {},
   "source": [
    "### 4. 다음 표를 생성하고 다음 문제들을 푸시오.\n",
    "\n",
    "#### 일주일간의 수면 시간\n",
    "\n",
    "| 인덱스 | 값 (시간) |\n",
    "|:---:|:---:|\n",
    "| 월요일 | 7.5 |\n",
    "| 화요일 | 6.8 |\n",
    "| 수요일 | 7.0 |\n",
    "| 목요일 | NaN |\n",
    "| 금요일 | 7.2 |\n",
    "| 토요일 | 8.5 |\n",
    "| 일요일 | 9.0 |\n"
   ]
  },
  {
   "cell_type": "markdown",
   "id": "ea561278",
   "metadata": {},
   "source": [
    "#### 4-0. 위 표를 생성하시오."
   ]
  },
  {
   "cell_type": "code",
   "execution_count": 65,
   "id": "f556f759",
   "metadata": {},
   "outputs": [
    {
     "data": {
      "text/plain": [
       "월요일    7.5\n",
       "화요일    6.8\n",
       "수요일    7.0\n",
       "목요일    NaN\n",
       "금요일    7.2\n",
       "토요일    8.5\n",
       "일요일    9.0\n",
       "dtype: float64"
      ]
     },
     "execution_count": 65,
     "metadata": {},
     "output_type": "execute_result"
    }
   ],
   "source": [
    "# 4-0\n",
    "sleepTime = pd.Series({'월요일' : 7.5, '화요일' : 6.8, '수요일' : 7.0, '목요일' : np.nan, '금요일' : 7.2, '토요일' : 8.5, '일요일' : 9.0})\n",
    "sleepTime"
   ]
  },
  {
   "cell_type": "markdown",
   "id": "ceea8128",
   "metadata": {},
   "source": [
    "#### 4-1. 시리즈의 형태를 출력하시오."
   ]
  },
  {
   "cell_type": "code",
   "execution_count": 66,
   "id": "670c1cf8",
   "metadata": {},
   "outputs": [
    {
     "data": {
      "text/plain": [
       "(7,)"
      ]
     },
     "execution_count": 66,
     "metadata": {},
     "output_type": "execute_result"
    }
   ],
   "source": [
    "# 4-1\n",
    "sleepTime.shape"
   ]
  },
  {
   "cell_type": "markdown",
   "id": "df3b5278",
   "metadata": {},
   "source": [
    "#### 4-2. 시리즈의 데이터 개수를 출력하시오."
   ]
  },
  {
   "cell_type": "code",
   "execution_count": 67,
   "id": "98842f94",
   "metadata": {},
   "outputs": [
    {
     "data": {
      "text/plain": [
       "7"
      ]
     },
     "execution_count": 67,
     "metadata": {},
     "output_type": "execute_result"
    }
   ],
   "source": [
    "# 4-2\n",
    "sleepTime.size # or len(sleepTime)"
   ]
  },
  {
   "cell_type": "markdown",
   "id": "f5ccf8e5",
   "metadata": {},
   "source": [
    "#### 4-3. 값이 존재하는 데이터의 개수를 출력하시오."
   ]
  },
  {
   "cell_type": "code",
   "execution_count": 68,
   "id": "ac2fa434",
   "metadata": {},
   "outputs": [
    {
     "data": {
      "text/plain": [
       "np.int64(6)"
      ]
     },
     "execution_count": 68,
     "metadata": {},
     "output_type": "execute_result"
    }
   ],
   "source": [
    "# 4-3\n",
    "sleepTime.count()"
   ]
  },
  {
   "cell_type": "markdown",
   "id": "373e5463",
   "metadata": {},
   "source": [
    "#### 4-4. 데이터의 종류를 출력하시오."
   ]
  },
  {
   "cell_type": "code",
   "execution_count": 69,
   "id": "1eb6346c",
   "metadata": {},
   "outputs": [
    {
     "data": {
      "text/plain": [
       "array([7.5, 6.8, 7. , nan, 7.2, 8.5, 9. ])"
      ]
     },
     "execution_count": 69,
     "metadata": {},
     "output_type": "execute_result"
    }
   ],
   "source": [
    "# 4-4\n",
    "sleepTime.unique()"
   ]
  },
  {
   "cell_type": "markdown",
   "id": "9560bec5",
   "metadata": {},
   "source": [
    "#### 4-5. 각 데이터의 값의 개수를 출력하시오."
   ]
  },
  {
   "cell_type": "code",
   "execution_count": 70,
   "id": "9de769f9",
   "metadata": {},
   "outputs": [
    {
     "data": {
      "text/plain": [
       "7.5    1\n",
       "6.8    1\n",
       "7.0    1\n",
       "7.2    1\n",
       "8.5    1\n",
       "9.0    1\n",
       "Name: count, dtype: int64"
      ]
     },
     "execution_count": 70,
     "metadata": {},
     "output_type": "execute_result"
    }
   ],
   "source": [
    "# 4-5\n",
    "sleepTime.value_counts()"
   ]
  },
  {
   "cell_type": "markdown",
   "id": "029f515f",
   "metadata": {},
   "source": [
    "#### 4-6. 일주일 간 수면 시간 평균을 출력하시오."
   ]
  },
  {
   "cell_type": "code",
   "execution_count": 71,
   "id": "7cb05646",
   "metadata": {},
   "outputs": [
    {
     "data": {
      "text/plain": [
       "np.float64(7.666666666666667)"
      ]
     },
     "execution_count": 71,
     "metadata": {},
     "output_type": "execute_result"
    }
   ],
   "source": [
    "# 4-6\n",
    "sleepTime.mean()"
   ]
  },
  {
   "cell_type": "markdown",
   "id": "e90a3555",
   "metadata": {},
   "source": [
    "#### 4-7. 위 3개의 데이터만 출력하시오."
   ]
  },
  {
   "cell_type": "code",
   "execution_count": 72,
   "id": "d1be58fb",
   "metadata": {},
   "outputs": [
    {
     "data": {
      "text/plain": [
       "월요일    7.5\n",
       "화요일    6.8\n",
       "수요일    7.0\n",
       "dtype: float64"
      ]
     },
     "execution_count": 72,
     "metadata": {},
     "output_type": "execute_result"
    }
   ],
   "source": [
    "# 4-7\n",
    "sleepTime.head(3)"
   ]
  },
  {
   "cell_type": "markdown",
   "id": "c96a1881",
   "metadata": {},
   "source": [
    "#### 4-8. 아래 3개의 데이터만 출력하시오."
   ]
  },
  {
   "cell_type": "code",
   "execution_count": 73,
   "id": "8c88625f",
   "metadata": {},
   "outputs": [
    {
     "data": {
      "text/plain": [
       "금요일    7.2\n",
       "토요일    8.5\n",
       "일요일    9.0\n",
       "dtype: float64"
      ]
     },
     "execution_count": 73,
     "metadata": {},
     "output_type": "execute_result"
    }
   ],
   "source": [
    "# 4-8\n",
    "sleepTime.tail(3)"
   ]
  },
  {
   "cell_type": "markdown",
   "id": "b1440413",
   "metadata": {},
   "source": [
    "### 5. 최종 주식 평가 금액 계산\n",
    "\n",
    "A와 B, 두 명의 투자자가 각기 다른 주식 종목을 보유하고 있습니다.</br>\n",
    "두 사람의 포트폴리오 변동 내역과 모든 주식에 동일하게 적용되는 최종 평가 배수가 주어졌을 때, 각 주식 종목의 최종 평가 금액을 계산하는 것이 문제입니다.\n",
    "\n",
    "- 데이터\n",
    "\n",
    "1. portfolio_A: 투자자 A의 초기 보유 주식 수를 나타내는 시리즈입니다. ('삼성전자'는 데이터가 누락되었습니다.)\n",
    "\n",
    "2. portfolio_B: 투자자 B의 순매수 (양수) 및 순매도 (음수) 주식 수를 나타내는 시리즈입니다.\n",
    "\n",
    "3. multiplier: 모든 주식에 동일하게 적용되는 최종 평가 배수(scalar)입니다.\n",
    "\n",
    "계산 공식 : `최종 평가 금액 = (A 투자자의 초기 보유량 + B 투자자의 순매수/순매도 량) * 최종 평가 배수`"
   ]
  },
  {
   "cell_type": "code",
   "execution_count": 74,
   "id": "d8cf6c5a",
   "metadata": {},
   "outputs": [],
   "source": [
    "import pandas as pd\n",
    "import numpy as np\n",
    "\n",
    "# 투자자 A의 초기 보유 주식 수\n",
    "portfolio_A = pd.Series({'카카오': 100, '네이버': 150, '삼성전자': np.nan, '현대차': 80})\n",
    "\n",
    "# 투자자 B의 순매수/순매도 주식 수\n",
    "portfolio_B = pd.Series({'카카오': -30, '네이버': 50, 'SK하이닉스': 200, '현대차': -20})\n",
    "\n",
    "# 최종 평가 배수\n",
    "multiplier = 1.2\n"
   ]
  },
  {
   "cell_type": "code",
   "execution_count": 75,
   "id": "988d3bcf",
   "metadata": {},
   "outputs": [
    {
     "data": {
      "text/plain": [
       "SK하이닉스      NaN\n",
       "네이버       240.0\n",
       "삼성전자        NaN\n",
       "카카오        84.0\n",
       "현대차        72.0\n",
       "dtype: float64"
      ]
     },
     "execution_count": 75,
     "metadata": {},
     "output_type": "execute_result"
    }
   ],
   "source": [
    "# 답안 작성\n",
    "(portfolio_A + portfolio_B) * multiplier"
   ]
  },
  {
   "cell_type": "markdown",
   "id": "a5738f94",
   "metadata": {},
   "source": [
    "### 6. 다음 표를 참고하여 3가지 방식으로 데이터프레임을 생성하시오.\n",
    "\n",
    "#### 온라인 쇼핑몰 주문 정보\n",
    "\n",
    "| 주문번호(인덱스) | 상품명 | 가격 | 수량 |\n",
    "| :--- | :--- | :--- | :--- |\n",
    "| 1 | 텀블러 | 15000 | 2 |\n",
    "| 2 | 머그컵 | 12000 | 1 |\n",
    "| 3 | 키보드 | 85000 | 1 |\n",
    "| 4 | 텀블러 | 15000 | 1 |\n",
    "| 5 | 마우스 | 25000 | 2 |\n"
   ]
  },
  {
   "cell_type": "code",
   "execution_count": 76,
   "id": "300d9d0d",
   "metadata": {},
   "outputs": [
    {
     "data": {
      "text/html": [
       "<div>\n",
       "<style scoped>\n",
       "    .dataframe tbody tr th:only-of-type {\n",
       "        vertical-align: middle;\n",
       "    }\n",
       "\n",
       "    .dataframe tbody tr th {\n",
       "        vertical-align: top;\n",
       "    }\n",
       "\n",
       "    .dataframe thead th {\n",
       "        text-align: right;\n",
       "    }\n",
       "</style>\n",
       "<table border=\"1\" class=\"dataframe\">\n",
       "  <thead>\n",
       "    <tr style=\"text-align: right;\">\n",
       "      <th></th>\n",
       "      <th>상품명</th>\n",
       "      <th>가격</th>\n",
       "      <th>수량</th>\n",
       "    </tr>\n",
       "  </thead>\n",
       "  <tbody>\n",
       "    <tr>\n",
       "      <th>0</th>\n",
       "      <td>텀블러</td>\n",
       "      <td>15000</td>\n",
       "      <td>2</td>\n",
       "    </tr>\n",
       "    <tr>\n",
       "      <th>1</th>\n",
       "      <td>머그컵</td>\n",
       "      <td>12000</td>\n",
       "      <td>1</td>\n",
       "    </tr>\n",
       "    <tr>\n",
       "      <th>2</th>\n",
       "      <td>키보드</td>\n",
       "      <td>85000</td>\n",
       "      <td>1</td>\n",
       "    </tr>\n",
       "    <tr>\n",
       "      <th>3</th>\n",
       "      <td>텀블러</td>\n",
       "      <td>15000</td>\n",
       "      <td>1</td>\n",
       "    </tr>\n",
       "    <tr>\n",
       "      <th>4</th>\n",
       "      <td>마우스</td>\n",
       "      <td>25000</td>\n",
       "      <td>2</td>\n",
       "    </tr>\n",
       "  </tbody>\n",
       "</table>\n",
       "</div>"
      ],
      "text/plain": [
       "   상품명     가격  수량\n",
       "0  텀블러  15000   2\n",
       "1  머그컵  12000   1\n",
       "2  키보드  85000   1\n",
       "3  텀블러  15000   1\n",
       "4  마우스  25000   2"
      ]
     },
     "execution_count": 76,
     "metadata": {},
     "output_type": "execute_result"
    }
   ],
   "source": [
    "# 6-1. 첫번쨰 방식\n",
    "OrderInfo1 = pd.DataFrame([['텀블러', 15000, 2],\n",
    "                          ['머그컵', 12000, 1],\n",
    "                          ['키보드', 85000, 1],\n",
    "                          ['텀블러', 15000, 1],\n",
    "                          ['마우스', 25000, 2]], columns= ['상품명', '가격', '수량'])\n",
    "OrderInfo1"
   ]
  },
  {
   "cell_type": "code",
   "execution_count": 77,
   "id": "ebb34ec5",
   "metadata": {},
   "outputs": [
    {
     "data": {
      "text/html": [
       "<div>\n",
       "<style scoped>\n",
       "    .dataframe tbody tr th:only-of-type {\n",
       "        vertical-align: middle;\n",
       "    }\n",
       "\n",
       "    .dataframe tbody tr th {\n",
       "        vertical-align: top;\n",
       "    }\n",
       "\n",
       "    .dataframe thead th {\n",
       "        text-align: right;\n",
       "    }\n",
       "</style>\n",
       "<table border=\"1\" class=\"dataframe\">\n",
       "  <thead>\n",
       "    <tr style=\"text-align: right;\">\n",
       "      <th></th>\n",
       "      <th>상품명</th>\n",
       "      <th>가격</th>\n",
       "      <th>수량</th>\n",
       "    </tr>\n",
       "  </thead>\n",
       "  <tbody>\n",
       "    <tr>\n",
       "      <th>0</th>\n",
       "      <td>텀블러</td>\n",
       "      <td>15000</td>\n",
       "      <td>2</td>\n",
       "    </tr>\n",
       "    <tr>\n",
       "      <th>1</th>\n",
       "      <td>머그컵</td>\n",
       "      <td>12000</td>\n",
       "      <td>1</td>\n",
       "    </tr>\n",
       "    <tr>\n",
       "      <th>2</th>\n",
       "      <td>키보드</td>\n",
       "      <td>85000</td>\n",
       "      <td>1</td>\n",
       "    </tr>\n",
       "    <tr>\n",
       "      <th>3</th>\n",
       "      <td>텀블러</td>\n",
       "      <td>15000</td>\n",
       "      <td>1</td>\n",
       "    </tr>\n",
       "    <tr>\n",
       "      <th>4</th>\n",
       "      <td>마우스</td>\n",
       "      <td>25000</td>\n",
       "      <td>2</td>\n",
       "    </tr>\n",
       "  </tbody>\n",
       "</table>\n",
       "</div>"
      ],
      "text/plain": [
       "   상품명     가격  수량\n",
       "0  텀블러  15000   2\n",
       "1  머그컵  12000   1\n",
       "2  키보드  85000   1\n",
       "3  텀블러  15000   1\n",
       "4  마우스  25000   2"
      ]
     },
     "execution_count": 77,
     "metadata": {},
     "output_type": "execute_result"
    }
   ],
   "source": [
    "# 6-2. 두번째 방식\n",
    "a = pd.Series(['텀블러',15000,2], index= ['상품명', '가격', '수량'])\n",
    "b = pd.Series(['머그컵', 12000, 1], index= ['상품명', '가격', '수량'])\n",
    "c = pd.Series(['키보드', 85000, 1], index= ['상품명', '가격', '수량'])\n",
    "d = pd.Series(['텀블러', 15000, 1], index= ['상품명', '가격', '수량'])\n",
    "e = pd.Series(['마우스', 25000, 2], index= ['상품명', '가격', '수량'])\n",
    "\n",
    "OrderInfo2 = pd.DataFrame([a,b,c,d,e])\n",
    "OrderInfo2"
   ]
  },
  {
   "cell_type": "code",
   "execution_count": 78,
   "id": "3f277bf9",
   "metadata": {},
   "outputs": [
    {
     "data": {
      "text/html": [
       "<div>\n",
       "<style scoped>\n",
       "    .dataframe tbody tr th:only-of-type {\n",
       "        vertical-align: middle;\n",
       "    }\n",
       "\n",
       "    .dataframe tbody tr th {\n",
       "        vertical-align: top;\n",
       "    }\n",
       "\n",
       "    .dataframe thead th {\n",
       "        text-align: right;\n",
       "    }\n",
       "</style>\n",
       "<table border=\"1\" class=\"dataframe\">\n",
       "  <thead>\n",
       "    <tr style=\"text-align: right;\">\n",
       "      <th></th>\n",
       "      <th>상품명</th>\n",
       "      <th>가격</th>\n",
       "      <th>수량</th>\n",
       "    </tr>\n",
       "  </thead>\n",
       "  <tbody>\n",
       "    <tr>\n",
       "      <th>0</th>\n",
       "      <td>텀블러</td>\n",
       "      <td>15000</td>\n",
       "      <td>2</td>\n",
       "    </tr>\n",
       "    <tr>\n",
       "      <th>1</th>\n",
       "      <td>머그컵</td>\n",
       "      <td>12000</td>\n",
       "      <td>1</td>\n",
       "    </tr>\n",
       "    <tr>\n",
       "      <th>2</th>\n",
       "      <td>키보드</td>\n",
       "      <td>85000</td>\n",
       "      <td>1</td>\n",
       "    </tr>\n",
       "    <tr>\n",
       "      <th>3</th>\n",
       "      <td>텀블러</td>\n",
       "      <td>15000</td>\n",
       "      <td>1</td>\n",
       "    </tr>\n",
       "    <tr>\n",
       "      <th>4</th>\n",
       "      <td>마우스</td>\n",
       "      <td>25000</td>\n",
       "      <td>2</td>\n",
       "    </tr>\n",
       "  </tbody>\n",
       "</table>\n",
       "</div>"
      ],
      "text/plain": [
       "   상품명     가격  수량\n",
       "0  텀블러  15000   2\n",
       "1  머그컵  12000   1\n",
       "2  키보드  85000   1\n",
       "3  텀블러  15000   1\n",
       "4  마우스  25000   2"
      ]
     },
     "execution_count": 78,
     "metadata": {},
     "output_type": "execute_result"
    }
   ],
   "source": [
    "# 6-3. 세번쨰 방식\n",
    "dic = {'상품명' : ['텀블러', '머그컵', '키보드', '텀블러', '마우스'],\n",
    "       '가격' : [15000, 12000, 85000, 15000, 25000],\n",
    "       '수량' : [2,1,1,1,2]}\n",
    "\n",
    "OrderInfo3 = pd.DataFrame(dic)\n",
    "OrderInfo3"
   ]
  },
  {
   "cell_type": "markdown",
   "id": "bf7965d6",
   "metadata": {},
   "source": [
    "### 7. 위 6번 문제에서 생성된 온라인 쇼핑몰 주문 정보를 담은 데이터프레임을 가지고 다음 문제들을 푸시오.(단, 판다스의 함수를 활용하여 푸시오)\n",
    "\n",
    "#### 온라인 쇼핑몰 주문 정보\n",
    "\n",
    "| 주문번호 | 상품명 | 가격 | 수량 |\n",
    "| :--- | :--- | :--- | :--- |\n",
    "| 001 | 텀블러 | 15000 | 2 |\n",
    "| 002 | 머그컵 | 12000 | 1 |\n",
    "| 003 | 키보드 | 85000 | 1 |\n",
    "| 004 | 텀블러 | 15000 | 1 |\n",
    "| 005 | 마우스 | 25000 | 2 |"
   ]
  },
  {
   "cell_type": "markdown",
   "id": "b9d88e84",
   "metadata": {},
   "source": [
    "#### 7-1. 상품의 종류가 무엇이 있는지 출력하시오."
   ]
  },
  {
   "cell_type": "code",
   "execution_count": 79,
   "id": "2721fdbd",
   "metadata": {},
   "outputs": [
    {
     "data": {
      "text/plain": [
       "array(['텀블러', '머그컵', '키보드', '마우스'], dtype=object)"
      ]
     },
     "execution_count": 79,
     "metadata": {},
     "output_type": "execute_result"
    }
   ],
   "source": [
    "# 7-1\n",
    "OrderInfo1['상품명'].unique()"
   ]
  },
  {
   "cell_type": "markdown",
   "id": "2f5088b6",
   "metadata": {},
   "source": [
    "#### 7-2. 상품의 평균 가격을 출력하시오."
   ]
  },
  {
   "cell_type": "code",
   "execution_count": 80,
   "id": "3eee2662",
   "metadata": {},
   "outputs": [
    {
     "data": {
      "text/plain": [
       "np.float64(30400.0)"
      ]
     },
     "execution_count": 80,
     "metadata": {},
     "output_type": "execute_result"
    }
   ],
   "source": [
    "# 7-2\n",
    "OrderInfo1['가격'].mean()"
   ]
  },
  {
   "cell_type": "markdown",
   "id": "2eeefcd7",
   "metadata": {},
   "source": [
    "#### 7-3. 상품의 수량을 고려하여 전체 상품들의 평균 가격을 출력하시오."
   ]
  },
  {
   "cell_type": "code",
   "execution_count": 81,
   "id": "fff074d8",
   "metadata": {},
   "outputs": [
    {
     "data": {
      "text/plain": [
       "np.float64(38400.0)"
      ]
     },
     "execution_count": 81,
     "metadata": {},
     "output_type": "execute_result"
    }
   ],
   "source": [
    "# 7-3\n",
    "OrderInfo1['전체 가격'] = OrderInfo1['가격'] * OrderInfo2['수량']\n",
    "OrderInfo1['전체 가격'].mean()"
   ]
  },
  {
   "cell_type": "markdown",
   "id": "36d3c583",
   "metadata": {},
   "source": [
    "### 8. 다음 표를 데이터프레임으로 생성하고 다음 문제들을 푸시오.\n",
    "\n",
    "#### 영화 정보\n",
    "\n",
    "| 제목 | 감독 | 장르 | 러닝타임(분) | 개봉연도 |\n",
    "| :--- | :--- | :--- | :--- | :--- |\n",
    "| 인터스텔라 | 크리스토퍼 놀란 | SF | 169 | 2014 |\n",
    "| 어벤져스: 엔드게임 | 안소니 루소, 조 루소 | 액션, SF | 181 | 2019 |\n",
    "| 기생충 | 봉준호 | 드라마, 스릴러 | 132 | 2019 |\n",
    "| 라라랜드 | 데이미언 셔젤 | 뮤지컬, 드라마 | 128 | 2016 |\n",
    "| 겨울왕국 2 | 크리스 벅, 제니퍼 리 | 애니메이션, 뮤지컬 | 103 | 2019 |\n"
   ]
  },
  {
   "cell_type": "code",
   "execution_count": 82,
   "id": "5711404d",
   "metadata": {},
   "outputs": [
    {
     "data": {
      "text/html": [
       "<div>\n",
       "<style scoped>\n",
       "    .dataframe tbody tr th:only-of-type {\n",
       "        vertical-align: middle;\n",
       "    }\n",
       "\n",
       "    .dataframe tbody tr th {\n",
       "        vertical-align: top;\n",
       "    }\n",
       "\n",
       "    .dataframe thead th {\n",
       "        text-align: right;\n",
       "    }\n",
       "</style>\n",
       "<table border=\"1\" class=\"dataframe\">\n",
       "  <thead>\n",
       "    <tr style=\"text-align: right;\">\n",
       "      <th></th>\n",
       "      <th>감독</th>\n",
       "      <th>장르</th>\n",
       "      <th>러닝타임(분)</th>\n",
       "      <th>개봉연도</th>\n",
       "    </tr>\n",
       "  </thead>\n",
       "  <tbody>\n",
       "    <tr>\n",
       "      <th>인터스텔라</th>\n",
       "      <td>크리스토퍼 놀란</td>\n",
       "      <td>SF</td>\n",
       "      <td>169</td>\n",
       "      <td>2014</td>\n",
       "    </tr>\n",
       "    <tr>\n",
       "      <th>어벤져스: 엔드게임</th>\n",
       "      <td>안소니 루소, 조 루소</td>\n",
       "      <td>액션, SF</td>\n",
       "      <td>181</td>\n",
       "      <td>2019</td>\n",
       "    </tr>\n",
       "    <tr>\n",
       "      <th>기생충</th>\n",
       "      <td>봉준호</td>\n",
       "      <td>드라마, 스릴러</td>\n",
       "      <td>132</td>\n",
       "      <td>2019</td>\n",
       "    </tr>\n",
       "    <tr>\n",
       "      <th>라라랜드</th>\n",
       "      <td>데이미언 셔젤</td>\n",
       "      <td>뮤지컬, 드라마</td>\n",
       "      <td>128</td>\n",
       "      <td>2016</td>\n",
       "    </tr>\n",
       "    <tr>\n",
       "      <th>겨울왕국 2</th>\n",
       "      <td>크리스 벅, 제니퍼 리</td>\n",
       "      <td>애니메이션, 뮤지컬</td>\n",
       "      <td>103</td>\n",
       "      <td>2019</td>\n",
       "    </tr>\n",
       "  </tbody>\n",
       "</table>\n",
       "</div>"
      ],
      "text/plain": [
       "                      감독          장르  러닝타임(분)  개봉연도\n",
       "인터스텔라           크리스토퍼 놀란          SF      169  2014\n",
       "어벤져스: 엔드게임  안소니 루소, 조 루소      액션, SF      181  2019\n",
       "기생충                  봉준호    드라마, 스릴러      132  2019\n",
       "라라랜드             데이미언 셔젤    뮤지컬, 드라마      128  2016\n",
       "겨울왕국 2      크리스 벅, 제니퍼 리  애니메이션, 뮤지컬      103  2019"
      ]
     },
     "execution_count": 82,
     "metadata": {},
     "output_type": "execute_result"
    }
   ],
   "source": [
    "# 데이터 프레임 생성\n",
    "movie = {\n",
    "    '감독': ['크리스토퍼 놀란', '안소니 루소, 조 루소', '봉준호', '데이미언 셔젤', '크리스 벅, 제니퍼 리'],\n",
    "    '장르': ['SF', '액션, SF', '드라마, 스릴러', '뮤지컬, 드라마', '애니메이션, 뮤지컬'],\n",
    "    '러닝타임(분)': [169, 181, 132, 128, 103],\n",
    "    '개봉연도': [2014, 2019, 2019, 2016, 2019]\n",
    "}\n",
    "movieData = pd.DataFrame(movie, ['인터스텔라', '어벤져스: 엔드게임', '기생충', '라라랜드', '겨울왕국 2'])\n",
    "movieData"
   ]
  },
  {
   "cell_type": "markdown",
   "id": "b0ba6b60",
   "metadata": {},
   "source": [
    "#### 8-1. 영화 '기생충'의 정보를 두가지 방식으로 출력하시오."
   ]
  },
  {
   "cell_type": "code",
   "execution_count": 83,
   "id": "c9332882",
   "metadata": {},
   "outputs": [
    {
     "data": {
      "text/html": [
       "<div>\n",
       "<style scoped>\n",
       "    .dataframe tbody tr th:only-of-type {\n",
       "        vertical-align: middle;\n",
       "    }\n",
       "\n",
       "    .dataframe tbody tr th {\n",
       "        vertical-align: top;\n",
       "    }\n",
       "\n",
       "    .dataframe thead th {\n",
       "        text-align: right;\n",
       "    }\n",
       "</style>\n",
       "<table border=\"1\" class=\"dataframe\">\n",
       "  <thead>\n",
       "    <tr style=\"text-align: right;\">\n",
       "      <th></th>\n",
       "      <th>감독</th>\n",
       "      <th>장르</th>\n",
       "      <th>러닝타임(분)</th>\n",
       "      <th>개봉연도</th>\n",
       "    </tr>\n",
       "  </thead>\n",
       "  <tbody>\n",
       "    <tr>\n",
       "      <th>인터스텔라</th>\n",
       "      <td>크리스토퍼 놀란</td>\n",
       "      <td>SF</td>\n",
       "      <td>169</td>\n",
       "      <td>2014</td>\n",
       "    </tr>\n",
       "    <tr>\n",
       "      <th>어벤져스: 엔드게임</th>\n",
       "      <td>안소니 루소, 조 루소</td>\n",
       "      <td>액션, SF</td>\n",
       "      <td>181</td>\n",
       "      <td>2019</td>\n",
       "    </tr>\n",
       "    <tr>\n",
       "      <th>기생충</th>\n",
       "      <td>봉준호</td>\n",
       "      <td>드라마, 스릴러</td>\n",
       "      <td>132</td>\n",
       "      <td>2019</td>\n",
       "    </tr>\n",
       "    <tr>\n",
       "      <th>라라랜드</th>\n",
       "      <td>데이미언 셔젤</td>\n",
       "      <td>뮤지컬, 드라마</td>\n",
       "      <td>128</td>\n",
       "      <td>2016</td>\n",
       "    </tr>\n",
       "    <tr>\n",
       "      <th>겨울왕국 2</th>\n",
       "      <td>크리스 벅, 제니퍼 리</td>\n",
       "      <td>애니메이션, 뮤지컬</td>\n",
       "      <td>103</td>\n",
       "      <td>2019</td>\n",
       "    </tr>\n",
       "  </tbody>\n",
       "</table>\n",
       "</div>"
      ],
      "text/plain": [
       "                      감독          장르  러닝타임(분)  개봉연도\n",
       "인터스텔라           크리스토퍼 놀란          SF      169  2014\n",
       "어벤져스: 엔드게임  안소니 루소, 조 루소      액션, SF      181  2019\n",
       "기생충                  봉준호    드라마, 스릴러      132  2019\n",
       "라라랜드             데이미언 셔젤    뮤지컬, 드라마      128  2016\n",
       "겨울왕국 2      크리스 벅, 제니퍼 리  애니메이션, 뮤지컬      103  2019"
      ]
     },
     "execution_count": 83,
     "metadata": {},
     "output_type": "execute_result"
    }
   ],
   "source": [
    "# 영화 정보 출력\n",
    "movieData"
   ]
  },
  {
   "cell_type": "code",
   "execution_count": 84,
   "id": "391e3cd1",
   "metadata": {},
   "outputs": [
    {
     "data": {
      "text/plain": [
       "감독              봉준호\n",
       "장르         드라마, 스릴러\n",
       "러닝타임(분)         132\n",
       "개봉연도           2019\n",
       "Name: 기생충, dtype: object"
      ]
     },
     "execution_count": 84,
     "metadata": {},
     "output_type": "execute_result"
    }
   ],
   "source": [
    "# 첫번째 방식\n",
    "movieData.loc['기생충']"
   ]
  },
  {
   "cell_type": "code",
   "execution_count": 85,
   "id": "1cbae5b0",
   "metadata": {},
   "outputs": [
    {
     "data": {
      "text/plain": [
       "감독              봉준호\n",
       "장르         드라마, 스릴러\n",
       "러닝타임(분)         132\n",
       "개봉연도           2019\n",
       "Name: 기생충, dtype: object"
      ]
     },
     "execution_count": 85,
     "metadata": {},
     "output_type": "execute_result"
    }
   ],
   "source": [
    "# 두번째 방식\n",
    "movieData.iloc[2]"
   ]
  },
  {
   "cell_type": "markdown",
   "id": "21b440c2",
   "metadata": {},
   "source": [
    "#### 8-2. 영화 인터스텔라부터 라라랜드까지의 정보를 두가지 방식으로 출력하시오."
   ]
  },
  {
   "cell_type": "code",
   "execution_count": 86,
   "id": "6a06b8f0",
   "metadata": {},
   "outputs": [
    {
     "data": {
      "text/html": [
       "<div>\n",
       "<style scoped>\n",
       "    .dataframe tbody tr th:only-of-type {\n",
       "        vertical-align: middle;\n",
       "    }\n",
       "\n",
       "    .dataframe tbody tr th {\n",
       "        vertical-align: top;\n",
       "    }\n",
       "\n",
       "    .dataframe thead th {\n",
       "        text-align: right;\n",
       "    }\n",
       "</style>\n",
       "<table border=\"1\" class=\"dataframe\">\n",
       "  <thead>\n",
       "    <tr style=\"text-align: right;\">\n",
       "      <th></th>\n",
       "      <th>감독</th>\n",
       "      <th>장르</th>\n",
       "      <th>러닝타임(분)</th>\n",
       "      <th>개봉연도</th>\n",
       "    </tr>\n",
       "  </thead>\n",
       "  <tbody>\n",
       "    <tr>\n",
       "      <th>인터스텔라</th>\n",
       "      <td>크리스토퍼 놀란</td>\n",
       "      <td>SF</td>\n",
       "      <td>169</td>\n",
       "      <td>2014</td>\n",
       "    </tr>\n",
       "    <tr>\n",
       "      <th>어벤져스: 엔드게임</th>\n",
       "      <td>안소니 루소, 조 루소</td>\n",
       "      <td>액션, SF</td>\n",
       "      <td>181</td>\n",
       "      <td>2019</td>\n",
       "    </tr>\n",
       "    <tr>\n",
       "      <th>기생충</th>\n",
       "      <td>봉준호</td>\n",
       "      <td>드라마, 스릴러</td>\n",
       "      <td>132</td>\n",
       "      <td>2019</td>\n",
       "    </tr>\n",
       "    <tr>\n",
       "      <th>라라랜드</th>\n",
       "      <td>데이미언 셔젤</td>\n",
       "      <td>뮤지컬, 드라마</td>\n",
       "      <td>128</td>\n",
       "      <td>2016</td>\n",
       "    </tr>\n",
       "    <tr>\n",
       "      <th>겨울왕국 2</th>\n",
       "      <td>크리스 벅, 제니퍼 리</td>\n",
       "      <td>애니메이션, 뮤지컬</td>\n",
       "      <td>103</td>\n",
       "      <td>2019</td>\n",
       "    </tr>\n",
       "  </tbody>\n",
       "</table>\n",
       "</div>"
      ],
      "text/plain": [
       "                      감독          장르  러닝타임(분)  개봉연도\n",
       "인터스텔라           크리스토퍼 놀란          SF      169  2014\n",
       "어벤져스: 엔드게임  안소니 루소, 조 루소      액션, SF      181  2019\n",
       "기생충                  봉준호    드라마, 스릴러      132  2019\n",
       "라라랜드             데이미언 셔젤    뮤지컬, 드라마      128  2016\n",
       "겨울왕국 2      크리스 벅, 제니퍼 리  애니메이션, 뮤지컬      103  2019"
      ]
     },
     "execution_count": 86,
     "metadata": {},
     "output_type": "execute_result"
    }
   ],
   "source": [
    "# 영화 정보 출력\n",
    "movieData"
   ]
  },
  {
   "cell_type": "code",
   "execution_count": 87,
   "id": "d7456118",
   "metadata": {},
   "outputs": [
    {
     "data": {
      "text/html": [
       "<div>\n",
       "<style scoped>\n",
       "    .dataframe tbody tr th:only-of-type {\n",
       "        vertical-align: middle;\n",
       "    }\n",
       "\n",
       "    .dataframe tbody tr th {\n",
       "        vertical-align: top;\n",
       "    }\n",
       "\n",
       "    .dataframe thead th {\n",
       "        text-align: right;\n",
       "    }\n",
       "</style>\n",
       "<table border=\"1\" class=\"dataframe\">\n",
       "  <thead>\n",
       "    <tr style=\"text-align: right;\">\n",
       "      <th></th>\n",
       "      <th>감독</th>\n",
       "      <th>장르</th>\n",
       "      <th>러닝타임(분)</th>\n",
       "      <th>개봉연도</th>\n",
       "    </tr>\n",
       "  </thead>\n",
       "  <tbody>\n",
       "    <tr>\n",
       "      <th>인터스텔라</th>\n",
       "      <td>크리스토퍼 놀란</td>\n",
       "      <td>SF</td>\n",
       "      <td>169</td>\n",
       "      <td>2014</td>\n",
       "    </tr>\n",
       "    <tr>\n",
       "      <th>어벤져스: 엔드게임</th>\n",
       "      <td>안소니 루소, 조 루소</td>\n",
       "      <td>액션, SF</td>\n",
       "      <td>181</td>\n",
       "      <td>2019</td>\n",
       "    </tr>\n",
       "    <tr>\n",
       "      <th>기생충</th>\n",
       "      <td>봉준호</td>\n",
       "      <td>드라마, 스릴러</td>\n",
       "      <td>132</td>\n",
       "      <td>2019</td>\n",
       "    </tr>\n",
       "    <tr>\n",
       "      <th>라라랜드</th>\n",
       "      <td>데이미언 셔젤</td>\n",
       "      <td>뮤지컬, 드라마</td>\n",
       "      <td>128</td>\n",
       "      <td>2016</td>\n",
       "    </tr>\n",
       "  </tbody>\n",
       "</table>\n",
       "</div>"
      ],
      "text/plain": [
       "                      감독        장르  러닝타임(분)  개봉연도\n",
       "인터스텔라           크리스토퍼 놀란        SF      169  2014\n",
       "어벤져스: 엔드게임  안소니 루소, 조 루소    액션, SF      181  2019\n",
       "기생충                  봉준호  드라마, 스릴러      132  2019\n",
       "라라랜드             데이미언 셔젤  뮤지컬, 드라마      128  2016"
      ]
     },
     "execution_count": 87,
     "metadata": {},
     "output_type": "execute_result"
    }
   ],
   "source": [
    "# 첫번째 방식\n",
    "movieData.loc['인터스텔라' : '라라랜드']"
   ]
  },
  {
   "cell_type": "code",
   "execution_count": 88,
   "id": "7fd51a2e",
   "metadata": {},
   "outputs": [
    {
     "data": {
      "text/html": [
       "<div>\n",
       "<style scoped>\n",
       "    .dataframe tbody tr th:only-of-type {\n",
       "        vertical-align: middle;\n",
       "    }\n",
       "\n",
       "    .dataframe tbody tr th {\n",
       "        vertical-align: top;\n",
       "    }\n",
       "\n",
       "    .dataframe thead th {\n",
       "        text-align: right;\n",
       "    }\n",
       "</style>\n",
       "<table border=\"1\" class=\"dataframe\">\n",
       "  <thead>\n",
       "    <tr style=\"text-align: right;\">\n",
       "      <th></th>\n",
       "      <th>감독</th>\n",
       "      <th>장르</th>\n",
       "      <th>러닝타임(분)</th>\n",
       "      <th>개봉연도</th>\n",
       "    </tr>\n",
       "  </thead>\n",
       "  <tbody>\n",
       "    <tr>\n",
       "      <th>인터스텔라</th>\n",
       "      <td>크리스토퍼 놀란</td>\n",
       "      <td>SF</td>\n",
       "      <td>169</td>\n",
       "      <td>2014</td>\n",
       "    </tr>\n",
       "    <tr>\n",
       "      <th>어벤져스: 엔드게임</th>\n",
       "      <td>안소니 루소, 조 루소</td>\n",
       "      <td>액션, SF</td>\n",
       "      <td>181</td>\n",
       "      <td>2019</td>\n",
       "    </tr>\n",
       "    <tr>\n",
       "      <th>기생충</th>\n",
       "      <td>봉준호</td>\n",
       "      <td>드라마, 스릴러</td>\n",
       "      <td>132</td>\n",
       "      <td>2019</td>\n",
       "    </tr>\n",
       "    <tr>\n",
       "      <th>라라랜드</th>\n",
       "      <td>데이미언 셔젤</td>\n",
       "      <td>뮤지컬, 드라마</td>\n",
       "      <td>128</td>\n",
       "      <td>2016</td>\n",
       "    </tr>\n",
       "  </tbody>\n",
       "</table>\n",
       "</div>"
      ],
      "text/plain": [
       "                      감독        장르  러닝타임(분)  개봉연도\n",
       "인터스텔라           크리스토퍼 놀란        SF      169  2014\n",
       "어벤져스: 엔드게임  안소니 루소, 조 루소    액션, SF      181  2019\n",
       "기생충                  봉준호  드라마, 스릴러      132  2019\n",
       "라라랜드             데이미언 셔젤  뮤지컬, 드라마      128  2016"
      ]
     },
     "execution_count": 88,
     "metadata": {},
     "output_type": "execute_result"
    }
   ],
   "source": [
    "# 두번째 방식\n",
    "movieData.iloc[0 : 4]"
   ]
  },
  {
   "cell_type": "markdown",
   "id": "0d170bfa",
   "metadata": {},
   "source": [
    "####  8-3. 영화 기생충, 라라랜드의 감독들과 장르들을 출력하시오.(loc[] 사용]"
   ]
  },
  {
   "cell_type": "code",
   "execution_count": 89,
   "id": "8e008847",
   "metadata": {},
   "outputs": [
    {
     "data": {
      "text/html": [
       "<div>\n",
       "<style scoped>\n",
       "    .dataframe tbody tr th:only-of-type {\n",
       "        vertical-align: middle;\n",
       "    }\n",
       "\n",
       "    .dataframe tbody tr th {\n",
       "        vertical-align: top;\n",
       "    }\n",
       "\n",
       "    .dataframe thead th {\n",
       "        text-align: right;\n",
       "    }\n",
       "</style>\n",
       "<table border=\"1\" class=\"dataframe\">\n",
       "  <thead>\n",
       "    <tr style=\"text-align: right;\">\n",
       "      <th></th>\n",
       "      <th>감독</th>\n",
       "      <th>장르</th>\n",
       "      <th>러닝타임(분)</th>\n",
       "      <th>개봉연도</th>\n",
       "    </tr>\n",
       "  </thead>\n",
       "  <tbody>\n",
       "    <tr>\n",
       "      <th>인터스텔라</th>\n",
       "      <td>크리스토퍼 놀란</td>\n",
       "      <td>SF</td>\n",
       "      <td>169</td>\n",
       "      <td>2014</td>\n",
       "    </tr>\n",
       "    <tr>\n",
       "      <th>어벤져스: 엔드게임</th>\n",
       "      <td>안소니 루소, 조 루소</td>\n",
       "      <td>액션, SF</td>\n",
       "      <td>181</td>\n",
       "      <td>2019</td>\n",
       "    </tr>\n",
       "    <tr>\n",
       "      <th>기생충</th>\n",
       "      <td>봉준호</td>\n",
       "      <td>드라마, 스릴러</td>\n",
       "      <td>132</td>\n",
       "      <td>2019</td>\n",
       "    </tr>\n",
       "    <tr>\n",
       "      <th>라라랜드</th>\n",
       "      <td>데이미언 셔젤</td>\n",
       "      <td>뮤지컬, 드라마</td>\n",
       "      <td>128</td>\n",
       "      <td>2016</td>\n",
       "    </tr>\n",
       "    <tr>\n",
       "      <th>겨울왕국 2</th>\n",
       "      <td>크리스 벅, 제니퍼 리</td>\n",
       "      <td>애니메이션, 뮤지컬</td>\n",
       "      <td>103</td>\n",
       "      <td>2019</td>\n",
       "    </tr>\n",
       "  </tbody>\n",
       "</table>\n",
       "</div>"
      ],
      "text/plain": [
       "                      감독          장르  러닝타임(분)  개봉연도\n",
       "인터스텔라           크리스토퍼 놀란          SF      169  2014\n",
       "어벤져스: 엔드게임  안소니 루소, 조 루소      액션, SF      181  2019\n",
       "기생충                  봉준호    드라마, 스릴러      132  2019\n",
       "라라랜드             데이미언 셔젤    뮤지컬, 드라마      128  2016\n",
       "겨울왕국 2      크리스 벅, 제니퍼 리  애니메이션, 뮤지컬      103  2019"
      ]
     },
     "execution_count": 89,
     "metadata": {},
     "output_type": "execute_result"
    }
   ],
   "source": [
    "# 영화 정보 출력\n",
    "movieData"
   ]
  },
  {
   "cell_type": "code",
   "execution_count": 90,
   "id": "ece9106d",
   "metadata": {},
   "outputs": [
    {
     "data": {
      "text/html": [
       "<div>\n",
       "<style scoped>\n",
       "    .dataframe tbody tr th:only-of-type {\n",
       "        vertical-align: middle;\n",
       "    }\n",
       "\n",
       "    .dataframe tbody tr th {\n",
       "        vertical-align: top;\n",
       "    }\n",
       "\n",
       "    .dataframe thead th {\n",
       "        text-align: right;\n",
       "    }\n",
       "</style>\n",
       "<table border=\"1\" class=\"dataframe\">\n",
       "  <thead>\n",
       "    <tr style=\"text-align: right;\">\n",
       "      <th></th>\n",
       "      <th>감독</th>\n",
       "      <th>장르</th>\n",
       "    </tr>\n",
       "  </thead>\n",
       "  <tbody>\n",
       "    <tr>\n",
       "      <th>기생충</th>\n",
       "      <td>봉준호</td>\n",
       "      <td>드라마, 스릴러</td>\n",
       "    </tr>\n",
       "    <tr>\n",
       "      <th>라라랜드</th>\n",
       "      <td>데이미언 셔젤</td>\n",
       "      <td>뮤지컬, 드라마</td>\n",
       "    </tr>\n",
       "  </tbody>\n",
       "</table>\n",
       "</div>"
      ],
      "text/plain": [
       "           감독        장르\n",
       "기생충       봉준호  드라마, 스릴러\n",
       "라라랜드  데이미언 셔젤  뮤지컬, 드라마"
      ]
     },
     "execution_count": 90,
     "metadata": {},
     "output_type": "execute_result"
    }
   ],
   "source": [
    "# 8-3\n",
    "movieData.loc[['기생충', '라라랜드'], ['감독', '장르']]"
   ]
  },
  {
   "cell_type": "markdown",
   "id": "f3dcd34e",
   "metadata": {},
   "source": [
    "#### 8-4. 영화 어벤져스와 겨울왕국2의 러닝타임과 개봉연도를 출력하시오.(iloc[] 사용)"
   ]
  },
  {
   "cell_type": "code",
   "execution_count": 91,
   "id": "ae7280a3",
   "metadata": {},
   "outputs": [
    {
     "data": {
      "text/html": [
       "<div>\n",
       "<style scoped>\n",
       "    .dataframe tbody tr th:only-of-type {\n",
       "        vertical-align: middle;\n",
       "    }\n",
       "\n",
       "    .dataframe tbody tr th {\n",
       "        vertical-align: top;\n",
       "    }\n",
       "\n",
       "    .dataframe thead th {\n",
       "        text-align: right;\n",
       "    }\n",
       "</style>\n",
       "<table border=\"1\" class=\"dataframe\">\n",
       "  <thead>\n",
       "    <tr style=\"text-align: right;\">\n",
       "      <th></th>\n",
       "      <th>감독</th>\n",
       "      <th>장르</th>\n",
       "      <th>러닝타임(분)</th>\n",
       "      <th>개봉연도</th>\n",
       "    </tr>\n",
       "  </thead>\n",
       "  <tbody>\n",
       "    <tr>\n",
       "      <th>인터스텔라</th>\n",
       "      <td>크리스토퍼 놀란</td>\n",
       "      <td>SF</td>\n",
       "      <td>169</td>\n",
       "      <td>2014</td>\n",
       "    </tr>\n",
       "    <tr>\n",
       "      <th>어벤져스: 엔드게임</th>\n",
       "      <td>안소니 루소, 조 루소</td>\n",
       "      <td>액션, SF</td>\n",
       "      <td>181</td>\n",
       "      <td>2019</td>\n",
       "    </tr>\n",
       "    <tr>\n",
       "      <th>기생충</th>\n",
       "      <td>봉준호</td>\n",
       "      <td>드라마, 스릴러</td>\n",
       "      <td>132</td>\n",
       "      <td>2019</td>\n",
       "    </tr>\n",
       "    <tr>\n",
       "      <th>라라랜드</th>\n",
       "      <td>데이미언 셔젤</td>\n",
       "      <td>뮤지컬, 드라마</td>\n",
       "      <td>128</td>\n",
       "      <td>2016</td>\n",
       "    </tr>\n",
       "    <tr>\n",
       "      <th>겨울왕국 2</th>\n",
       "      <td>크리스 벅, 제니퍼 리</td>\n",
       "      <td>애니메이션, 뮤지컬</td>\n",
       "      <td>103</td>\n",
       "      <td>2019</td>\n",
       "    </tr>\n",
       "  </tbody>\n",
       "</table>\n",
       "</div>"
      ],
      "text/plain": [
       "                      감독          장르  러닝타임(분)  개봉연도\n",
       "인터스텔라           크리스토퍼 놀란          SF      169  2014\n",
       "어벤져스: 엔드게임  안소니 루소, 조 루소      액션, SF      181  2019\n",
       "기생충                  봉준호    드라마, 스릴러      132  2019\n",
       "라라랜드             데이미언 셔젤    뮤지컬, 드라마      128  2016\n",
       "겨울왕국 2      크리스 벅, 제니퍼 리  애니메이션, 뮤지컬      103  2019"
      ]
     },
     "execution_count": 91,
     "metadata": {},
     "output_type": "execute_result"
    }
   ],
   "source": [
    "# 영화 정보 출력\n",
    "movieData"
   ]
  },
  {
   "cell_type": "code",
   "execution_count": 92,
   "id": "c31e165f",
   "metadata": {},
   "outputs": [
    {
     "data": {
      "text/html": [
       "<div>\n",
       "<style scoped>\n",
       "    .dataframe tbody tr th:only-of-type {\n",
       "        vertical-align: middle;\n",
       "    }\n",
       "\n",
       "    .dataframe tbody tr th {\n",
       "        vertical-align: top;\n",
       "    }\n",
       "\n",
       "    .dataframe thead th {\n",
       "        text-align: right;\n",
       "    }\n",
       "</style>\n",
       "<table border=\"1\" class=\"dataframe\">\n",
       "  <thead>\n",
       "    <tr style=\"text-align: right;\">\n",
       "      <th></th>\n",
       "      <th>러닝타임(분)</th>\n",
       "      <th>개봉연도</th>\n",
       "    </tr>\n",
       "  </thead>\n",
       "  <tbody>\n",
       "    <tr>\n",
       "      <th>어벤져스: 엔드게임</th>\n",
       "      <td>181</td>\n",
       "      <td>2019</td>\n",
       "    </tr>\n",
       "    <tr>\n",
       "      <th>겨울왕국 2</th>\n",
       "      <td>103</td>\n",
       "      <td>2019</td>\n",
       "    </tr>\n",
       "  </tbody>\n",
       "</table>\n",
       "</div>"
      ],
      "text/plain": [
       "            러닝타임(분)  개봉연도\n",
       "어벤져스: 엔드게임      181  2019\n",
       "겨울왕국 2          103  2019"
      ]
     },
     "execution_count": 92,
     "metadata": {},
     "output_type": "execute_result"
    }
   ],
   "source": [
    "# 8-4\n",
    "movieData.iloc[[1,4], [2,3]]"
   ]
  },
  {
   "cell_type": "markdown",
   "id": "842ffcd3",
   "metadata": {},
   "source": [
    "#### 8-5. 다음은 표에 나타난 영화들의 평점들이다. 이를 표 3번째 위치에 새로운 칼럼으로 추가하시오.\n",
    "\n",
    "| 제목 | 평점 |\n",
    "|:--- |---:|\n",
    "| 인터스텔라 | 9.2 |\n",
    "| 어벤져스: 엔드게임 | 9.4 |\n",
    "| 기생충 | 9.0 |\n",
    "| 라라랜드 | 8.9 |\n",
    "| 겨울왕국 2 | 8.5 |"
   ]
  },
  {
   "cell_type": "code",
   "execution_count": 93,
   "id": "14b8a27c",
   "metadata": {},
   "outputs": [
    {
     "data": {
      "text/html": [
       "<div>\n",
       "<style scoped>\n",
       "    .dataframe tbody tr th:only-of-type {\n",
       "        vertical-align: middle;\n",
       "    }\n",
       "\n",
       "    .dataframe tbody tr th {\n",
       "        vertical-align: top;\n",
       "    }\n",
       "\n",
       "    .dataframe thead th {\n",
       "        text-align: right;\n",
       "    }\n",
       "</style>\n",
       "<table border=\"1\" class=\"dataframe\">\n",
       "  <thead>\n",
       "    <tr style=\"text-align: right;\">\n",
       "      <th></th>\n",
       "      <th>감독</th>\n",
       "      <th>장르</th>\n",
       "      <th>러닝타임(분)</th>\n",
       "      <th>개봉연도</th>\n",
       "    </tr>\n",
       "  </thead>\n",
       "  <tbody>\n",
       "    <tr>\n",
       "      <th>인터스텔라</th>\n",
       "      <td>크리스토퍼 놀란</td>\n",
       "      <td>SF</td>\n",
       "      <td>169</td>\n",
       "      <td>2014</td>\n",
       "    </tr>\n",
       "    <tr>\n",
       "      <th>어벤져스: 엔드게임</th>\n",
       "      <td>안소니 루소, 조 루소</td>\n",
       "      <td>액션, SF</td>\n",
       "      <td>181</td>\n",
       "      <td>2019</td>\n",
       "    </tr>\n",
       "    <tr>\n",
       "      <th>기생충</th>\n",
       "      <td>봉준호</td>\n",
       "      <td>드라마, 스릴러</td>\n",
       "      <td>132</td>\n",
       "      <td>2019</td>\n",
       "    </tr>\n",
       "    <tr>\n",
       "      <th>라라랜드</th>\n",
       "      <td>데이미언 셔젤</td>\n",
       "      <td>뮤지컬, 드라마</td>\n",
       "      <td>128</td>\n",
       "      <td>2016</td>\n",
       "    </tr>\n",
       "    <tr>\n",
       "      <th>겨울왕국 2</th>\n",
       "      <td>크리스 벅, 제니퍼 리</td>\n",
       "      <td>애니메이션, 뮤지컬</td>\n",
       "      <td>103</td>\n",
       "      <td>2019</td>\n",
       "    </tr>\n",
       "  </tbody>\n",
       "</table>\n",
       "</div>"
      ],
      "text/plain": [
       "                      감독          장르  러닝타임(분)  개봉연도\n",
       "인터스텔라           크리스토퍼 놀란          SF      169  2014\n",
       "어벤져스: 엔드게임  안소니 루소, 조 루소      액션, SF      181  2019\n",
       "기생충                  봉준호    드라마, 스릴러      132  2019\n",
       "라라랜드             데이미언 셔젤    뮤지컬, 드라마      128  2016\n",
       "겨울왕국 2      크리스 벅, 제니퍼 리  애니메이션, 뮤지컬      103  2019"
      ]
     },
     "execution_count": 93,
     "metadata": {},
     "output_type": "execute_result"
    }
   ],
   "source": [
    "# 영화 정보 출력\n",
    "movieData"
   ]
  },
  {
   "cell_type": "code",
   "execution_count": 94,
   "id": "0e036c4d",
   "metadata": {},
   "outputs": [
    {
     "data": {
      "text/html": [
       "<div>\n",
       "<style scoped>\n",
       "    .dataframe tbody tr th:only-of-type {\n",
       "        vertical-align: middle;\n",
       "    }\n",
       "\n",
       "    .dataframe tbody tr th {\n",
       "        vertical-align: top;\n",
       "    }\n",
       "\n",
       "    .dataframe thead th {\n",
       "        text-align: right;\n",
       "    }\n",
       "</style>\n",
       "<table border=\"1\" class=\"dataframe\">\n",
       "  <thead>\n",
       "    <tr style=\"text-align: right;\">\n",
       "      <th></th>\n",
       "      <th>감독</th>\n",
       "      <th>장르</th>\n",
       "      <th>평점</th>\n",
       "      <th>러닝타임(분)</th>\n",
       "      <th>개봉연도</th>\n",
       "    </tr>\n",
       "  </thead>\n",
       "  <tbody>\n",
       "    <tr>\n",
       "      <th>인터스텔라</th>\n",
       "      <td>크리스토퍼 놀란</td>\n",
       "      <td>SF</td>\n",
       "      <td>9.2</td>\n",
       "      <td>169</td>\n",
       "      <td>2014</td>\n",
       "    </tr>\n",
       "    <tr>\n",
       "      <th>어벤져스: 엔드게임</th>\n",
       "      <td>안소니 루소, 조 루소</td>\n",
       "      <td>액션, SF</td>\n",
       "      <td>9.4</td>\n",
       "      <td>181</td>\n",
       "      <td>2019</td>\n",
       "    </tr>\n",
       "    <tr>\n",
       "      <th>기생충</th>\n",
       "      <td>봉준호</td>\n",
       "      <td>드라마, 스릴러</td>\n",
       "      <td>9.0</td>\n",
       "      <td>132</td>\n",
       "      <td>2019</td>\n",
       "    </tr>\n",
       "    <tr>\n",
       "      <th>라라랜드</th>\n",
       "      <td>데이미언 셔젤</td>\n",
       "      <td>뮤지컬, 드라마</td>\n",
       "      <td>8.9</td>\n",
       "      <td>128</td>\n",
       "      <td>2016</td>\n",
       "    </tr>\n",
       "    <tr>\n",
       "      <th>겨울왕국 2</th>\n",
       "      <td>크리스 벅, 제니퍼 리</td>\n",
       "      <td>애니메이션, 뮤지컬</td>\n",
       "      <td>8.5</td>\n",
       "      <td>103</td>\n",
       "      <td>2019</td>\n",
       "    </tr>\n",
       "  </tbody>\n",
       "</table>\n",
       "</div>"
      ],
      "text/plain": [
       "                      감독          장르   평점  러닝타임(분)  개봉연도\n",
       "인터스텔라           크리스토퍼 놀란          SF  9.2      169  2014\n",
       "어벤져스: 엔드게임  안소니 루소, 조 루소      액션, SF  9.4      181  2019\n",
       "기생충                  봉준호    드라마, 스릴러  9.0      132  2019\n",
       "라라랜드             데이미언 셔젤    뮤지컬, 드라마  8.9      128  2016\n",
       "겨울왕국 2      크리스 벅, 제니퍼 리  애니메이션, 뮤지컬  8.5      103  2019"
      ]
     },
     "execution_count": 94,
     "metadata": {},
     "output_type": "execute_result"
    }
   ],
   "source": [
    "# 8-5\n",
    "movieData.insert(2, '평점', [9.2, 9.4, 9.0, 8.9, 8.5])\n",
    "movieData"
   ]
  },
  {
   "cell_type": "markdown",
   "id": "082d6efb",
   "metadata": {},
   "source": [
    "#### 8-6 아래의 영화 정보를 기존 데이터프레임에 추가하시오.\n",
    "\n",
    "\n",
    "### 추가할 영화 정보\n",
    "\n",
    "| 제목 | 감독 | 장르 | 평점 |러닝타임(분) | 개봉연도 |\n",
    "| :--- | :--- | :--- | :--- | :--- | :--- |\n",
    "| 범죄도시 3 | 이상용 | 액션, 범죄 |9.3 | 105 | 2023 |\n",
    "\n"
   ]
  },
  {
   "cell_type": "code",
   "execution_count": 95,
   "id": "d754c25c",
   "metadata": {},
   "outputs": [
    {
     "data": {
      "text/html": [
       "<div>\n",
       "<style scoped>\n",
       "    .dataframe tbody tr th:only-of-type {\n",
       "        vertical-align: middle;\n",
       "    }\n",
       "\n",
       "    .dataframe tbody tr th {\n",
       "        vertical-align: top;\n",
       "    }\n",
       "\n",
       "    .dataframe thead th {\n",
       "        text-align: right;\n",
       "    }\n",
       "</style>\n",
       "<table border=\"1\" class=\"dataframe\">\n",
       "  <thead>\n",
       "    <tr style=\"text-align: right;\">\n",
       "      <th></th>\n",
       "      <th>감독</th>\n",
       "      <th>장르</th>\n",
       "      <th>평점</th>\n",
       "      <th>러닝타임(분)</th>\n",
       "      <th>개봉연도</th>\n",
       "    </tr>\n",
       "  </thead>\n",
       "  <tbody>\n",
       "    <tr>\n",
       "      <th>인터스텔라</th>\n",
       "      <td>크리스토퍼 놀란</td>\n",
       "      <td>SF</td>\n",
       "      <td>9.2</td>\n",
       "      <td>169</td>\n",
       "      <td>2014</td>\n",
       "    </tr>\n",
       "    <tr>\n",
       "      <th>어벤져스: 엔드게임</th>\n",
       "      <td>안소니 루소, 조 루소</td>\n",
       "      <td>액션, SF</td>\n",
       "      <td>9.4</td>\n",
       "      <td>181</td>\n",
       "      <td>2019</td>\n",
       "    </tr>\n",
       "    <tr>\n",
       "      <th>기생충</th>\n",
       "      <td>봉준호</td>\n",
       "      <td>드라마, 스릴러</td>\n",
       "      <td>9.0</td>\n",
       "      <td>132</td>\n",
       "      <td>2019</td>\n",
       "    </tr>\n",
       "    <tr>\n",
       "      <th>라라랜드</th>\n",
       "      <td>데이미언 셔젤</td>\n",
       "      <td>뮤지컬, 드라마</td>\n",
       "      <td>8.9</td>\n",
       "      <td>128</td>\n",
       "      <td>2016</td>\n",
       "    </tr>\n",
       "    <tr>\n",
       "      <th>겨울왕국 2</th>\n",
       "      <td>크리스 벅, 제니퍼 리</td>\n",
       "      <td>애니메이션, 뮤지컬</td>\n",
       "      <td>8.5</td>\n",
       "      <td>103</td>\n",
       "      <td>2019</td>\n",
       "    </tr>\n",
       "    <tr>\n",
       "      <th>범죄도시3</th>\n",
       "      <td>이상용</td>\n",
       "      <td>액션, 범죄</td>\n",
       "      <td>9.3</td>\n",
       "      <td>105</td>\n",
       "      <td>2023</td>\n",
       "    </tr>\n",
       "  </tbody>\n",
       "</table>\n",
       "</div>"
      ],
      "text/plain": [
       "                      감독          장르   평점  러닝타임(분)  개봉연도\n",
       "인터스텔라           크리스토퍼 놀란          SF  9.2      169  2014\n",
       "어벤져스: 엔드게임  안소니 루소, 조 루소      액션, SF  9.4      181  2019\n",
       "기생충                  봉준호    드라마, 스릴러  9.0      132  2019\n",
       "라라랜드             데이미언 셔젤    뮤지컬, 드라마  8.9      128  2016\n",
       "겨울왕국 2      크리스 벅, 제니퍼 리  애니메이션, 뮤지컬  8.5      103  2019\n",
       "범죄도시3                이상용      액션, 범죄  9.3      105  2023"
      ]
     },
     "execution_count": 95,
     "metadata": {},
     "output_type": "execute_result"
    }
   ],
   "source": [
    "# 8-6\n",
    "movieData.loc['범죄도시3'] = ['이상용', '액션, 범죄', 9.3, 105, 2023]\n",
    "movieData"
   ]
  },
  {
   "cell_type": "markdown",
   "id": "be12997e",
   "metadata": {},
   "source": [
    "#### 8-7 인터스텔라와 라라랜드의 평점을 각각 9.4, 9.2로 수정하시오.\n"
   ]
  },
  {
   "cell_type": "code",
   "execution_count": 96,
   "id": "3f45418d",
   "metadata": {},
   "outputs": [
    {
     "data": {
      "text/html": [
       "<div>\n",
       "<style scoped>\n",
       "    .dataframe tbody tr th:only-of-type {\n",
       "        vertical-align: middle;\n",
       "    }\n",
       "\n",
       "    .dataframe tbody tr th {\n",
       "        vertical-align: top;\n",
       "    }\n",
       "\n",
       "    .dataframe thead th {\n",
       "        text-align: right;\n",
       "    }\n",
       "</style>\n",
       "<table border=\"1\" class=\"dataframe\">\n",
       "  <thead>\n",
       "    <tr style=\"text-align: right;\">\n",
       "      <th></th>\n",
       "      <th>감독</th>\n",
       "      <th>장르</th>\n",
       "      <th>평점</th>\n",
       "      <th>러닝타임(분)</th>\n",
       "      <th>개봉연도</th>\n",
       "    </tr>\n",
       "  </thead>\n",
       "  <tbody>\n",
       "    <tr>\n",
       "      <th>인터스텔라</th>\n",
       "      <td>크리스토퍼 놀란</td>\n",
       "      <td>SF</td>\n",
       "      <td>9.2</td>\n",
       "      <td>169</td>\n",
       "      <td>2014</td>\n",
       "    </tr>\n",
       "    <tr>\n",
       "      <th>어벤져스: 엔드게임</th>\n",
       "      <td>안소니 루소, 조 루소</td>\n",
       "      <td>액션, SF</td>\n",
       "      <td>9.4</td>\n",
       "      <td>181</td>\n",
       "      <td>2019</td>\n",
       "    </tr>\n",
       "    <tr>\n",
       "      <th>기생충</th>\n",
       "      <td>봉준호</td>\n",
       "      <td>드라마, 스릴러</td>\n",
       "      <td>9.0</td>\n",
       "      <td>132</td>\n",
       "      <td>2019</td>\n",
       "    </tr>\n",
       "    <tr>\n",
       "      <th>라라랜드</th>\n",
       "      <td>데이미언 셔젤</td>\n",
       "      <td>뮤지컬, 드라마</td>\n",
       "      <td>8.9</td>\n",
       "      <td>128</td>\n",
       "      <td>2016</td>\n",
       "    </tr>\n",
       "    <tr>\n",
       "      <th>겨울왕국 2</th>\n",
       "      <td>크리스 벅, 제니퍼 리</td>\n",
       "      <td>애니메이션, 뮤지컬</td>\n",
       "      <td>8.5</td>\n",
       "      <td>103</td>\n",
       "      <td>2019</td>\n",
       "    </tr>\n",
       "    <tr>\n",
       "      <th>범죄도시3</th>\n",
       "      <td>이상용</td>\n",
       "      <td>액션, 범죄</td>\n",
       "      <td>9.3</td>\n",
       "      <td>105</td>\n",
       "      <td>2023</td>\n",
       "    </tr>\n",
       "  </tbody>\n",
       "</table>\n",
       "</div>"
      ],
      "text/plain": [
       "                      감독          장르   평점  러닝타임(분)  개봉연도\n",
       "인터스텔라           크리스토퍼 놀란          SF  9.2      169  2014\n",
       "어벤져스: 엔드게임  안소니 루소, 조 루소      액션, SF  9.4      181  2019\n",
       "기생충                  봉준호    드라마, 스릴러  9.0      132  2019\n",
       "라라랜드             데이미언 셔젤    뮤지컬, 드라마  8.9      128  2016\n",
       "겨울왕국 2      크리스 벅, 제니퍼 리  애니메이션, 뮤지컬  8.5      103  2019\n",
       "범죄도시3                이상용      액션, 범죄  9.3      105  2023"
      ]
     },
     "execution_count": 96,
     "metadata": {},
     "output_type": "execute_result"
    }
   ],
   "source": [
    "# 데이터프레임 출력\n",
    "movieData"
   ]
  },
  {
   "cell_type": "code",
   "execution_count": 97,
   "id": "057440d5",
   "metadata": {},
   "outputs": [
    {
     "data": {
      "text/html": [
       "<div>\n",
       "<style scoped>\n",
       "    .dataframe tbody tr th:only-of-type {\n",
       "        vertical-align: middle;\n",
       "    }\n",
       "\n",
       "    .dataframe tbody tr th {\n",
       "        vertical-align: top;\n",
       "    }\n",
       "\n",
       "    .dataframe thead th {\n",
       "        text-align: right;\n",
       "    }\n",
       "</style>\n",
       "<table border=\"1\" class=\"dataframe\">\n",
       "  <thead>\n",
       "    <tr style=\"text-align: right;\">\n",
       "      <th></th>\n",
       "      <th>감독</th>\n",
       "      <th>장르</th>\n",
       "      <th>평점</th>\n",
       "      <th>러닝타임(분)</th>\n",
       "      <th>개봉연도</th>\n",
       "    </tr>\n",
       "  </thead>\n",
       "  <tbody>\n",
       "    <tr>\n",
       "      <th>인터스텔라</th>\n",
       "      <td>크리스토퍼 놀란</td>\n",
       "      <td>SF</td>\n",
       "      <td>9.4</td>\n",
       "      <td>169</td>\n",
       "      <td>2014</td>\n",
       "    </tr>\n",
       "    <tr>\n",
       "      <th>어벤져스: 엔드게임</th>\n",
       "      <td>안소니 루소, 조 루소</td>\n",
       "      <td>액션, SF</td>\n",
       "      <td>9.4</td>\n",
       "      <td>181</td>\n",
       "      <td>2019</td>\n",
       "    </tr>\n",
       "    <tr>\n",
       "      <th>기생충</th>\n",
       "      <td>봉준호</td>\n",
       "      <td>드라마, 스릴러</td>\n",
       "      <td>9.0</td>\n",
       "      <td>132</td>\n",
       "      <td>2019</td>\n",
       "    </tr>\n",
       "    <tr>\n",
       "      <th>라라랜드</th>\n",
       "      <td>데이미언 셔젤</td>\n",
       "      <td>뮤지컬, 드라마</td>\n",
       "      <td>9.2</td>\n",
       "      <td>128</td>\n",
       "      <td>2016</td>\n",
       "    </tr>\n",
       "    <tr>\n",
       "      <th>겨울왕국 2</th>\n",
       "      <td>크리스 벅, 제니퍼 리</td>\n",
       "      <td>애니메이션, 뮤지컬</td>\n",
       "      <td>8.5</td>\n",
       "      <td>103</td>\n",
       "      <td>2019</td>\n",
       "    </tr>\n",
       "    <tr>\n",
       "      <th>범죄도시3</th>\n",
       "      <td>이상용</td>\n",
       "      <td>액션, 범죄</td>\n",
       "      <td>9.3</td>\n",
       "      <td>105</td>\n",
       "      <td>2023</td>\n",
       "    </tr>\n",
       "  </tbody>\n",
       "</table>\n",
       "</div>"
      ],
      "text/plain": [
       "                      감독          장르   평점  러닝타임(분)  개봉연도\n",
       "인터스텔라           크리스토퍼 놀란          SF  9.4      169  2014\n",
       "어벤져스: 엔드게임  안소니 루소, 조 루소      액션, SF  9.4      181  2019\n",
       "기생충                  봉준호    드라마, 스릴러  9.0      132  2019\n",
       "라라랜드             데이미언 셔젤    뮤지컬, 드라마  9.2      128  2016\n",
       "겨울왕국 2      크리스 벅, 제니퍼 리  애니메이션, 뮤지컬  8.5      103  2019\n",
       "범죄도시3                이상용      액션, 범죄  9.3      105  2023"
      ]
     },
     "execution_count": 97,
     "metadata": {},
     "output_type": "execute_result"
    }
   ],
   "source": [
    "# 8-7\n",
    "movieData.loc[['인터스텔라', '라라랜드'], ['평점']] = [9.4, 9.2]\n",
    "movieData "
   ]
  },
  {
   "cell_type": "markdown",
   "id": "4ffe87b5",
   "metadata": {},
   "source": [
    "#### 8-8. 영화제목을 다 영어로 바꾸시오.(번역기 사용 가능)"
   ]
  },
  {
   "cell_type": "code",
   "execution_count": 101,
   "id": "15012132",
   "metadata": {},
   "outputs": [
    {
     "data": {
      "text/html": [
       "<div>\n",
       "<style scoped>\n",
       "    .dataframe tbody tr th:only-of-type {\n",
       "        vertical-align: middle;\n",
       "    }\n",
       "\n",
       "    .dataframe tbody tr th {\n",
       "        vertical-align: top;\n",
       "    }\n",
       "\n",
       "    .dataframe thead th {\n",
       "        text-align: right;\n",
       "    }\n",
       "</style>\n",
       "<table border=\"1\" class=\"dataframe\">\n",
       "  <thead>\n",
       "    <tr style=\"text-align: right;\">\n",
       "      <th></th>\n",
       "      <th>감독</th>\n",
       "      <th>장르</th>\n",
       "      <th>평점</th>\n",
       "      <th>러닝타임(분)</th>\n",
       "      <th>개봉연도</th>\n",
       "    </tr>\n",
       "  </thead>\n",
       "  <tbody>\n",
       "    <tr>\n",
       "      <th>Interstellar</th>\n",
       "      <td>크리스토퍼 놀란</td>\n",
       "      <td>SF</td>\n",
       "      <td>9.4</td>\n",
       "      <td>169</td>\n",
       "      <td>2014</td>\n",
       "    </tr>\n",
       "    <tr>\n",
       "      <th>Avengers: Endgame</th>\n",
       "      <td>안소니 루소, 조 루소</td>\n",
       "      <td>액션, SF</td>\n",
       "      <td>9.4</td>\n",
       "      <td>181</td>\n",
       "      <td>2019</td>\n",
       "    </tr>\n",
       "    <tr>\n",
       "      <th>Parasite</th>\n",
       "      <td>봉준호</td>\n",
       "      <td>드라마, 스릴러</td>\n",
       "      <td>9.0</td>\n",
       "      <td>132</td>\n",
       "      <td>2019</td>\n",
       "    </tr>\n",
       "    <tr>\n",
       "      <th>La La Land</th>\n",
       "      <td>데이미언 셔젤</td>\n",
       "      <td>뮤지컬, 드라마</td>\n",
       "      <td>9.2</td>\n",
       "      <td>128</td>\n",
       "      <td>2016</td>\n",
       "    </tr>\n",
       "    <tr>\n",
       "      <th>Frozen 2</th>\n",
       "      <td>크리스 벅, 제니퍼 리</td>\n",
       "      <td>애니메이션, 뮤지컬</td>\n",
       "      <td>8.5</td>\n",
       "      <td>103</td>\n",
       "      <td>2019</td>\n",
       "    </tr>\n",
       "    <tr>\n",
       "      <th>The Roundup: No Way Out</th>\n",
       "      <td>이상용</td>\n",
       "      <td>액션, 범죄</td>\n",
       "      <td>9.3</td>\n",
       "      <td>105</td>\n",
       "      <td>2023</td>\n",
       "    </tr>\n",
       "  </tbody>\n",
       "</table>\n",
       "</div>"
      ],
      "text/plain": [
       "                                   감독          장르   평점  러닝타임(분)  개봉연도\n",
       "Interstellar                 크리스토퍼 놀란          SF  9.4      169  2014\n",
       "Avengers: Endgame        안소니 루소, 조 루소      액션, SF  9.4      181  2019\n",
       "Parasite                          봉준호    드라마, 스릴러  9.0      132  2019\n",
       "La La Land                    데이미언 셔젤    뮤지컬, 드라마  9.2      128  2016\n",
       "Frozen 2                 크리스 벅, 제니퍼 리  애니메이션, 뮤지컬  8.5      103  2019\n",
       "The Roundup: No Way Out           이상용      액션, 범죄  9.3      105  2023"
      ]
     },
     "execution_count": 101,
     "metadata": {},
     "output_type": "execute_result"
    }
   ],
   "source": [
    "# 8-8\n",
    "movieDataEn = movieData.rename(index = { \n",
    "    '인터스텔라' :'Interstellar',\n",
    "    '어벤져스: 엔드게임':'Avengers: Endgame',\n",
    "    '기생충':'Parasite',\n",
    "    '라라랜드':'La La Land',\n",
    "    '겨울왕국 2':'Frozen 2',\n",
    "    '범죄도시3':'The Roundup: No Way Out'})\n",
    "\n",
    "movieDataEn"
   ]
  },
  {
   "cell_type": "markdown",
   "id": "0be4ee8a",
   "metadata": {},
   "source": [
    "#### 8-9. 칼럼명을 다 영어로 바꾸시오.(번역기 사용 가능)"
   ]
  },
  {
   "cell_type": "code",
   "execution_count": 102,
   "id": "dbf0c843",
   "metadata": {},
   "outputs": [
    {
     "data": {
      "text/html": [
       "<div>\n",
       "<style scoped>\n",
       "    .dataframe tbody tr th:only-of-type {\n",
       "        vertical-align: middle;\n",
       "    }\n",
       "\n",
       "    .dataframe tbody tr th {\n",
       "        vertical-align: top;\n",
       "    }\n",
       "\n",
       "    .dataframe thead th {\n",
       "        text-align: right;\n",
       "    }\n",
       "</style>\n",
       "<table border=\"1\" class=\"dataframe\">\n",
       "  <thead>\n",
       "    <tr style=\"text-align: right;\">\n",
       "      <th></th>\n",
       "      <th>Director</th>\n",
       "      <th>Genre</th>\n",
       "      <th>Rating</th>\n",
       "      <th>Running Time(min)</th>\n",
       "      <th>Release Year</th>\n",
       "    </tr>\n",
       "  </thead>\n",
       "  <tbody>\n",
       "    <tr>\n",
       "      <th>Interstellar</th>\n",
       "      <td>크리스토퍼 놀란</td>\n",
       "      <td>SF</td>\n",
       "      <td>9.4</td>\n",
       "      <td>169</td>\n",
       "      <td>2014</td>\n",
       "    </tr>\n",
       "    <tr>\n",
       "      <th>Avengers: Endgame</th>\n",
       "      <td>안소니 루소, 조 루소</td>\n",
       "      <td>액션, SF</td>\n",
       "      <td>9.4</td>\n",
       "      <td>181</td>\n",
       "      <td>2019</td>\n",
       "    </tr>\n",
       "    <tr>\n",
       "      <th>Parasite</th>\n",
       "      <td>봉준호</td>\n",
       "      <td>드라마, 스릴러</td>\n",
       "      <td>9.0</td>\n",
       "      <td>132</td>\n",
       "      <td>2019</td>\n",
       "    </tr>\n",
       "    <tr>\n",
       "      <th>La La Land</th>\n",
       "      <td>데이미언 셔젤</td>\n",
       "      <td>뮤지컬, 드라마</td>\n",
       "      <td>9.2</td>\n",
       "      <td>128</td>\n",
       "      <td>2016</td>\n",
       "    </tr>\n",
       "    <tr>\n",
       "      <th>Frozen 2</th>\n",
       "      <td>크리스 벅, 제니퍼 리</td>\n",
       "      <td>애니메이션, 뮤지컬</td>\n",
       "      <td>8.5</td>\n",
       "      <td>103</td>\n",
       "      <td>2019</td>\n",
       "    </tr>\n",
       "    <tr>\n",
       "      <th>The Roundup: No Way Out</th>\n",
       "      <td>이상용</td>\n",
       "      <td>액션, 범죄</td>\n",
       "      <td>9.3</td>\n",
       "      <td>105</td>\n",
       "      <td>2023</td>\n",
       "    </tr>\n",
       "  </tbody>\n",
       "</table>\n",
       "</div>"
      ],
      "text/plain": [
       "                             Director       Genre  Rating  Running Time(min)  \\\n",
       "Interstellar                 크리스토퍼 놀란          SF     9.4                169   \n",
       "Avengers: Endgame        안소니 루소, 조 루소      액션, SF     9.4                181   \n",
       "Parasite                          봉준호    드라마, 스릴러     9.0                132   \n",
       "La La Land                    데이미언 셔젤    뮤지컬, 드라마     9.2                128   \n",
       "Frozen 2                 크리스 벅, 제니퍼 리  애니메이션, 뮤지컬     8.5                103   \n",
       "The Roundup: No Way Out           이상용      액션, 범죄     9.3                105   \n",
       "\n",
       "                         Release Year  \n",
       "Interstellar                     2014  \n",
       "Avengers: Endgame                2019  \n",
       "Parasite                         2019  \n",
       "La La Land                       2016  \n",
       "Frozen 2                         2019  \n",
       "The Roundup: No Way Out          2023  "
      ]
     },
     "execution_count": 102,
     "metadata": {},
     "output_type": "execute_result"
    }
   ],
   "source": [
    "# 8-9\n",
    "movieDataEn.rename( columns={ \n",
    "    '감독' : 'Director',\n",
    "    '장르' : 'Genre',\n",
    "    '평점' : 'Rating',\n",
    "    '러닝타임(분)' : 'Running Time(min)',\n",
    "    '개봉연도' : 'Release Year'}, inplace= True)\n",
    "\n",
    "movieDataEn"
   ]
  },
  {
   "cell_type": "markdown",
   "id": "2bfdeff2",
   "metadata": {},
   "source": [
    "#### 8-10. 러닝타임 칼럼을 데이터프레임에서 제거하시오."
   ]
  },
  {
   "cell_type": "code",
   "execution_count": 103,
   "id": "bdfa72cb",
   "metadata": {},
   "outputs": [
    {
     "data": {
      "text/html": [
       "<div>\n",
       "<style scoped>\n",
       "    .dataframe tbody tr th:only-of-type {\n",
       "        vertical-align: middle;\n",
       "    }\n",
       "\n",
       "    .dataframe tbody tr th {\n",
       "        vertical-align: top;\n",
       "    }\n",
       "\n",
       "    .dataframe thead th {\n",
       "        text-align: right;\n",
       "    }\n",
       "</style>\n",
       "<table border=\"1\" class=\"dataframe\">\n",
       "  <thead>\n",
       "    <tr style=\"text-align: right;\">\n",
       "      <th></th>\n",
       "      <th>감독</th>\n",
       "      <th>장르</th>\n",
       "      <th>평점</th>\n",
       "      <th>러닝타임(분)</th>\n",
       "      <th>개봉연도</th>\n",
       "    </tr>\n",
       "  </thead>\n",
       "  <tbody>\n",
       "    <tr>\n",
       "      <th>인터스텔라</th>\n",
       "      <td>크리스토퍼 놀란</td>\n",
       "      <td>SF</td>\n",
       "      <td>9.4</td>\n",
       "      <td>169</td>\n",
       "      <td>2014</td>\n",
       "    </tr>\n",
       "    <tr>\n",
       "      <th>어벤져스: 엔드게임</th>\n",
       "      <td>안소니 루소, 조 루소</td>\n",
       "      <td>액션, SF</td>\n",
       "      <td>9.4</td>\n",
       "      <td>181</td>\n",
       "      <td>2019</td>\n",
       "    </tr>\n",
       "    <tr>\n",
       "      <th>기생충</th>\n",
       "      <td>봉준호</td>\n",
       "      <td>드라마, 스릴러</td>\n",
       "      <td>9.0</td>\n",
       "      <td>132</td>\n",
       "      <td>2019</td>\n",
       "    </tr>\n",
       "    <tr>\n",
       "      <th>라라랜드</th>\n",
       "      <td>데이미언 셔젤</td>\n",
       "      <td>뮤지컬, 드라마</td>\n",
       "      <td>9.2</td>\n",
       "      <td>128</td>\n",
       "      <td>2016</td>\n",
       "    </tr>\n",
       "    <tr>\n",
       "      <th>겨울왕국 2</th>\n",
       "      <td>크리스 벅, 제니퍼 리</td>\n",
       "      <td>애니메이션, 뮤지컬</td>\n",
       "      <td>8.5</td>\n",
       "      <td>103</td>\n",
       "      <td>2019</td>\n",
       "    </tr>\n",
       "    <tr>\n",
       "      <th>범죄도시3</th>\n",
       "      <td>이상용</td>\n",
       "      <td>액션, 범죄</td>\n",
       "      <td>9.3</td>\n",
       "      <td>105</td>\n",
       "      <td>2023</td>\n",
       "    </tr>\n",
       "  </tbody>\n",
       "</table>\n",
       "</div>"
      ],
      "text/plain": [
       "                      감독          장르   평점  러닝타임(분)  개봉연도\n",
       "인터스텔라           크리스토퍼 놀란          SF  9.4      169  2014\n",
       "어벤져스: 엔드게임  안소니 루소, 조 루소      액션, SF  9.4      181  2019\n",
       "기생충                  봉준호    드라마, 스릴러  9.0      132  2019\n",
       "라라랜드             데이미언 셔젤    뮤지컬, 드라마  9.2      128  2016\n",
       "겨울왕국 2      크리스 벅, 제니퍼 리  애니메이션, 뮤지컬  8.5      103  2019\n",
       "범죄도시3                이상용      액션, 범죄  9.3      105  2023"
      ]
     },
     "execution_count": 103,
     "metadata": {},
     "output_type": "execute_result"
    }
   ],
   "source": [
    "# 데이터프레임 출력\n",
    "movieData"
   ]
  },
  {
   "cell_type": "code",
   "execution_count": null,
   "id": "70ebb26b",
   "metadata": {},
   "outputs": [],
   "source": [
    "# 8-10\n",
    "movieData.drop('러닝타임(분)', axis = 1, inplace = True)\n",
    "movieData"
   ]
  },
  {
   "cell_type": "markdown",
   "id": "19a51b05",
   "metadata": {},
   "source": [
    "#### 8-11. 인터스텔라 영화를 데이터프레임에서 제거하시오."
   ]
  },
  {
   "cell_type": "code",
   "execution_count": 107,
   "id": "fa72eccf",
   "metadata": {},
   "outputs": [
    {
     "data": {
      "text/html": [
       "<div>\n",
       "<style scoped>\n",
       "    .dataframe tbody tr th:only-of-type {\n",
       "        vertical-align: middle;\n",
       "    }\n",
       "\n",
       "    .dataframe tbody tr th {\n",
       "        vertical-align: top;\n",
       "    }\n",
       "\n",
       "    .dataframe thead th {\n",
       "        text-align: right;\n",
       "    }\n",
       "</style>\n",
       "<table border=\"1\" class=\"dataframe\">\n",
       "  <thead>\n",
       "    <tr style=\"text-align: right;\">\n",
       "      <th></th>\n",
       "      <th>감독</th>\n",
       "      <th>장르</th>\n",
       "      <th>평점</th>\n",
       "      <th>개봉연도</th>\n",
       "    </tr>\n",
       "  </thead>\n",
       "  <tbody>\n",
       "    <tr>\n",
       "      <th>어벤져스: 엔드게임</th>\n",
       "      <td>안소니 루소, 조 루소</td>\n",
       "      <td>액션, SF</td>\n",
       "      <td>9.4</td>\n",
       "      <td>2019</td>\n",
       "    </tr>\n",
       "    <tr>\n",
       "      <th>기생충</th>\n",
       "      <td>봉준호</td>\n",
       "      <td>드라마, 스릴러</td>\n",
       "      <td>9.0</td>\n",
       "      <td>2019</td>\n",
       "    </tr>\n",
       "    <tr>\n",
       "      <th>라라랜드</th>\n",
       "      <td>데이미언 셔젤</td>\n",
       "      <td>뮤지컬, 드라마</td>\n",
       "      <td>9.2</td>\n",
       "      <td>2016</td>\n",
       "    </tr>\n",
       "    <tr>\n",
       "      <th>겨울왕국 2</th>\n",
       "      <td>크리스 벅, 제니퍼 리</td>\n",
       "      <td>애니메이션, 뮤지컬</td>\n",
       "      <td>8.5</td>\n",
       "      <td>2019</td>\n",
       "    </tr>\n",
       "    <tr>\n",
       "      <th>범죄도시3</th>\n",
       "      <td>이상용</td>\n",
       "      <td>액션, 범죄</td>\n",
       "      <td>9.3</td>\n",
       "      <td>2023</td>\n",
       "    </tr>\n",
       "  </tbody>\n",
       "</table>\n",
       "</div>"
      ],
      "text/plain": [
       "                      감독          장르   평점  개봉연도\n",
       "어벤져스: 엔드게임  안소니 루소, 조 루소      액션, SF  9.4  2019\n",
       "기생충                  봉준호    드라마, 스릴러  9.0  2019\n",
       "라라랜드             데이미언 셔젤    뮤지컬, 드라마  9.2  2016\n",
       "겨울왕국 2      크리스 벅, 제니퍼 리  애니메이션, 뮤지컬  8.5  2019\n",
       "범죄도시3                이상용      액션, 범죄  9.3  2023"
      ]
     },
     "execution_count": 107,
     "metadata": {},
     "output_type": "execute_result"
    }
   ],
   "source": [
    "# 8-11\n",
    "movieData.drop('인터스텔라', axis = 0, inplace= True)\n",
    "movieData"
   ]
  }
 ],
 "metadata": {
  "kernelspec": {
   "display_name": "3.11.11",
   "language": "python",
   "name": "python3"
  },
  "language_info": {
   "codemirror_mode": {
    "name": "ipython",
    "version": 3
   },
   "file_extension": ".py",
   "mimetype": "text/x-python",
   "name": "python",
   "nbconvert_exporter": "python",
   "pygments_lexer": "ipython3",
   "version": "3.11.11"
  }
 },
 "nbformat": 4,
 "nbformat_minor": 5
}
