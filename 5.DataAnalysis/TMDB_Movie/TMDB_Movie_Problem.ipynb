{
 "cells": [
  {
   "cell_type": "markdown",
   "id": "8b01fa05",
   "metadata": {},
   "source": [
    "# 데이터 분석 - 영화"
   ]
  },
  {
   "cell_type": "markdown",
   "id": "5e98814d",
   "metadata": {},
   "source": [
    "## 1. 문제 정의하기"
   ]
  },
  {
   "cell_type": "markdown",
   "id": "aaff8bbf",
   "metadata": {},
   "source": [
    "1. **흥행 TOP 10 영화 살펴보기**\n",
    "\n",
    "   * 속성: 영화 이름, 제작사, 장르, 개봉연도, 예산(budget), 수익(revenue)\n",
    "   * 목표: 흥행 수익(revenue) 기준으로 가장 성공한 영화 10개를 확인하고, 어떤 제작사가 많이 참여했는지 알아본다.\n",
    "\n",
    "2. **흥행 성공과 관련 깊은 속성 찾기**\n",
    "\n",
    "   * 속성 후보: `budget`, `runtime`, `genres`, `vote_average`, `popularity`\n",
    "   * 목표: 흥행 수익(revenue)과 가장 관련 깊은 변수를 찾는다 (상관분석, 회귀분석 활용).\n",
    "\n",
    "3. **연도별 영화 개수와 흥행 추세**\n",
    "\n",
    "   * 속성: `release_date`, `revenue`, `vote_average`\n",
    "   * 목표: 연도별 제작된 영화 수가 어떻게 변화했는지, 그리고 평균 흥행 수익과 평점이 어떤 추세를 보이는지 확인한다.\n"
   ]
  },
  {
   "cell_type": "markdown",
   "id": "80c238c0",
   "metadata": {
    "vscode": {
     "languageId": "plaintext"
    }
   },
   "source": [
    "## 2. 데이터셋 불러오기"
   ]
  },
  {
   "cell_type": "code",
   "execution_count": null,
   "id": "cce896e5",
   "metadata": {},
   "outputs": [],
   "source": [
    "import pandas as pd \n",
    "import matplotlib.pyplot as plt"
   ]
  },
  {
   "cell_type": "code",
   "execution_count": null,
   "id": "385bde8b",
   "metadata": {},
   "outputs": [],
   "source": [
    "# 파일 업로드하기\n",
    "from google.colab import files\n",
    "uploaded = files.upload()"
   ]
  },
  {
   "cell_type": "code",
   "execution_count": null,
   "id": "7dce3753",
   "metadata": {},
   "outputs": [],
   "source": [
    "# 파일을 변수로 불러오고 상위 5개의 데이터 출력하기\n"
   ]
  },
  {
   "cell_type": "markdown",
   "id": "9691e5ea",
   "metadata": {},
   "source": [
    "## 3. 데이터 탐색 및 시각화"
   ]
  },
  {
   "cell_type": "code",
   "execution_count": null,
   "id": "cada34bc",
   "metadata": {},
   "outputs": [],
   "source": [
    "# 데이터의 크기 파악하기\n"
   ]
  },
  {
   "cell_type": "code",
   "execution_count": null,
   "id": "97684458",
   "metadata": {},
   "outputs": [],
   "source": [
    "# 데이터의 칼럼 정보 파악하기\n"
   ]
  },
  {
   "cell_type": "markdown",
   "id": "309ce6be",
   "metadata": {},
   "source": [
    "### 다음 주요 속성만 추출하기\n",
    "- original_title\n",
    "- production_companies\n",
    "- genres\n",
    "- release_date\n",
    "- budget\n",
    "- revenue\n",
    "- vote_average\n",
    "- popularity\n",
    "- runtime"
   ]
  },
  {
   "cell_type": "code",
   "execution_count": null,
   "id": "625a4e4b",
   "metadata": {},
   "outputs": [],
   "source": [
    "# 주요 속성 추출하기\n"
   ]
  },
  {
   "cell_type": "markdown",
   "id": "5ff81974",
   "metadata": {},
   "source": [
    "### 탐색 정보 1 - 흥행 TOP 10 영화 살펴보기"
   ]
  },
  {
   "cell_type": "code",
   "execution_count": null,
   "id": "b8cbd0f9",
   "metadata": {},
   "outputs": [],
   "source": [
    "# 흥행 수익(revenue)을 기준으로 내림차순 정렬하기\n"
   ]
  },
  {
   "cell_type": "code",
   "execution_count": null,
   "id": "7ea16d21",
   "metadata": {},
   "outputs": [],
   "source": [
    "# 흥행 수익 기준 top10 영화 데이터를 막대그래프로 표현하기\n"
   ]
  },
  {
   "cell_type": "markdown",
   "id": "386b7528",
   "metadata": {},
   "source": [
    "### 탐색정보 2 - 흥행 성공과 관련 깊은 속성 찾기"
   ]
  },
  {
   "cell_type": "code",
   "execution_count": null,
   "id": "6732e084",
   "metadata": {},
   "outputs": [],
   "source": [
    "# 속성 중 숫자형 데이터만을 다루는 속성만 추출\n",
    "\n",
    "# 각 속성 간의 상관관계를 구함.\n",
    "\n",
    "# 'revenue' 속성만 추출하기\n"
   ]
  },
  {
   "cell_type": "code",
   "execution_count": null,
   "id": "f19f140e",
   "metadata": {},
   "outputs": [],
   "source": [
    "# 막대그래프로 시각화하기\n"
   ]
  },
  {
   "cell_type": "markdown",
   "id": "d1a80eab",
   "metadata": {},
   "source": [
    "### 탐색 정보 3 - 연도별 영화 개수와 흥행 추세"
   ]
  },
  {
   "cell_type": "code",
   "execution_count": null,
   "id": "9aba2dde",
   "metadata": {},
   "outputs": [],
   "source": [
    "# release_date의 데이터 타입을 'datetime'으로 번경\n",
    "\n",
    "\n",
    "# 년도 추출\n",
    "\n",
    "\n",
    "# 년도별 영화(original_title) 개수와 평균 revenue, popularity 계산\n",
    "\n",
    "# revenue 는 숫자 단위가 커서 백만 단위로 나누기\n",
    "\n",
    "\n",
    "# 선 그래프 그리기(3개의 선이 그려져야함)\n"
   ]
  }
 ],
 "metadata": {
  "kernelspec": {
   "display_name": ".venv",
   "language": "python",
   "name": "python3"
  },
  "language_info": {
   "codemirror_mode": {
    "name": "ipython",
    "version": 3
   },
   "file_extension": ".py",
   "mimetype": "text/x-python",
   "name": "python",
   "nbconvert_exporter": "python",
   "pygments_lexer": "ipython3",
   "version": "3.13.7"
  }
 },
 "nbformat": 4,
 "nbformat_minor": 5
}
