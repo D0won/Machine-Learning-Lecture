{
 "cells": [
  {
   "cell_type": "markdown",
   "id": "18d260aa",
   "metadata": {},
   "source": [
    "# 데이터 분석 - 롤러코스터"
   ]
  },
  {
   "cell_type": "markdown",
   "id": "90092a55",
   "metadata": {},
   "source": [
    "## 1. 문제 정의하기"
   ]
  },
  {
   "cell_type": "markdown",
   "id": "5d0eccf6",
   "metadata": {},
   "source": [
    "- 정보 탐색하기\n",
    "\n",
    "1. 가장 빠른 롤러코스터 TOP 10의 테마파크 이름, 롤러코스터 유형, 흥미도, 최고속도 알아보기\n",
    "2. 롤러코스터 유형 속성에는 몇 가지 유형이 있으며 어떤 유형이 제일 많은지 알아보기\n",
    "3. 최고 속도, 탑승 시간, 롤러코스터 길이, 최고 낙하 높이, 속성 중 흥미도 속성과 가장 관련이 깊은 속성이 무엇인지 알아보기"
   ]
  },
  {
   "cell_type": "markdown",
   "id": "9ea7bc4b",
   "metadata": {},
   "source": [
    "## 2. 데이터셋 불러오기"
   ]
  },
  {
   "cell_type": "markdown",
   "id": "c1b8a41b",
   "metadata": {},
   "source": [
    "### 데이터셋 소개\n",
    "\n",
    "- 놀이공원에 롤러코스터를 설계하여 직접 놀이공원을 운영하는 '롤러코스터 타이쿤' 게임에서 수집한 142개의 롤러코스터 데이터\n",
    "- 데이터에는 테마파크 이름, 롤러코스터 유형, 흥미도, 최고 속도, 탑승 시간 등 다양한 속성 존재"
   ]
  },
  {
   "cell_type": "markdown",
   "id": "d95cedf5",
   "metadata": {},
   "source": [
    "### 데이터셋 불러오기\n"
   ]
  },
  {
   "cell_type": "code",
   "execution_count": null,
   "id": "f60dfea4",
   "metadata": {},
   "outputs": [],
   "source": [
    "# 표(2차원) 데이터를 다루기 위한 판다스 라이브러리 불러오기\n",
    "\n",
    "# 데이터 시각화를 위한 맷플롯립 라이브러리 불러오기\n"
   ]
  },
  {
   "cell_type": "code",
   "execution_count": null,
   "id": "81b032a7",
   "metadata": {},
   "outputs": [],
   "source": [
    "# 파일 업로드하기\n",
    "from google.colab import files\n",
    "uploaded = files.upload()"
   ]
  },
  {
   "cell_type": "code",
   "execution_count": null,
   "id": "3262c373",
   "metadata": {},
   "outputs": [],
   "source": [
    "# 파일을 변수로 불러오기\n"
   ]
  },
  {
   "cell_type": "markdown",
   "id": "60b90432",
   "metadata": {},
   "source": [
    "## 3. 데이터 탐색 및 시각화"
   ]
  },
  {
   "cell_type": "markdown",
   "id": "60e0bab2",
   "metadata": {},
   "source": [
    "### 데이터 살펴보기\n",
    "- 데이터 전처리\n",
    "    - 문제해결을 위해 데이터에 어떤 속성이 있는지 살펴보고 필요한 속성을 추출하거나 정렬할 필요가 있음\n",
    "    - 경우에 따라서 속성값에 대한 연산을 수행하여 필요한 속성을 만들어내야할 때가 있음"
   ]
  },
  {
   "cell_type": "code",
   "execution_count": null,
   "id": "d1f5f0c8",
   "metadata": {},
   "outputs": [],
   "source": [
    "# info() 함수를 통해 데이터 개수, 속성 개수, 속성명, 결측치, 속성의 데이터 유형 등 확인\n"
   ]
  },
  {
   "cell_type": "code",
   "execution_count": null,
   "id": "1375b6a5",
   "metadata": {},
   "outputs": [],
   "source": [
    "# 데이터 크기 알아보기\n"
   ]
  },
  {
   "cell_type": "code",
   "execution_count": null,
   "id": "1c49c697",
   "metadata": {},
   "outputs": [],
   "source": [
    "# 데이터 일부 살펴보기 - 상단 5개 알아보기\n"
   ]
  },
  {
   "cell_type": "code",
   "execution_count": null,
   "id": "fa260ef5",
   "metadata": {},
   "outputs": [],
   "source": [
    "# 데이터 일부 살펴보기 - 하단 5개 알아보기\n"
   ]
  },
  {
   "cell_type": "code",
   "execution_count": null,
   "id": "5dbe8a2a",
   "metadata": {},
   "outputs": [],
   "source": [
    "# 데이터의 통계량(개수, 평균, 표준편차, 최솟값, 4분위수, 최댓값)을 파악하기 위해 describe() 함수를 사용\n"
   ]
  },
  {
   "cell_type": "markdown",
   "id": "e39329a5",
   "metadata": {},
   "source": [
    "### 탐색 정보1 알아보기\n",
    "- 가장 빠른 롤러코스터 Top10의 테마파크 이름, 롤러코스터 유형, 흥미도, 최고 속도 알아보기"
   ]
  },
  {
   "cell_type": "code",
   "execution_count": null,
   "id": "6b5fa305",
   "metadata": {},
   "outputs": [],
   "source": [
    "# 최고 소곧 속성을 기준으로 내림차순 정렬하여 df2 객체에 저장하기\n"
   ]
  },
  {
   "cell_type": "markdown",
   "id": "3d22193e",
   "metadata": {},
   "source": [
    "#### 보충)데이터프레임의 행이나 열을 모두 확인하기\n",
    "- 데이터프레임이 클 경우에 중간 행, 열이 생략되어 보임.\n",
    "- 모든 행, 열을 보기 위해서는 다음과 같은 코드가 필요.\n",
    "``` py\n",
    "# 모든 칼럼 보기\n",
    "pd.set_option('display.max_columns', None)\n",
    "# 모든 행 보기\n",
    "pd.set_option('display.max_rows', None)\n",
    "# 10개 칼럼 보기\n",
    "pd.set_option('display.max_columns', 10)\n",
    "# 10개 열 보기\n",
    "pd.set_option('display.max_rows', 10)\n",
    "```"
   ]
  },
  {
   "cell_type": "code",
   "execution_count": null,
   "id": "64af629a",
   "metadata": {},
   "outputs": [],
   "source": [
    "# 필요한 데이터 추출하기 - iloc[]\n",
    "# 최고 속도 top 10을 추출하기 위해 행 인덱스를 0~9까지 슬라이싱\n",
    "# 열의 경우 테마파크 이름, 롤러코스터 유형, 흥미도, 최고 속도의 인덱스값을 추출\n"
   ]
  },
  {
   "cell_type": "markdown",
   "id": "f3a141ac",
   "metadata": {},
   "source": [
    "#### 탐색 정보 결과\n",
    "- 속도다 89로 가장 빠른 롤러코스터를 가진 테마파크는 Vertigo Views로 타입은 Hypercoaster 이며 흥미도는 9.48로 탑 10 안의 롤러코스터 중 가장 높다. "
   ]
  },
  {
   "cell_type": "markdown",
   "id": "0e91cfe6",
   "metadata": {},
   "source": [
    "### 탐색 정보2 알아보기\n",
    "- 롤러코스터 유형 속성에는 몇가지 유형이 있으며 어떤 유형이 가장 많은지 알아보기"
   ]
  },
  {
   "cell_type": "code",
   "execution_count": null,
   "id": "abd588a2",
   "metadata": {},
   "outputs": [],
   "source": [
    "# unique() 메소드를 사용하면 데이터의 고유한 값에 어떤 것이 있는지 알 수 있음 \n"
   ]
  },
  {
   "cell_type": "code",
   "execution_count": null,
   "id": "b1afecf4",
   "metadata": {},
   "outputs": [],
   "source": [
    "# 총 몇 개의 유형이 있는지 살펴보려면 nunique() 메소드를 사용\n"
   ]
  },
  {
   "cell_type": "code",
   "execution_count": null,
   "id": "ad0d6f89",
   "metadata": {},
   "outputs": [],
   "source": [
    "# 롤러코스터 유형 속성의 유형별 개수를 파악하기 위해 value_counts() 메소드 사용\n"
   ]
  },
  {
   "cell_type": "code",
   "execution_count": null,
   "id": "abc46bf7",
   "metadata": {},
   "outputs": [],
   "source": [
    "# 기본 막대 그래프로 시각화\n"
   ]
  },
  {
   "cell_type": "code",
   "execution_count": null,
   "id": "0fe5f404",
   "metadata": {},
   "outputs": [],
   "source": [
    "# 막대그래프의 크기와 막대 너비 조정 및 x축과 y축 이름 출력\n"
   ]
  },
  {
   "cell_type": "code",
   "execution_count": null,
   "id": "a1959ef0",
   "metadata": {},
   "outputs": [],
   "source": [
    "# 막대 그래프의 막대에 문자열 출력\n",
    "# plt.text(x축 위치, y축 위치, 출력할 내용)\n"
   ]
  },
  {
   "cell_type": "code",
   "execution_count": null,
   "id": "4cb4ac91",
   "metadata": {},
   "outputs": [],
   "source": [
    "# 반목문 사용하여 막대그래프의 막대에 문자열 출력\n"
   ]
  },
  {
   "cell_type": "markdown",
   "id": "18eb224a",
   "metadata": {},
   "source": [
    "#### 탐색 정보 결과\n",
    "- 롤러코스터 종류중 가장 많은 수를 차지하는 롤러코스터는 Wooden Roller Coaster인 것을 알 수 있다."
   ]
  },
  {
   "cell_type": "markdown",
   "id": "0963dae5",
   "metadata": {},
   "source": [
    "### 탐색 정보3 알아보기\n",
    "- '최고 속도', '탑승 시간', '롤러코스터 길이', '최고 낙하 높이' 속성 중 '흥미도' 속성과 가장 관련이 깊은 속성은 무엇인지 알아보기"
   ]
  },
  {
   "cell_type": "markdown",
   "id": "eafe40c7",
   "metadata": {},
   "source": [
    "#### 상관관계 분석\n",
    "- 어떤 속성과 관련이 깊은 속성이 무엇인지 알기 위해서는 먼저 속성 간의 관계를 수치로 파악하는 '상관관계 분석'을 실시해야함.\n",
    "- 그 후 상관관계 분석 결과를 내림차순으로 정렬하여 흥미도 속성과 관련이 깊은 속성을 찾아야함."
   ]
  },
  {
   "cell_type": "code",
   "execution_count": null,
   "id": "0a166050",
   "metadata": {},
   "outputs": [],
   "source": [
    "# 속성 중 숫자형 데이터만을 다루는 속성만 추출\n",
    "\n",
    "# 각 속성 간의 상관관계를 구함.\n"
   ]
  },
  {
   "cell_type": "code",
   "execution_count": null,
   "id": "c826ccac",
   "metadata": {},
   "outputs": [],
   "source": [
    "# 흥미도 속성과 이외 속성들간의 상관관계만 추출하여 막대그래프로 추출\n",
    "\n",
    "    # '%.2f'는 소수점 아래 둘째 자리까지의 실수로 출력하라는 의미\n",
    "    \n",
    "    "
   ]
  },
  {
   "cell_type": "code",
   "execution_count": null,
   "id": "fa6588c2",
   "metadata": {},
   "outputs": [],
   "source": [
    "# 흥미도 속성과 높은 상관관계를 보이는 속성을 sort_values() 메소드를 사용하여 내림차순으로 정렬\n"
   ]
  },
  {
   "cell_type": "markdown",
   "id": "12bf7427",
   "metadata": {},
   "source": [
    "#### 탐색 정보 결과\n",
    "- '흥미도' 속성과 관련 있는 속성은 '최고 속도' 속성과 '탑승 시간' 속성, '탑승길이', '가장 높은 떨어지는 구간의 높이'로\n",
    "롤러코스터를 타는 고객들은 속도가 빠르고 탑승 길이와 시간이 길며 떨어지는 구간의 높이가 큰 롤러코스터를 좋아하는 것을 알 수 있다."
   ]
  },
  {
   "cell_type": "markdown",
   "id": "ec7d71b8",
   "metadata": {},
   "source": [
    "### +)상관관계\n",
    "| 상관관계 $r$값의 절댓값 | 상관관계 정도 |\n",
    "|---|---|\n",
    "| 0.0 ~ 0.2 | 상관관계가 거의 없다. |\n",
    "| 0.2 ~ 0.4 | 상관관계가 낮다. |\n",
    "| 0.4 ~ 0.6 | 상관관계가 있다. |\n",
    "| 0.6 ~ 0.8 | 상관관계가 높다. |\n",
    "| 0.8 ~ 1.0 | 상관관계가 매우 높다. |"
   ]
  },
  {
   "cell_type": "markdown",
   "id": "9a3094fd",
   "metadata": {},
   "source": []
  }
 ],
 "metadata": {
  "kernelspec": {
   "display_name": ".venv",
   "language": "python",
   "name": "python3"
  },
  "language_info": {
   "codemirror_mode": {
    "name": "ipython",
    "version": 3
   },
   "file_extension": ".py",
   "mimetype": "text/x-python",
   "name": "python",
   "nbconvert_exporter": "python",
   "pygments_lexer": "ipython3",
   "version": "3.13.7"
  }
 },
 "nbformat": 4,
 "nbformat_minor": 5
}
