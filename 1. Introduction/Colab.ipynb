{
 "cells": [
  {
   "cell_type": "markdown",
   "id": "d9f6711e",
   "metadata": {},
   "source": [
    "# 코랩(Colab) 설명 핵심 정리\n",
    "## 코랩은 무엇인가? (아주 짧게)\n",
    "인터넷만 되면 바로 사용하는 프로그램 개발 도구.\n",
    "\n",
    "구글이 무료로 제공하는 서비스.\n",
    "\n",
    "1. 코랩을 한 번 켜보자\n",
    "\n",
    "2. 코랩 +새노트를 클릭해서 새로운 노트를 만들자\n",
    "\n",
    "3. +코드, +텍스트를 한 번 눌러보자\n",
    "\n",
    "4. 각각의 블럭이 있는데 이 각 블럭을 '셀'이라고 부름\n",
    "\n",
    "5. 코드 셀 - 말 그대로 코딩을 할 수 있는 블럭 여기서는 파이썬만 가능\n",
    "\n",
    "6. 각 코드 셀을 서로 공유가 됨"
   ]
  },
  {
   "cell_type": "code",
   "execution_count": 5,
   "id": "95b084dc",
   "metadata": {},
   "outputs": [],
   "source": [
    "x = 2"
   ]
  },
  {
   "cell_type": "code",
   "execution_count": 6,
   "id": "bfa2d7be",
   "metadata": {},
   "outputs": [],
   "source": [
    "y = 3"
   ]
  },
  {
   "cell_type": "code",
   "execution_count": 7,
   "id": "5b234983",
   "metadata": {},
   "outputs": [
    {
     "name": "stdout",
     "output_type": "stream",
     "text": [
      "5\n"
     ]
    }
   ],
   "source": [
    "print(x + y)"
   ]
  },
  {
   "cell_type": "markdown",
   "id": "efde98d9",
   "metadata": {},
   "source": [
    "## 단축키 설명"
   ]
  },
  {
   "cell_type": "markdown",
   "id": "8708bd08",
   "metadata": {},
   "source": [
    "1. 코드 셀을 실행시키거나 텍스트 셀도 실행을 시키는 방법\n",
    "    - ctrl + enter -> 현재 셀을 실행\n",
    "    - shift + enter -> 현재 셀을 실행하고 다음 셀로 넘어감\n",
    "    - alt + enter -> 현재 셀을 실행하고 다음 셀을 생성함 그리고 다음 셀로 넘어감"
   ]
  },
  {
   "cell_type": "code",
   "execution_count": 1,
   "id": "fb1d5fb4",
   "metadata": {},
   "outputs": [
    {
     "name": "stdout",
     "output_type": "stream",
     "text": [
      "현재 셀을 실행\n"
     ]
    }
   ],
   "source": [
    "# ctrl + enter\n",
    "print(\"현재 셀을 실행\")"
   ]
  },
  {
   "cell_type": "code",
   "execution_count": 2,
   "id": "e6e65976",
   "metadata": {},
   "outputs": [
    {
     "name": "stdout",
     "output_type": "stream",
     "text": [
      "현재 셀을 실행하고 다음 셀로 넘어감\n"
     ]
    }
   ],
   "source": [
    "# shift + enter\n",
    "print(\"현재 셀을 실행하고 다음 셀로 넘어감\")"
   ]
  },
  {
   "cell_type": "code",
   "execution_count": 3,
   "id": "32208154",
   "metadata": {},
   "outputs": [
    {
     "name": "stdout",
     "output_type": "stream",
     "text": [
      "현재 셀을 실행하고 다음 셀을 생성함 그리고 다음 셀로 넘어감\n"
     ]
    }
   ],
   "source": [
    "# alt + enter\n",
    "print(\"현재 셀을 실행하고 다음 셀을 생성함 그리고 다음 셀로 넘어감\")"
   ]
  },
  {
   "cell_type": "markdown",
   "id": "d9542d01",
   "metadata": {},
   "source": [
    "2. 코드 셀 생성 방법\n",
    "    - ctrl+m+b\n",
    "\n",
    "3. 코드 셀을 텍스트 셀로 번경\n",
    "    - ctrl+m+m\n",
    "\n",
    "4. 텍스트 셀을 코드 셀로 번경\n",
    "    - ctrl + m + y\n",
    "    \n",
    "5. 셀 삭제 방법\n",
    "    - ctrl + m + d"
   ]
  }
 ],
 "metadata": {
  "kernelspec": {
   "display_name": "3.11.11",
   "language": "python",
   "name": "python3"
  },
  "language_info": {
   "codemirror_mode": {
    "name": "ipython",
    "version": 3
   },
   "file_extension": ".py",
   "mimetype": "text/x-python",
   "name": "python",
   "nbconvert_exporter": "python",
   "pygments_lexer": "ipython3",
   "version": "3.11.11"
  }
 },
 "nbformat": 4,
 "nbformat_minor": 5
}
